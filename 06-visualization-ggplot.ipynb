{
 "cells": [
  {
   "cell_type": "markdown",
   "metadata": {
    "collapsed": true
   },
   "source": [
    "## Making Plots With plotnine\n",
    "\n",
    "### Questions:\n",
    "    - \"How can I visualize data in Python?\"\n",
    "    - \"What is 'grammar of graphics'?\"\n",
    "\n",
    "### Objectives:\n",
    "    - \"Create a `plotnine` object.\"\n",
    "    - \"Set universal plot settings.\"\n",
    "    - \"Modify an existing plotnine object.\"\n",
    "    - \"Change the aesthetics of a plot such as color.\"\n",
    "    - \"Edit the axis labels.\"\n",
    "    - \"Build complex plots using a step-by-step approach.\"\n",
    "    - \"Create scatter plots, box plots, and time series plots.\"\n",
    "    - \"Use the facet_wrap and facet_grid commands to create a collection of plots splitting the data by a factor variable.\"\n",
    "    - \"Create customized plot styles to meet their needs.\"\n",
    "keypoints:\n",
    "    - \"The `data`, `aes` variables and a `geometry` are the main elements of a plotnine graph\"\n",
    "    - \"With the `+` operator, additional `scale_*`, `theme_*`, `xlab/ylab` and `facet_*` elements are added\""
   ]
  },
  {
   "cell_type": "code",
   "execution_count": null,
   "metadata": {},
   "outputs": [],
   "source": [
    "!pip install plotnine"
   ]
  },
  {
   "cell_type": "markdown",
   "metadata": {
    "collapsed": true
   },
   "source": [
    "### Disclaimer\n",
    "\n",
    "Python has powerful built-in plotting capabilities such as `matplotlib`, but for\n",
    "this episode, we will be using the [`plotnine`](https://plotnine.readthedocs.io/en/stable/)\n",
    "package, which facilitates the creation of highly-informative plots of\n",
    "structured data based on the R implementation of [`ggplot2`](http://ggplot2.org/)\n",
    "and [The Grammar of Graphics](http://link.springer.com/book/10.1007%2F0-387-28695-0)\n",
    "by Leland Wilkinson. The [`plotnine`](https://plotnine.readthedocs.io/en/stable/)\n",
    "package is built on top of Matplotlib and interacts well with Pandas.\n",
    "\n",
    "Just as with the other packages, `plotnine` need to be imported. It is good\n",
    "practice to not just load an entire package such as `from plotnine import *`,\n",
    "but to use an abbreviation as we used `pd` for Pandas:"
   ]
  },
  {
   "cell_type": "code",
   "execution_count": null,
   "metadata": {},
   "outputs": [],
   "source": [
    "%matplotlib inline\n",
    "import plotnine as p9"
   ]
  },
  {
   "cell_type": "markdown",
   "metadata": {
    "collapsed": true
   },
   "source": [
    "From now on, the functions of `plotnine` are available using `p9.`. For the\n",
    "exercise, we will use the `surveys.csv` data set, with the `NA` values removed"
   ]
  },
  {
   "cell_type": "code",
   "execution_count": null,
   "metadata": {},
   "outputs": [],
   "source": [
    "import pandas as pd\n",
    "\n",
    "surveys_complete = pd.read_csv('data/surveys.csv')\n",
    "surveys_complete = surveys_complete.dropna()"
   ]
  },
  {
   "cell_type": "markdown",
   "metadata": {
    "collapsed": true
   },
   "source": [
    "### Plotting with plotnine\n",
    "\n",
    "The `plotnine` package (cfr. other packages conform [The Grammar of Graphics](http://link.springer.com/book/10.1007%2F0-387-28695-0)) supports the creation of complex plots from data in a\n",
    "dataframe. It uses default settings, which help creating publication quality\n",
    "plots with a minimal amount of settings and tweaking.\n",
    "\n",
    "`plotnine` graphics are built step by step by adding new elementsadding\n",
    "different elements on top of each other using the `+` operator. Putting the\n",
    "individual steps together in brackets `()` provides Python-compatible syntax.\n",
    "\n",
    "To build a `plotnine` graphic we need to:\n",
    "\n",
    "- Bind the plot to a specific data frame using the `data` argument:"
   ]
  },
  {
   "cell_type": "code",
   "execution_count": null,
   "metadata": {},
   "outputs": [],
   "source": [
    "p9.ggplot(data=surveys_complete)"
   ]
  },
  {
   "cell_type": "markdown",
   "metadata": {
    "collapsed": true
   },
   "source": [
    "As we have not defined anything else, just an empty figure is available and\n",
    "presented.\n",
    "\n",
    "As we have not defined anything else, just an empty figure is available and\n",
    "presented.\n",
    "\n",
    "- Define aesthetics (`aes`), by **selecting variables** used in the plot and\n",
    "`mapping` them to a presentation such as plotting size, shape color, etc. You\n",
    "can interpret this as: *which** of the variables will influence the plotted\n",
    "objects/geometries:"
   ]
  },
  {
   "cell_type": "code",
   "execution_count": null,
   "metadata": {},
   "outputs": [],
   "source": [
    "p9.ggplot(data=surveys_complete,\n",
    "           mapping=p9.aes(x='weight', y='hindfoot_length'))"
   ]
  },
  {
   "cell_type": "markdown",
   "metadata": {
    "collapsed": true
   },
   "source": [
    "The most important aes mappings are: `x`, `y`, `alpha`, `color`, `colour`,\n",
    "`fill`, `linetype`, `shape`, `size` and `stroke`.\n",
    "\n",
    "- Still no specific data is plotted, as we have to define what kind of geometry\n",
    "will be used for the plot. The most straightforward is probably using points.\n",
    "Points is one of the `geoms` options, the graphical representation of the data\n",
    "in the plot. Others are lines, bars,... To add a geom to the plot use `+`\n",
    "operator:"
   ]
  },
  {
   "cell_type": "code",
   "execution_count": null,
   "metadata": {},
   "outputs": [],
   "source": [
    "p9.ggplot(data=surveys_complete,\n",
    "           mapping=p9.aes(x='weight', y='hindfoot_length'))\n",
    "    + p9.geom_point()"
   ]
  },
  {
   "cell_type": "markdown",
   "metadata": {
    "collapsed": true
   },
   "source": [
    "The `+` in the `plotnine` package is particularly useful because it allows you\n",
    "to modify existing `plotnine` objects. This means you can easily set up plot\n",
    "*templates* and conveniently explore different types of plots, so the above\n",
    "plot can also be generated with code like this:"
   ]
  },
  {
   "cell_type": "code",
   "execution_count": null,
   "metadata": {},
   "outputs": [],
   "source": [
    "# Create\n",
    "surveys_plot = p9.ggplot(data=surveys_complete,\n",
    "                         mapping=p9.aes(x='weight', y='hindfoot_length'))\n",
    "\n",
    "# Draw the plot\n",
    "surveys_plot + p9.geom_point()"
   ]
  },
  {
   "cell_type": "markdown",
   "metadata": {
    "collapsed": true
   },
   "source": [
    "### Challenge - bar chart\n",
    "Working on the `surveys_complete` data set, use the `plot-id` column to\n",
    "create a `bar`-plot that counts the number of records for each plot. (Check\n",
    "the documentation of the bar geometry to handle the counts)"
   ]
  },
  {
   "cell_type": "code",
   "execution_count": null,
   "metadata": {},
   "outputs": [],
   "source": []
  },
  {
   "cell_type": "markdown",
   "metadata": {
    "collapsed": true
   },
   "source": [
    "Notes:\n",
    "\n",
    "- Anything you put in the `ggplot()` function can be seen by any geom layers\n",
    "that you add (i.e., these are universal plot settings). This includes the `x`\n",
    "and `y` axis you set up in `aes()`.\n",
    "- You can also specify aesthetics for a given `geom` independently of the\n",
    "aesthetics defined globally in the `ggplot()` function.\n",
    "\n",
    "### Building your plots iteratively\n",
    "\n",
    "Building plots with `plotnine` is typically an iterative process. We start by\n",
    "defining the dataset we'll use, lay the axes, and choose a geom. Hence, the\n",
    "`data`, `aes` and `geom-*` are the elementary elements of any graph:"
   ]
  },
  {
   "cell_type": "code",
   "execution_count": null,
   "metadata": {},
   "outputs": [],
   "source": [
    "p9.ggplot(data=surveys_complete, mapping=p9.aes(x='weight', y='hindfoot_length')) + p9.geom_point()"
   ]
  },
  {
   "cell_type": "markdown",
   "metadata": {
    "collapsed": true
   },
   "source": [
    "Then, we start modifying this plot to extract more information from it. For\n",
    "instance, we can add transparency (alpha) to avoid overplotting:"
   ]
  },
  {
   "cell_type": "code",
   "execution_count": null,
   "metadata": {},
   "outputs": [],
   "source": [
    "p9.ggplot(data=surveys_complete, mapping=p9.aes(x='weight', y='hindfoot_length')) + p9.geom_point(alpha=0.1)"
   ]
  },
  {
   "cell_type": "markdown",
   "metadata": {
    "collapsed": true
   },
   "source": [
    "We can also add colors for all the points"
   ]
  },
  {
   "cell_type": "code",
   "execution_count": null,
   "metadata": {},
   "outputs": [],
   "source": [
    "p9.ggplot(data=surveys_complete, mapping=p9.aes(x='weight', y='hindfoot_length')) + p9.geom_point(alpha=0.1, color='blue')"
   ]
  },
  {
   "cell_type": "markdown",
   "metadata": {
    "collapsed": true
   },
   "source": [
    "Or to color each species in the plot differently, map the `species_id` column\n",
    "to the color aesthetic:"
   ]
  },
  {
   "cell_type": "code",
   "execution_count": null,
   "metadata": {},
   "outputs": [],
   "source": [
    "p9.ggplot(data=surveys_complete, mapping=p9.aes(x='weight', y='hindfoot_length', color='species_id')) + p9.geom_point(alpha=0.1)"
   ]
  },
  {
   "cell_type": "markdown",
   "metadata": {
    "collapsed": true
   },
   "source": [
    "Apart from the adaptations of the arguments and settings of the `data`, `aes`\n",
    "and `geom-*` elements, additional elements can be added as well, using the `+`\n",
    "operator:\n",
    "\n",
    "- Changing the labels:"
   ]
  },
  {
   "cell_type": "code",
   "execution_count": null,
   "metadata": {},
   "outputs": [],
   "source": [
    "(p9.ggplot(data=surveys_complete,\n",
    "           mapping=p9.aes(x='weight', y='hindfoot_length', color='species_id'))\n",
    "    + p9.geom_point(alpha=0.1)\n",
    "    + p9.xlab(\"Weight (g)\")\n",
    ")"
   ]
  },
  {
   "cell_type": "markdown",
   "metadata": {
    "collapsed": true
   },
   "source": [
    "- Defining scale for colors, axes,... For example, a log-version of the x-axis\n",
    "could support the interpretation of the lower numbers:"
   ]
  },
  {
   "cell_type": "code",
   "execution_count": null,
   "metadata": {},
   "outputs": [],
   "source": [
    "(p9.ggplot(data=surveys_complete,\n",
    "           mapping=p9.aes(x='weight', y='hindfoot_length', color='species_id'))\n",
    "    + p9.geom_point(alpha=0.1)\n",
    "    + p9.xlab(\"Weight (g)\")\n",
    "    + p9.scale_x_log10()\n",
    ")"
   ]
  },
  {
   "cell_type": "markdown",
   "metadata": {
    "collapsed": true
   },
   "source": [
    "- Changing the theme (`theme_*`) or some specific theming (`theme`) elements.\n",
    "Usually plots with white background look more readable when printed.  We can\n",
    "set the background to white using the function `theme_bw()`."
   ]
  },
  {
   "cell_type": "code",
   "execution_count": null,
   "metadata": {},
   "outputs": [],
   "source": [
    "(p9.ggplot(data=surveys_complete,\n",
    "           mapping=p9.aes(x='weight', y='hindfoot_length', color='species_id'))\n",
    "    + p9.geom_point(alpha=0.1)\n",
    "    + p9.xlab(\"Weight (g)\")\n",
    "    + p9.scale_x_log10()\n",
    "    + p9.theme_bw()\n",
    "    + p9.theme(text=p9.element_text(size=16))\n",
    ")"
   ]
  },
  {
   "cell_type": "markdown",
   "metadata": {
    "collapsed": true
   },
   "source": [
    "### Challenge - Bar plot adaptations\n",
    "Adapt the bar plot of the previous exercise by mapping the `sex` variable to\n",
    "the color fill of the bar chart. Change the `scale` of the color fill by\n",
    "providing the colors `blue` and `orange` manually\n",
    "(see [API reference](https://plotnine.readthedocs.io/en/stable/api.html#Color-and-fill-scales) to find the appropriate function)."
   ]
  },
  {
   "cell_type": "code",
   "execution_count": null,
   "metadata": {},
   "outputs": [],
   "source": []
  },
  {
   "cell_type": "markdown",
   "metadata": {
    "collapsed": true
   },
   "source": [
    "### Plotting distributions\n",
    "\n",
    "Visualizing distributions is a common task during data exploration and\n",
    "analysis. To visualize the distribution of `weight` within each `species_id`\n",
    "group, a boxplot can be used:"
   ]
  },
  {
   "cell_type": "code",
   "execution_count": null,
   "metadata": {},
   "outputs": [],
   "source": [
    "(p9.ggplot(data=surveys_complete,\n",
    "           mapping=p9.aes(x='species_id',\n",
    "                          y='weight'))\n",
    "    + p9.geom_boxplot()\n",
    ")"
   ]
  },
  {
   "cell_type": "markdown",
   "metadata": {
    "collapsed": true
   },
   "source": [
    "By adding points of the individual observations to the boxplot, we can have a\n",
    "better idea of the number of measurements and of their distribution:"
   ]
  },
  {
   "cell_type": "code",
   "execution_count": null,
   "metadata": {},
   "outputs": [],
   "source": [
    "(p9.ggplot(data=surveys_complete,\n",
    "           mapping=p9.aes(x='species_id',\n",
    "                          y='weight'))\n",
    "    + p9.geom_jitter(alpha=0.2)\n",
    "    + p9.geom_boxplot(alpha=0.)\n",
    ")"
   ]
  },
  {
   "cell_type": "markdown",
   "metadata": {
    "collapsed": true
   },
   "source": [
    "### Plotting time series data\n",
    "\n",
    "Let's calculate number of counts per year for each species. To do that we need\n",
    "to group data first and count the species (`species_id`) within each group."
   ]
  },
  {
   "cell_type": "code",
   "execution_count": null,
   "metadata": {
    "scrolled": true
   },
   "outputs": [],
   "source": [
    "yearly_counts = surveys_complete.groupby(['year', 'species_id'])['species_id'].count()\n",
    "yearly_counts"
   ]
  },
  {
   "cell_type": "markdown",
   "metadata": {
    "collapsed": true
   },
   "source": [
    "When checking the result of the previous calculation, we actually have both the\n",
    "`year` and the `species_id` as a row index. We can reset this index to use both\n",
    "as column variable:"
   ]
  },
  {
   "cell_type": "code",
   "execution_count": null,
   "metadata": {
    "scrolled": true
   },
   "outputs": [],
   "source": [
    "yearly_counts = yearly_counts.reset_index(name='counts')\n",
    "yearly_counts"
   ]
  },
  {
   "cell_type": "markdown",
   "metadata": {
    "collapsed": true
   },
   "source": [
    "Timelapse data can be visualised as a line plot (`geom_line`) with years on `x`\n",
    "axis and counts on the `y` axis."
   ]
  },
  {
   "cell_type": "code",
   "execution_count": null,
   "metadata": {},
   "outputs": [],
   "source": [
    "(p9.ggplot(data=yearly_counts,\n",
    "           mapping=p9.aes(x='year',\n",
    "                          y='counts'))\n",
    "    + p9.geom_line()\n",
    ")"
   ]
  },
  {
   "cell_type": "markdown",
   "metadata": {
    "collapsed": true
   },
   "source": [
    "Unfortunately this does not work, because we plot data for all the species\n",
    "together. We need to tell `plotnine` to draw a line for each species by\n",
    "modifying the aesthetic function and map the species_id to the color:"
   ]
  },
  {
   "cell_type": "code",
   "execution_count": null,
   "metadata": {},
   "outputs": [],
   "source": [
    "(p9.ggplot(data=yearly_counts,\n",
    "           mapping=p9.aes(x='year',\n",
    "                          y='counts',\n",
    "                          color='species_id'))\n",
    "    + p9.geom_line()\n",
    ")"
   ]
  },
  {
   "cell_type": "markdown",
   "metadata": {
    "collapsed": true
   },
   "source": [
    "### Faceting\n",
    "\n",
    "As any other library supporting the Grammar of Graphics, `plotnine` has a\n",
    "special technique called *faceting* that allows to split one plot into multiple\n",
    "plots based on a factor variable included in the dataset.\n",
    "\n",
    "Consider our scatter plot of the `weight` versus the `hindfoot_length` from the\n",
    "previous sections:"
   ]
  },
  {
   "cell_type": "code",
   "execution_count": null,
   "metadata": {},
   "outputs": [],
   "source": [
    "(p9.ggplot(data=surveys_complete,\n",
    "           mapping=p9.aes(x='weight',\n",
    "                          y='hindfoot_length',\n",
    "                          color='species_id'))\n",
    "    + p9.geom_point(alpha=0.1)\n",
    ")"
   ]
  },
  {
   "cell_type": "markdown",
   "metadata": {
    "collapsed": true
   },
   "source": [
    "We can now keep the same code and at the `facet_wrap` on a chosen variable to\n",
    "split out the graph and make a separate graph for each of the groups in that\n",
    "variable. As an example, use `sex`:"
   ]
  },
  {
   "cell_type": "code",
   "execution_count": null,
   "metadata": {},
   "outputs": [],
   "source": [
    "(p9.ggplot(data=surveys_complete,\n",
    "           mapping=p9.aes(x='weight',\n",
    "                          y='hindfoot_length',\n",
    "                          color='species_id'))\n",
    "    + p9.geom_point(alpha=0.1)\n",
    "    + p9.facet_wrap(\"sex\")\n",
    ")"
   ]
  },
  {
   "cell_type": "markdown",
   "metadata": {
    "collapsed": true
   },
   "source": [
    "We can apply the same concept on any of the available categorical variables:"
   ]
  },
  {
   "cell_type": "code",
   "execution_count": null,
   "metadata": {},
   "outputs": [],
   "source": [
    "(p9.ggplot(data=surveys_complete,\n",
    "           mapping=p9.aes(x='weight',\n",
    "                          y='hindfoot_length',\n",
    "                          color='species_id'))\n",
    "    + p9.geom_point(alpha=0.1)\n",
    "    + p9.facet_wrap(\"plot_id\")\n",
    ")"
   ]
  },
  {
   "cell_type": "markdown",
   "metadata": {
    "collapsed": true
   },
   "source": [
    "The `facet_wrap` geometry extracts plots into an arbitrary number of dimensions\n",
    "to allow them to cleanly fit on one page. On the other hand, the `facet_grid`\n",
    "geometry allows you to explicitly specify how you want your plots to be\n",
    "arranged via formula notation (`rows ~ columns`; a `.` can be used as a\n",
    "placeholder that indicates only one row or column)."
   ]
  },
  {
   "cell_type": "code",
   "execution_count": null,
   "metadata": {},
   "outputs": [],
   "source": [
    "# only select the years of interest\n",
    "survey_2000 = surveys_complete[surveys_complete[\"year\"].isin([2000, 2001])]\n",
    "\n",
    "(p9.ggplot(data=survey_2000,\n",
    "           mapping=p9.aes(x='weight',\n",
    "                          y='hindfoot_length',\n",
    "                          color='species_id'))\n",
    "    + p9.geom_point(alpha=0.1)\n",
    "    + p9.facet_grid(\"year ~ sex\")\n",
    ")"
   ]
  },
  {
   "cell_type": "markdown",
   "metadata": {
    "collapsed": true
   },
   "source": [
    "### Challenge - facetting\n",
    "Create a separate plot for each of the species that depicts how the average\n",
    "weight of the species changes through the years."
   ]
  },
  {
   "cell_type": "code",
   "execution_count": null,
   "metadata": {},
   "outputs": [],
   "source": [
    "yearly_weight = surveys_complete.groupby(['year', 'species_id'])['weight'].mean().reset_index()"
   ]
  },
  {
   "cell_type": "markdown",
   "metadata": {
    "collapsed": true
   },
   "source": [
    "### Challenge - facetting\n",
    "Based on the previous exercise, visually compare how the weights of male and\n",
    "females has changed through time by creating a separate plot for each sex and\n",
    "an individual color assigned to each `species_id`."
   ]
  },
  {
   "cell_type": "code",
   "execution_count": null,
   "metadata": {},
   "outputs": [],
   "source": [
    "yearly_weight = surveys_complete.groupby(['year', 'species_id', 'sex'])['weight'].mean().reset_index()"
   ]
  },
  {
   "cell_type": "markdown",
   "metadata": {
    "collapsed": true
   },
   "source": [
    "### Further customization\n",
    "\n",
    "As the syntax of `plotnine` follows the original R package `ggplot2`, the\n",
    "documentation of `ggplot2` can provide information and inspiration to customize\n",
    "graphs. Take a look at the `ggplot2` [cheat sheet](https://www.rstudio.com/wp-content/uploads/2015/08/ggplot2-cheatsheet.pdf), and think of ways to improve the plot. You can write down some\n",
    "of your ideas as comments in the Etherpad.\n",
    "\n",
    "The theming options provide a rich set of visual adaptations. Consider the\n",
    "following example of a bar plot with the counts per year."
   ]
  },
  {
   "cell_type": "code",
   "execution_count": null,
   "metadata": {},
   "outputs": [],
   "source": [
    "(p9.ggplot(data=surveys_complete,\n",
    "           mapping=p9.aes(x='factor(year)'))\n",
    "    + p9.geom_bar()\n",
    ")"
   ]
  },
  {
   "cell_type": "markdown",
   "metadata": {
    "collapsed": true
   },
   "source": [
    "Notice that we use the `year` here as a categorical variable by using the\n",
    "`factor` functionality. However, by doing so, we have the individual year\n",
    "labels overlapping with eachother. The `theme` functionality provides a way to\n",
    "rotate the text of the x-axis labels:"
   ]
  },
  {
   "cell_type": "code",
   "execution_count": null,
   "metadata": {},
   "outputs": [],
   "source": [
    "(p9.ggplot(data=surveys_complete,\n",
    "           mapping=p9.aes(x='factor(year)'))\n",
    "    + p9.geom_bar()\n",
    "    + p9.theme_bw()\n",
    "    + p9.theme(axis_text_x = p9.element_text(angle=90))\n",
    ")"
   ]
  },
  {
   "cell_type": "markdown",
   "metadata": {
    "collapsed": true
   },
   "source": [
    "When you like a specific set of theme-customizations you created, you can save\n",
    "them as an object to easily apply them to other plots you may create:"
   ]
  },
  {
   "cell_type": "code",
   "execution_count": null,
   "metadata": {},
   "outputs": [],
   "source": [
    "my_custom_theme = p9.theme(axis_text_x = p9.element_text(color=\"grey\", size=10,\n",
    "                                                         angle=90, hjust=.5),\n",
    "                           axis_text_y = p9.element_text(color=\"grey\", size=10))\n",
    "(p9.ggplot(data=surveys_complete,\n",
    "           mapping=p9.aes(x='factor(year)'))\n",
    "    + p9.geom_bar()\n",
    "    + my_custom_theme\n",
    ")"
   ]
  },
  {
   "cell_type": "markdown",
   "metadata": {
    "collapsed": true
   },
   "source": [
    "### Challenge - customization\n",
    "\n",
    "Please take another five minutes to either improve one of the plots\n",
    "generated in this exercise or create a beautiful graph of your own.\n",
    "\n",
    "Here are some ideas:\n",
    "\n",
    "* See if you can change thickness of lines for the line plot .\n",
    "* Can you find a way to change the name of the legend? What about its labels?\n",
    "* Use a different color palette (see http://www.cookbook-r.com/Graphs/Colors_(ggplot2)/)\n",
    "{: .challenge}"
   ]
  },
  {
   "cell_type": "markdown",
   "metadata": {
    "collapsed": true
   },
   "source": [
    "After creating your plot, you can save it to a file in your favourite format.\n",
    "You can easily change the dimension (and its resolution) of your plot by\n",
    "adjusting the appropriate arguments (`width`, `height` and `dpi`):"
   ]
  },
  {
   "cell_type": "code",
   "execution_count": null,
   "metadata": {},
   "outputs": [],
   "source": [
    "my_plot = (p9.ggplot(data=surveys_complete,\n",
    "           mapping=p9.aes(x='weight', y='hindfoot_length'))\n",
    "    + p9.geom_point()\n",
    ")\n",
    "my_plot.save(\"scatterplot.png\", width=10, height=10, dpi=300)"
   ]
  }
 ],
 "metadata": {
  "kernelspec": {
   "display_name": "Python 3",
   "language": "python",
   "name": "python3"
  },
  "language_info": {
   "codemirror_mode": {
    "name": "ipython",
    "version": 3
   },
   "file_extension": ".py",
   "mimetype": "text/x-python",
   "name": "python",
   "nbconvert_exporter": "python",
   "pygments_lexer": "ipython3",
   "version": "3.7.3"
  }
 },
 "nbformat": 4,
 "nbformat_minor": 2
}
