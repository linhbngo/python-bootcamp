{
  "cells": [
    {
      "metadata": {
        "collapsed": true
      },
      "cell_type": "markdown",
      "source": "## Making Plots With plotnine\n\n### Questions:\n    - \"How can I visualize data in Python?\"\n    - \"What is 'grammar of graphics'?\"\n\n### Objectives:\n    - \"Create a `plotnine` object.\"\n    - \"Set universal plot settings.\"\n    - \"Modify an existing plotnine object.\"\n    - \"Change the aesthetics of a plot such as color.\"\n    - \"Edit the axis labels.\"\n    - \"Build complex plots using a step-by-step approach.\"\n    - \"Create scatter plots, box plots, and time series plots.\"\n    - \"Use the facet_wrap and facet_grid commands to create a collection of plots splitting the data by a factor variable.\"\n    - \"Create customized plot styles to meet their needs.\"\nkeypoints:\n    - \"The `data`, `aes` variables and a `geometry` are the main elements of a plotnine graph\"\n    - \"With the `+` operator, additional `scale_*`, `theme_*`, `xlab/ylab` and `facet_*` elements are added\""
    },
    {
      "metadata": {
        "trusted": true
      },
      "cell_type": "code",
      "source": "!pip install plotnine",
      "execution_count": null,
      "outputs": []
    },
    {
      "metadata": {
        "collapsed": true
      },
      "cell_type": "markdown",
      "source": "### Disclaimer\n\nPython has powerful built-in plotting capabilities such as `matplotlib`, but for\nthis episode, we will be using the [`plotnine`](https://plotnine.readthedocs.io/en/stable/)\npackage, which facilitates the creation of highly-informative plots of\nstructured data based on the R implementation of [`ggplot2`](http://ggplot2.org/)\nand [The Grammar of Graphics](http://link.springer.com/book/10.1007%2F0-387-28695-0)\nby Leland Wilkinson. The [`plotnine`](https://plotnine.readthedocs.io/en/stable/)\npackage is built on top of Matplotlib and interacts well with Pandas.\n\nJust as with the other packages, `plotnine` need to be imported. It is good\npractice to not just load an entire package such as `from plotnine import *`,\nbut to use an abbreviation as we used `pd` for Pandas:"
    },
    {
      "metadata": {
        "trusted": true
      },
      "cell_type": "code",
      "source": "%matplotlib inline\nimport plotnine as p9",
      "execution_count": null,
      "outputs": []
    },
    {
      "metadata": {
        "collapsed": true
      },
      "cell_type": "markdown",
      "source": "From now on, the functions of `plotnine` are available using `p9.`. For the\nexercise, we will use the `surveys.csv` data set, with the `NA` values removed"
    },
    {
      "metadata": {
        "trusted": true
      },
      "cell_type": "code",
      "source": "import pandas as pd\n\nsurveys_complete = pd.read_csv('data/surveys.csv')\nsurveys_complete = surveys_complete.dropna()",
      "execution_count": null,
      "outputs": []
    },
    {
      "metadata": {
        "collapsed": true
      },
      "cell_type": "markdown",
      "source": "### Plotting with plotnine\n\nThe `plotnine` package (cfr. other packages conform [The Grammar of Graphics](http://link.springer.com/book/10.1007%2F0-387-28695-0)) supports the creation of complex plots from data in a\ndataframe. It uses default settings, which help creating publication quality\nplots with a minimal amount of settings and tweaking.\n\n`plotnine` graphics are built step by step by adding new elementsadding\ndifferent elements on top of each other using the `+` operator. Putting the\nindividual steps together in brackets `()` provides Python-compatible syntax.\n\nTo build a `plotnine` graphic we need to:\n\n- Bind the plot to a specific data frame using the `data` argument:"
    },
    {
      "metadata": {
        "trusted": true
      },
      "cell_type": "code",
      "source": "p9.ggplot(data=surveys_complete)",
      "execution_count": null,
      "outputs": []
    },
    {
      "metadata": {
        "collapsed": true
      },
      "cell_type": "markdown",
      "source": "As we have not defined anything else, just an empty figure is available and\npresented.\n\nAs we have not defined anything else, just an empty figure is available and\npresented.\n\n- Define aesthetics (`aes`), by **selecting variables** used in the plot and\n`mapping` them to a presentation such as plotting size, shape color, etc. You\ncan interpret this as: *which** of the variables will influence the plotted\nobjects/geometries:"
    },
    {
      "metadata": {
        "trusted": true
      },
      "cell_type": "code",
      "source": "p9.ggplot(data=surveys_complete,\n           mapping=p9.aes(x='weight', y='hindfoot_length'))",
      "execution_count": null,
      "outputs": []
    },
    {
      "metadata": {
        "collapsed": true
      },
      "cell_type": "markdown",
      "source": "The most important aes mappings are: `x`, `y`, `alpha`, `color`, `colour`,\n`fill`, `linetype`, `shape`, `size` and `stroke`.\n\n- Still no specific data is plotted, as we have to define what kind of geometry\nwill be used for the plot. The most straightforward is probably using points.\nPoints is one of the `geoms` options, the graphical representation of the data\nin the plot. Others are lines, bars,... To add a geom to the plot use `+`\noperator:"
    },
    {
      "metadata": {
        "trusted": true
      },
      "cell_type": "code",
      "source": "p9.ggplot(data=surveys_complete,\n           mapping=p9.aes(x='weight', y='hindfoot_length'))\n    + p9.geom_point()",
      "execution_count": null,
      "outputs": []
    },
    {
      "metadata": {
        "collapsed": true
      },
      "cell_type": "markdown",
      "source": "The `+` in the `plotnine` package is particularly useful because it allows you\nto modify existing `plotnine` objects. This means you can easily set up plot\n*templates* and conveniently explore different types of plots, so the above\nplot can also be generated with code like this:"
    },
    {
      "metadata": {
        "trusted": true
      },
      "cell_type": "code",
      "source": "# Create\nsurveys_plot = p9.ggplot(data=surveys_complete,\n                         mapping=p9.aes(x='weight', y='hindfoot_length'))\n\n# Draw the plot\nsurveys_plot + p9.geom_point()",
      "execution_count": null,
      "outputs": []
    },
    {
      "metadata": {
        "collapsed": true
      },
      "cell_type": "markdown",
      "source": "### Challenge - bar chart\nWorking on the `surveys_complete` data set, use the `plot-id` column to\ncreate a `bar`-plot that counts the number of records for each plot. (Check\nthe documentation of the bar geometry to handle the counts)"
    },
    {
      "metadata": {
        "trusted": true
      },
      "cell_type": "code",
      "source": "",
      "execution_count": null,
      "outputs": []
    },
    {
      "metadata": {
        "collapsed": true
      },
      "cell_type": "markdown",
      "source": "Notes:\n\n- Anything you put in the `ggplot()` function can be seen by any geom layers\nthat you add (i.e., these are universal plot settings). This includes the `x`\nand `y` axis you set up in `aes()`.\n- You can also specify aesthetics for a given `geom` independently of the\naesthetics defined globally in the `ggplot()` function.\n\n### Building your plots iteratively\n\nBuilding plots with `plotnine` is typically an iterative process. We start by\ndefining the dataset we'll use, lay the axes, and choose a geom. Hence, the\n`data`, `aes` and `geom-*` are the elementary elements of any graph:"
    },
    {
      "metadata": {
        "trusted": true
      },
      "cell_type": "code",
      "source": "p9.ggplot(data=surveys_complete, mapping=p9.aes(x='weight', y='hindfoot_length')) + p9.geom_point()",
      "execution_count": null,
      "outputs": []
    },
    {
      "metadata": {
        "collapsed": true
      },
      "cell_type": "markdown",
      "source": "Then, we start modifying this plot to extract more information from it. For\ninstance, we can add transparency (alpha) to avoid overplotting:"
    },
    {
      "metadata": {
        "trusted": true
      },
      "cell_type": "code",
      "source": "p9.ggplot(data=surveys_complete, mapping=p9.aes(x='weight', y='hindfoot_length')) + p9.geom_point(alpha=0.1)",
      "execution_count": null,
      "outputs": []
    },
    {
      "metadata": {
        "collapsed": true
      },
      "cell_type": "markdown",
      "source": "We can also add colors for all the points"
    },
    {
      "metadata": {
        "trusted": true
      },
      "cell_type": "code",
      "source": "p9.ggplot(data=surveys_complete, mapping=p9.aes(x='weight', y='hindfoot_length')) + p9.geom_point(alpha=0.1, color='blue')",
      "execution_count": null,
      "outputs": []
    },
    {
      "metadata": {
        "collapsed": true
      },
      "cell_type": "markdown",
      "source": "Or to color each species in the plot differently, map the `species_id` column\nto the color aesthetic:"
    },
    {
      "metadata": {
        "trusted": true
      },
      "cell_type": "code",
      "source": "p9.ggplot(data=surveys_complete, mapping=p9.aes(x='weight', y='hindfoot_length', color='species_id')) + p9.geom_point(alpha=0.1)",
      "execution_count": null,
      "outputs": []
    },
    {
      "metadata": {
        "collapsed": true
      },
      "cell_type": "markdown",
      "source": "Apart from the adaptations of the arguments and settings of the `data`, `aes`\nand `geom-*` elements, additional elements can be added as well, using the `+`\noperator:\n\n- Changing the labels:"
    },
    {
      "metadata": {
        "trusted": true
      },
      "cell_type": "code",
      "source": "(p9.ggplot(data=surveys_complete,\n           mapping=p9.aes(x='weight', y='hindfoot_length', color='species_id'))\n    + p9.geom_point(alpha=0.1)\n    + p9.xlab(\"Weight (g)\")\n)",
      "execution_count": null,
      "outputs": []
    },
    {
      "metadata": {
        "collapsed": true
      },
      "cell_type": "markdown",
      "source": "- Defining scale for colors, axes,... For example, a log-version of the x-axis\ncould support the interpretation of the lower numbers:"
    },
    {
      "metadata": {
        "trusted": true
      },
      "cell_type": "code",
      "source": "(p9.ggplot(data=surveys_complete,\n           mapping=p9.aes(x='weight', y='hindfoot_length', color='species_id'))\n    + p9.geom_point(alpha=0.1)\n    + p9.xlab(\"Weight (g)\")\n    + p9.scale_x_log10()\n)",
      "execution_count": null,
      "outputs": []
    },
    {
      "metadata": {
        "collapsed": true
      },
      "cell_type": "markdown",
      "source": "- Changing the theme (`theme_*`) or some specific theming (`theme`) elements.\nUsually plots with white background look more readable when printed.  We can\nset the background to white using the function `theme_bw()`."
    },
    {
      "metadata": {
        "trusted": true
      },
      "cell_type": "code",
      "source": "(p9.ggplot(data=surveys_complete,\n           mapping=p9.aes(x='weight', y='hindfoot_length', color='species_id'))\n    + p9.geom_point(alpha=0.1)\n    + p9.xlab(\"Weight (g)\")\n    + p9.scale_x_log10()\n    + p9.theme_bw()\n    + p9.theme(text=p9.element_text(size=16))\n)",
      "execution_count": null,
      "outputs": []
    },
    {
      "metadata": {
        "collapsed": true
      },
      "cell_type": "markdown",
      "source": "### Challenge - Bar plot adaptations\nAdapt the bar plot of the previous exercise by mapping the `sex` variable to\nthe color fill of the bar chart. Change the `scale` of the color fill by\nproviding the colors `blue` and `orange` manually\n(see [API reference](https://plotnine.readthedocs.io/en/stable/api.html#Color-and-fill-scales) to find the appropriate function)."
    },
    {
      "metadata": {
        "trusted": true
      },
      "cell_type": "code",
      "source": "",
      "execution_count": null,
      "outputs": []
    },
    {
      "metadata": {
        "collapsed": true
      },
      "cell_type": "markdown",
      "source": "### Plotting distributions\n\nVisualizing distributions is a common task during data exploration and\nanalysis. To visualize the distribution of `weight` within each `species_id`\ngroup, a boxplot can be used:"
    },
    {
      "metadata": {
        "trusted": true
      },
      "cell_type": "code",
      "source": "(p9.ggplot(data=surveys_complete,\n           mapping=p9.aes(x='species_id',\n                          y='weight'))\n    + p9.geom_boxplot()\n)",
      "execution_count": null,
      "outputs": []
    },
    {
      "metadata": {
        "collapsed": true
      },
      "cell_type": "markdown",
      "source": "By adding points of the individual observations to the boxplot, we can have a\nbetter idea of the number of measurements and of their distribution:"
    },
    {
      "metadata": {
        "trusted": true
      },
      "cell_type": "code",
      "source": "(p9.ggplot(data=surveys_complete,\n           mapping=p9.aes(x='species_id',\n                          y='weight'))\n    + p9.geom_jitter(alpha=0.2)\n    + p9.geom_boxplot(alpha=0.)\n)",
      "execution_count": null,
      "outputs": []
    },
    {
      "metadata": {
        "collapsed": true
      },
      "cell_type": "markdown",
      "source": "### Plotting time series data\n\nLet's calculate number of counts per year for each species. To do that we need\nto group data first and count the species (`species_id`) within each group."
    },
    {
      "metadata": {
        "trusted": true,
        "scrolled": true
      },
      "cell_type": "code",
      "source": "yearly_counts = surveys_complete.groupby(['year', 'species_id'])['species_id'].count()\nyearly_counts",
      "execution_count": null,
      "outputs": []
    },
    {
      "metadata": {
        "collapsed": true
      },
      "cell_type": "markdown",
      "source": "When checking the result of the previous calculation, we actually have both the\n`year` and the `species_id` as a row index. We can reset this index to use both\nas column variable:"
    },
    {
      "metadata": {
        "trusted": true,
        "scrolled": true
      },
      "cell_type": "code",
      "source": "yearly_counts = yearly_counts.reset_index(name='counts')\nyearly_counts",
      "execution_count": null,
      "outputs": []
    },
    {
      "metadata": {
        "collapsed": true
      },
      "cell_type": "markdown",
      "source": "Timelapse data can be visualised as a line plot (`geom_line`) with years on `x`\naxis and counts on the `y` axis."
    },
    {
      "metadata": {
        "trusted": true
      },
      "cell_type": "code",
      "source": "(p9.ggplot(data=yearly_counts,\n           mapping=p9.aes(x='year',\n                          y='counts'))\n    + p9.geom_line()\n)",
      "execution_count": null,
      "outputs": []
    },
    {
      "metadata": {
        "collapsed": true
      },
      "cell_type": "markdown",
      "source": "Unfortunately this does not work, because we plot data for all the species\ntogether. We need to tell `plotnine` to draw a line for each species by\nmodifying the aesthetic function and map the species_id to the color:"
    },
    {
      "metadata": {
        "trusted": true
      },
      "cell_type": "code",
      "source": "(p9.ggplot(data=yearly_counts,\n           mapping=p9.aes(x='year',\n                          y='counts',\n                          color='species_id'))\n    + p9.geom_line()\n)",
      "execution_count": null,
      "outputs": []
    },
    {
      "metadata": {
        "collapsed": true
      },
      "cell_type": "markdown",
      "source": "### Faceting\n\nAs any other library supporting the Grammar of Graphics, `plotnine` has a\nspecial technique called *faceting* that allows to split one plot into multiple\nplots based on a factor variable included in the dataset.\n\nConsider our scatter plot of the `weight` versus the `hindfoot_length` from the\nprevious sections:"
    },
    {
      "metadata": {
        "trusted": true
      },
      "cell_type": "code",
      "source": "(p9.ggplot(data=surveys_complete,\n           mapping=p9.aes(x='weight',\n                          y='hindfoot_length',\n                          color='species_id'))\n    + p9.geom_point(alpha=0.1)\n)",
      "execution_count": null,
      "outputs": []
    },
    {
      "metadata": {
        "collapsed": true
      },
      "cell_type": "markdown",
      "source": "We can now keep the same code and at the `facet_wrap` on a chosen variable to\nsplit out the graph and make a separate graph for each of the groups in that\nvariable. As an example, use `sex`:"
    },
    {
      "metadata": {
        "trusted": true
      },
      "cell_type": "code",
      "source": "(p9.ggplot(data=surveys_complete,\n           mapping=p9.aes(x='weight',\n                          y='hindfoot_length',\n                          color='species_id'))\n    + p9.geom_point(alpha=0.1)\n    + p9.facet_wrap(\"sex\")\n)",
      "execution_count": null,
      "outputs": []
    },
    {
      "metadata": {
        "collapsed": true
      },
      "cell_type": "markdown",
      "source": "We can apply the same concept on any of the available categorical variables:"
    },
    {
      "metadata": {
        "trusted": true
      },
      "cell_type": "code",
      "source": "(p9.ggplot(data=surveys_complete,\n           mapping=p9.aes(x='weight',\n                          y='hindfoot_length',\n                          color='species_id'))\n    + p9.geom_point(alpha=0.1)\n    + p9.facet_wrap(\"plot_id\")\n)",
      "execution_count": null,
      "outputs": []
    },
    {
      "metadata": {
        "collapsed": true
      },
      "cell_type": "markdown",
      "source": "The `facet_wrap` geometry extracts plots into an arbitrary number of dimensions\nto allow them to cleanly fit on one page. On the other hand, the `facet_grid`\ngeometry allows you to explicitly specify how you want your plots to be\narranged via formula notation (`rows ~ columns`; a `.` can be used as a\nplaceholder that indicates only one row or column)."
    },
    {
      "metadata": {
        "trusted": true
      },
      "cell_type": "code",
      "source": "# only select the years of interest\nsurvey_2000 = surveys_complete[surveys_complete[\"year\"].isin([2000, 2001])]\n\n(p9.ggplot(data=survey_2000,\n           mapping=p9.aes(x='weight',\n                          y='hindfoot_length',\n                          color='species_id'))\n    + p9.geom_point(alpha=0.1)\n    + p9.facet_grid(\"year ~ sex\")\n)",
      "execution_count": null,
      "outputs": []
    },
    {
      "metadata": {
        "collapsed": true
      },
      "cell_type": "markdown",
      "source": "### Challenge - facetting\nCreate a separate plot for each of the species that depicts how the average\nweight of the species changes through the years."
    },
    {
      "metadata": {
        "trusted": true
      },
      "cell_type": "code",
      "source": "yearly_weight = surveys_complete.groupby(['year', 'species_id'])['weight'].mean().reset_index()",
      "execution_count": null,
      "outputs": []
    },
    {
      "metadata": {
        "collapsed": true
      },
      "cell_type": "markdown",
      "source": "### Challenge - facetting\nBased on the previous exercise, visually compare how the weights of male and\nfemales has changed through time by creating a separate plot for each sex and\nan individual color assigned to each `species_id`."
    },
    {
      "metadata": {
        "trusted": true
      },
      "cell_type": "code",
      "source": "yearly_weight = surveys_complete.groupby(['year', 'species_id', 'sex'])['weight'].mean().reset_index()",
      "execution_count": null,
      "outputs": []
    },
    {
      "metadata": {
        "collapsed": true
      },
      "cell_type": "markdown",
      "source": "### Further customization\n\nAs the syntax of `plotnine` follows the original R package `ggplot2`, the\ndocumentation of `ggplot2` can provide information and inspiration to customize\ngraphs. Take a look at the `ggplot2` [cheat sheet](https://www.rstudio.com/wp-content/uploads/2015/08/ggplot2-cheatsheet.pdf), and think of ways to improve the plot. You can write down some\nof your ideas as comments in the Etherpad.\n\nThe theming options provide a rich set of visual adaptations. Consider the\nfollowing example of a bar plot with the counts per year."
    },
    {
      "metadata": {
        "trusted": true
      },
      "cell_type": "code",
      "source": "(p9.ggplot(data=surveys_complete,\n           mapping=p9.aes(x='factor(year)'))\n    + p9.geom_bar()\n)",
      "execution_count": null,
      "outputs": []
    },
    {
      "metadata": {
        "collapsed": true
      },
      "cell_type": "markdown",
      "source": "Notice that we use the `year` here as a categorical variable by using the\n`factor` functionality. However, by doing so, we have the individual year\nlabels overlapping with eachother. The `theme` functionality provides a way to\nrotate the text of the x-axis labels:"
    },
    {
      "metadata": {
        "trusted": true
      },
      "cell_type": "code",
      "source": "(p9.ggplot(data=surveys_complete,\n           mapping=p9.aes(x='factor(year)'))\n    + p9.geom_bar()\n    + p9.theme_bw()\n    + p9.theme(axis_text_x = p9.element_text(angle=90))\n)",
      "execution_count": null,
      "outputs": []
    },
    {
      "metadata": {
        "collapsed": true
      },
      "cell_type": "markdown",
      "source": "When you like a specific set of theme-customizations you created, you can save\nthem as an object to easily apply them to other plots you may create:"
    },
    {
      "metadata": {
        "trusted": true
      },
      "cell_type": "code",
      "source": "my_custom_theme = p9.theme(axis_text_x = p9.element_text(color=\"grey\", size=10,\n                                                         angle=90, hjust=.5),\n                           axis_text_y = p9.element_text(color=\"grey\", size=10))\n(p9.ggplot(data=surveys_complete,\n           mapping=p9.aes(x='factor(year)'))\n    + p9.geom_bar()\n    + my_custom_theme\n)",
      "execution_count": null,
      "outputs": []
    },
    {
      "metadata": {
        "collapsed": true
      },
      "cell_type": "markdown",
      "source": "### Challenge - customization\n\nPlease take another five minutes to either improve one of the plots\ngenerated in this exercise or create a beautiful graph of your own.\n\nHere are some ideas:\n\n* See if you can change thickness of lines for the line plot .\n* Can you find a way to change the name of the legend? What about its labels?\n* Use a different color palette (see http://www.cookbook-r.com/Graphs/Colors_(ggplot2)/)\n{: .challenge}"
    },
    {
      "metadata": {
        "collapsed": true
      },
      "cell_type": "markdown",
      "source": "After creating your plot, you can save it to a file in your favourite format.\nYou can easily change the dimension (and its resolution) of your plot by\nadjusting the appropriate arguments (`width`, `height` and `dpi`):"
    },
    {
      "metadata": {
        "trusted": true
      },
      "cell_type": "code",
      "source": "my_plot = (p9.ggplot(data=surveys_complete,\n           mapping=p9.aes(x='weight', y='hindfoot_length'))\n    + p9.geom_point()\n)\nmy_plot.save(\"scatterplot.png\", width=10, height=10, dpi=300)",
      "execution_count": null,
      "outputs": []
    }
  ],
  "metadata": {
    "kernelspec": {
      "name": "python36",
      "display_name": "Python 3.6",
      "language": "python"
    },
    "language_info": {
      "mimetype": "text/x-python",
      "nbconvert_exporter": "python",
      "name": "python",
      "pygments_lexer": "ipython3",
      "version": "3.6.6",
      "file_extension": ".py",
      "codemirror_mode": {
        "version": 3,
        "name": "ipython"
      }
    }
  },
  "nbformat": 4,
  "nbformat_minor": 2
}