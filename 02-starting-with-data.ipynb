{
  "cells": [
    {
      "metadata": {
        "collapsed": true
      },
      "cell_type": "markdown",
      "source": "## Starting With Data\n\n### Questions:\n    - \"How can I import data in Python?\"\n    - \"What is Pandas?\"\n    - \"Why should I use Pandas to work with data?\"\n### Objectives:\n    - \"Navigate the workshop directory and download a dataset.\"\n    - \"Explain what a library is and what libraries are used for.\"\n    - \"Describe what the Python Data Analysis Library (Pandas) is.\"\n    - \"Load the Python Data Analysis Library (Pandas).\"\n    - \"Use `read_csv` to read tabular data into Python.\"\n    - \"Describe what a DataFrame is in Python.\"\n    - \"Access and summarize data stored in a DataFrame.\"\n    - \"Define indexing as it relates to data structures.\"\n    - \"Perform basic mathematical operations and summary statistics on data in a Pandas DataFrame.\"\n    - \"Create simple plots.\""
    },
    {
      "metadata": {
        "collapsed": true
      },
      "cell_type": "markdown",
      "source": "# Working With Pandas DataFrames in Python\n\nWe can automate the process of performing data manipulations in Python. It's efficient to spend time\nbuilding the code to perform these tasks because once it's built, we can use it\nover and over on different datasets that use a similar format. This makes our\nmethods easily reproducible. We can also easily share our code with colleagues\nand they can replicate the same analysis.\n\n### Our Data\n\nFor this lesson, we will be using the Portal Teaching data, a subset of the data\nfrom Ernst et al\n[Long-term monitoring and experimental manipulation of a Chihuahuan Desert ecosystem near Portal, Arizona, USA](http://www.esapubs.org/archive/ecol/E090/118/default.htm)\n\nWe will be using files from the [Portal Project Teaching Database](https://figshare.com/articles/Portal_Project_Teaching_Database/1314459).\nThis section will use the `surveys.csv` file that can be downloaded here:\n[https://ndownloader.figshare.com/files/2292172](https://ndownloader.figshare.com/files/2292172)\n\nWe are studying the species and weight of animals caught in sites in our study\narea. The dataset is stored as a `.csv` file: each row holds information for a\nsingle animal, and the columns represent:\n\n| Column           | Description                        |\n|------------------|------------------------------------|\n| record_id        | Unique id for the observation      |\n| month            | month of observation               |\n| day              | day of observation                 |\n| year             | year of observation                |\n| plot_id          | ID of a particular site            |\n| species_id       | 2-letter code                      |\n| sex              | sex of animal (\"M\", \"F\")           |\n| hindfoot_length  | length of the hindfoot in mm       |\n| weight           | weight of the animal in grams      |\n\n\nThe first few rows of our first file look like this:\n\n~~~\nrecord_id,month,day,year,plot_id,species_id,sex,hindfoot_length,weight\n1,7,16,1977,2,NL,M,32,\n2,7,16,1977,3,NL,M,33,\n3,7,16,1977,2,DM,F,37,\n4,7,16,1977,7,DM,M,36,\n5,7,16,1977,3,DM,M,35,\n6,7,16,1977,1,PF,M,14,\n7,7,16,1977,2,PE,F,,\n8,7,16,1977,1,DM,M,37,\n9,7,16,1977,1,DM,F,34,\n~~~\n\n---\n\n## About Libraries\nA library in Python contains a set of tools (called functions) that perform\ntasks on our data. Importing a library is like getting a piece of lab equipment\nout of a storage locker and setting it up on the bench for use in a project.\nOnce a library is set up, it can be used or called to perform many tasks.\n\n## Pandas in Python\nOne of the best options for working with tabular data in Python is to use the\n[Python Data Analysis Library](http://pandas.pydata.org/) (a.k.a. Pandas). The\nPandas library provides data structures, produces high quality plots with\n[matplotlib](http://matplotlib.org/) and integrates nicely with other libraries\nthat use [NumPy](http://www.numpy.org/) (which is another Python library) arrays.\n\nPython doesn't load all of the libraries available to it by default. We have to\nadd an `import` statement to our code in order to use library functions. To import\na library, we use the syntax `import libraryName`. If we want to give the\nlibrary a nickname to shorten the command, we can add `as nickNameHere`.  An\nexample of importing the pandas library using the common nickname `pd` is below."
    },
    {
      "metadata": {
        "trusted": true
      },
      "cell_type": "code",
      "source": "import pandas as pd",
      "execution_count": null,
      "outputs": []
    },
    {
      "metadata": {
        "collapsed": true
      },
      "cell_type": "markdown",
      "source": "Each time we call a function that's in a library, we use the syntax\n`LibraryName.FunctionName`. Adding the library name with a `.` before the\nfunction name tells Python where to find the function. In the example above, we\nhave imported Pandas as `pd`. This means we don't have to type out `pandas` each\ntime we call a Pandas function.\n\n\n# Reading CSV Data Using Pandas\n\nWe will begin by locating and reading our survey data which are in CSV format. CSV stands for Comma-Separated Values and is a common way store formatted data. Other symbols may also be used, so you might see tab-separated, colon-separated or space separated files. It is quite easy to replace one separator with another, to match your application. The first line in the file often has headers to explain what is in each column. CSV (and other separators) make it easy to share data, and can be imported and exported from many applications, including Microsoft Excel. For more details on CSV files, see the [Data Organisation in Spreadsheets](http://www.datacarpentry.org/spreadsheet-ecology-lesson/05-exporting-data/) lesson.\nWe can use Pandas' `read_csv` function to pull the file directly into a\n[DataFrame](http://pandas.pydata.org/pandas-docs/stable/dsintro.html#dataframe).\n\n## So What's a DataFrame?\n\nA DataFrame is a 2-dimensional data structure that can store data of different\ntypes (including characters, integers, floating point values, factors and more)\nin columns. It is similar to a spreadsheet or an SQL table or the `data.frame` in\nR. A DataFrame always has an index (0-based). An index refers to the position of\nan element in the data structure."
    },
    {
      "metadata": {
        "trusted": true,
        "scrolled": true
      },
      "cell_type": "code",
      "source": "# Note that pd.read_csv is used because we imported pandas as pd\npd.read_csv(\"data/surveys.csv\")",
      "execution_count": null,
      "outputs": []
    },
    {
      "metadata": {
        "collapsed": true
      },
      "cell_type": "markdown",
      "source": "We can see that there were 35,549 rows parsed. Each row has 9\ncolumns. The first column is the index of the DataFrame. The index is used to\nidentify the position of the data, but it is not an actual column of the DataFrame.\nIt looks like  the `read_csv` function in Pandas  read our file properly. However,\nwe haven't saved any data to memory so we can work with it. We need to assign the\nDataFrame to a variable. Remember that a variable is a name for a value, such as `x`,\nor  `data`. We can create a new  object with a variable name by assigning a value to it using `=`.\n\nLet's call the imported survey data `surveys_df`:"
    },
    {
      "metadata": {
        "trusted": true
      },
      "cell_type": "code",
      "source": "surveys_df = pd.read_csv(\"data/surveys.csv\")",
      "execution_count": null,
      "outputs": []
    },
    {
      "metadata": {
        "collapsed": true
      },
      "cell_type": "markdown",
      "source": "Notice when you assign the imported DataFrame to a variable, Python does not\nproduce any output on the screen. We can view the value of the `surveys_df`\nobject by typing its name into the Python command prompt."
    },
    {
      "metadata": {
        "trusted": true,
        "scrolled": true
      },
      "cell_type": "code",
      "source": "surveys_df",
      "execution_count": null,
      "outputs": []
    },
    {
      "metadata": {
        "collapsed": true
      },
      "cell_type": "markdown",
      "source": "Selecting just a few rows, so it is\neasier to fit on one window, you can see that pandas has neatly formatted the data to fit\nour screen:"
    },
    {
      "metadata": {
        "trusted": true
      },
      "cell_type": "code",
      "source": "surveys_df.head() # The head() method displays the first several lines of a file. It\n                  # is discussed below.",
      "execution_count": null,
      "outputs": []
    },
    {
      "metadata": {
        "collapsed": true
      },
      "cell_type": "markdown",
      "source": "## Exploring Our Species Survey Data\n\nAgain, we can use the `type` function to see what kind of thing `surveys_df` is:"
    },
    {
      "metadata": {
        "trusted": true
      },
      "cell_type": "code",
      "source": "type(surveys_df)",
      "execution_count": null,
      "outputs": []
    },
    {
      "metadata": {
        "collapsed": true
      },
      "cell_type": "markdown",
      "source": "As expected, it's a DataFrame (or, to use the full name that Python uses to refer\nto it internally, a `pandas.core.frame.DataFrame`).\n\nWhat kind of things does `surveys_df` contain? DataFrames have an attribute\ncalled `dtypes` that answers this:"
    },
    {
      "metadata": {
        "trusted": true
      },
      "cell_type": "code",
      "source": "surveys_df.dtypes",
      "execution_count": null,
      "outputs": []
    },
    {
      "metadata": {
        "collapsed": true
      },
      "cell_type": "markdown",
      "source": "All the values in a column have the same type. For example, months have type\n`int64`, which is a kind of integer. Cells in the month column cannot have\nfractional values, but the weight and hindfoot_length columns can, because they\nhave type `float64`. The `object` type doesn't have a very helpful name, but in\nthis case it represents strings (such as 'M' and 'F' in the case of sex).\n\nWe'll talk a bit more about what the different formats mean in a different lesson.\n\n### Useful Ways to View DataFrame objects in Python\n\nThere are many ways to summarize and access the data stored in DataFrames,\nusing attributes and methods provided by the DataFrame object.\n\nTo access an attribute, use the DataFrame object name followed by the attribute\nname `df_object.attribute`. Using the DataFrame `surveys_df` and attribute\n`columns`, an index of all the column names in the DataFrame can be accessed\nwith `surveys_df.columns`.\n\nMethods are called in a similar fashion using the syntax `df_object.method()`.\nAs an example, `surveys_df.head()` gets the first few rows in the DataFrame\n`surveys_df` using **the `head()` method**. With a method, we can supply extra\ninformation in the parens to control behaviour.\n\nLet's look at the data using these."
    },
    {
      "metadata": {
        "collapsed": true
      },
      "cell_type": "markdown",
      "source": "## Challenge - DataFrames\n\nUsing our DataFrame `surveys_df`, try out the attributes & methods below to see\nwhat they return."
    },
    {
      "metadata": {
        "collapsed": true
      },
      "cell_type": "markdown",
      "source": "1. `surveys_df.columns`"
    },
    {
      "metadata": {
        "trusted": true
      },
      "cell_type": "code",
      "source": "",
      "execution_count": null,
      "outputs": []
    },
    {
      "metadata": {
        "collapsed": true
      },
      "cell_type": "markdown",
      "source": "2. `surveys_df.shape` Take note of the output of `shape` - what format does it\n    return the shape of the DataFrame in?\n\n    HINT: [More on tuples, here](https://docs.python.org/3/tutorial/datastructures.html#tuples-and-sequences)."
    },
    {
      "metadata": {
        "trusted": true
      },
      "cell_type": "code",
      "source": "",
      "execution_count": null,
      "outputs": []
    },
    {
      "metadata": {
        "collapsed": true
      },
      "cell_type": "markdown",
      "source": "3. `surveys_df.head()` Also, what does `surveys_df.head(15)` do?"
    },
    {
      "metadata": {
        "trusted": true
      },
      "cell_type": "code",
      "source": "",
      "execution_count": null,
      "outputs": []
    },
    {
      "metadata": {
        "collapsed": true
      },
      "cell_type": "markdown",
      "source": "4. `surveys_df.tail()`"
    },
    {
      "metadata": {
        "collapsed": true
      },
      "cell_type": "markdown",
      "source": "## Calculating Statistics From Data In A Pandas DataFrame\n\nWe've read our data into Python. Next, let's perform some quick summary\nstatistics to learn more about the data that we're working with. We might want\nto know how many animals were collected in each site, or how many of each\nspecies were caught. We can perform summary stats quickly using groups. But\nfirst we need to figure out what we want to group by.\n\nLet's begin by exploring our data:"
    },
    {
      "metadata": {
        "trusted": true
      },
      "cell_type": "code",
      "source": "# Look at the column names\nsurveys_df.columns",
      "execution_count": null,
      "outputs": []
    },
    {
      "metadata": {
        "collapsed": true
      },
      "cell_type": "markdown",
      "source": "Let's get a list of all the species. The `pd.unique` function tells us all of\nthe unique values in the `species_id` column."
    },
    {
      "metadata": {
        "trusted": true
      },
      "cell_type": "code",
      "source": "pd.unique(surveys_df['species_id'])",
      "execution_count": null,
      "outputs": []
    },
    {
      "metadata": {
        "collapsed": true
      },
      "cell_type": "markdown",
      "source": "## Challenge - Statistics\n\n1. Create a list of unique site ID's (\"plot_id\") found in the surveys data. Call it\n  `site_names`. How many unique sites are there in the data? How many unique\n  species are in the data?"
    },
    {
      "metadata": {
        "trusted": true
      },
      "cell_type": "code",
      "source": "",
      "execution_count": null,
      "outputs": []
    },
    {
      "metadata": {
        "collapsed": true
      },
      "cell_type": "markdown",
      "source": "2. What is the difference between `len(site_names)` and `surveys_df['plot_id'].nunique()`?"
    },
    {
      "metadata": {
        "trusted": true
      },
      "cell_type": "code",
      "source": "",
      "execution_count": null,
      "outputs": []
    },
    {
      "metadata": {
        "collapsed": true
      },
      "cell_type": "markdown",
      "source": "## Groups in Pandas\n\nWe often want to calculate summary statistics grouped by subsets or attributes\nwithin fields of our data. For example, we might want to calculate the average\nweight of all individuals per site.\n\nWe can calculate basic statistics for all records in a single column using the\nsyntax below:"
    },
    {
      "metadata": {
        "trusted": true
      },
      "cell_type": "code",
      "source": "surveys_df['weight'].describe()",
      "execution_count": null,
      "outputs": []
    },
    {
      "metadata": {
        "collapsed": true
      },
      "cell_type": "markdown",
      "source": "We can also extract one specific metric if we wish:"
    },
    {
      "metadata": {
        "trusted": true
      },
      "cell_type": "code",
      "source": "surveys_df['weight'].min()",
      "execution_count": null,
      "outputs": []
    },
    {
      "metadata": {
        "trusted": true
      },
      "cell_type": "code",
      "source": "surveys_df['weight'].max()",
      "execution_count": null,
      "outputs": []
    },
    {
      "metadata": {
        "trusted": true
      },
      "cell_type": "code",
      "source": "surveys_df['weight'].mean()",
      "execution_count": null,
      "outputs": []
    },
    {
      "metadata": {
        "trusted": true
      },
      "cell_type": "code",
      "source": "surveys_df['weight'].std()",
      "execution_count": null,
      "outputs": []
    },
    {
      "metadata": {
        "trusted": true
      },
      "cell_type": "code",
      "source": "surveys_df['weight'].count()",
      "execution_count": null,
      "outputs": []
    },
    {
      "metadata": {
        "collapsed": true
      },
      "cell_type": "markdown",
      "source": "But if we want to summarize by one or more variables, for example sex, we can\nuse **Pandas' `.groupby` method**. Once we've created a groupby DataFrame, we\ncan quickly calculate summary statistics by a group of our choice."
    },
    {
      "metadata": {
        "trusted": true
      },
      "cell_type": "code",
      "source": "# Group data by sex\ngrouped_data = surveys_df.groupby('sex')",
      "execution_count": null,
      "outputs": []
    },
    {
      "metadata": {
        "collapsed": true
      },
      "cell_type": "markdown",
      "source": "The **pandas function `describe`** will return descriptive stats including: mean,\nmedian, max, min, std and count for a particular column in the data. Pandas'\n`describe` function will only return summary values for columns containing\nnumeric data."
    },
    {
      "metadata": {
        "trusted": true
      },
      "cell_type": "code",
      "source": "# Summary statistics for all numeric columns by sex\ngrouped_data.describe()",
      "execution_count": null,
      "outputs": []
    },
    {
      "metadata": {
        "trusted": true
      },
      "cell_type": "code",
      "source": "# Provide the mean for each numeric column by sex\ngrouped_data.mean()",
      "execution_count": null,
      "outputs": []
    },
    {
      "metadata": {
        "collapsed": true
      },
      "cell_type": "markdown",
      "source": "The `groupby` command is powerful in that it allows us to quickly generate\nsummary stats."
    },
    {
      "metadata": {
        "collapsed": true
      },
      "cell_type": "markdown",
      "source": "## Challenge - Summary Data\n\n1. How many recorded individuals are female `F` and how many male `M`"
    },
    {
      "metadata": {
        "trusted": true
      },
      "cell_type": "code",
      "source": "",
      "execution_count": null,
      "outputs": []
    },
    {
      "metadata": {
        "collapsed": true
      },
      "cell_type": "markdown",
      "source": "2. What happens when you group by two columns using the following syntax and\n    then grab mean values:\n   - `grouped_data2 = surveys_df.groupby(['plot_id','sex'])`\n   - `grouped_data2.mean()`"
    },
    {
      "metadata": {
        "trusted": true
      },
      "cell_type": "code",
      "source": "",
      "execution_count": null,
      "outputs": []
    },
    {
      "metadata": {
        "collapsed": true
      },
      "cell_type": "markdown",
      "source": "3. Summarize weight values for each site in your data. HINT: you can use the\n   following syntax to only create summary statistics for one column in your data\n   `by_site['weight'].describe()`"
    },
    {
      "metadata": {
        "trusted": true
      },
      "cell_type": "code",
      "source": "",
      "execution_count": null,
      "outputs": []
    },
    {
      "metadata": {
        "collapsed": true
      },
      "cell_type": "markdown",
      "source": "## Quickly Creating Summary Counts in Pandas\n\nLet's next count the number of samples for each species. We can do this in a few\nways, but we'll use `groupby` combined with **a `count()` method**."
    },
    {
      "metadata": {
        "trusted": true,
        "scrolled": true
      },
      "cell_type": "code",
      "source": "# Count the number of samples by species\nspecies_counts = surveys_df.groupby('species_id')['record_id'].count()\nprint(species_counts)",
      "execution_count": null,
      "outputs": []
    },
    {
      "metadata": {
        "collapsed": true
      },
      "cell_type": "markdown",
      "source": "Or, we can also count just the rows that have the species \"DO\":"
    },
    {
      "metadata": {
        "trusted": true
      },
      "cell_type": "code",
      "source": "surveys_df.groupby('species_id')['record_id'].count()['DO']",
      "execution_count": null,
      "outputs": []
    },
    {
      "metadata": {
        "collapsed": true
      },
      "cell_type": "markdown",
      "source": "## Basic Math Functions\n\nIf we wanted to, we could perform math on an entire column of our data. For\nexample let's multiply all weight values by 2. A more practical use of this might\nbe to normalize the data according to a mean, area, or some other value\ncalculated from our data."
    },
    {
      "metadata": {
        "trusted": true
      },
      "cell_type": "code",
      "source": "# Multiply all weight values by 2\nsurveys_df['weight']*2",
      "execution_count": null,
      "outputs": []
    },
    {
      "metadata": {
        "collapsed": true
      },
      "cell_type": "markdown",
      "source": "## Quick & Easy Plotting Data Using Pandas\n\nWe can plot our summary stats using Pandas, too."
    },
    {
      "metadata": {
        "trusted": true
      },
      "cell_type": "code",
      "source": "# Make sure figures appear inline in Ipython Notebook\n%matplotlib inline\n# Create a quick bar chart\nspecies_counts.plot(kind='bar');",
      "execution_count": null,
      "outputs": []
    },
    {
      "metadata": {
        "collapsed": true
      },
      "cell_type": "markdown",
      "source": "We can also look at how many animals were captured in each site:"
    },
    {
      "metadata": {
        "trusted": true
      },
      "cell_type": "code",
      "source": "total_count = surveys_df.groupby('plot_id')['record_id'].nunique()\n# Let's plot that too\ntotal_count.plot(kind='bar');",
      "execution_count": null,
      "outputs": []
    }
  ],
  "metadata": {
    "kernelspec": {
      "name": "python36",
      "display_name": "Python 3.6",
      "language": "python"
    },
    "language_info": {
      "mimetype": "text/x-python",
      "nbconvert_exporter": "python",
      "name": "python",
      "pygments_lexer": "ipython3",
      "version": "3.6.6",
      "file_extension": ".py",
      "codemirror_mode": {
        "version": 3,
        "name": "ipython"
      }
    }
  },
  "nbformat": 4,
  "nbformat_minor": 2
}