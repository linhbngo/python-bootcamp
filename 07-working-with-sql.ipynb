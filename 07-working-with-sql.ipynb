{
  "cells": [
    {
      "metadata": {
        "collapsed": true
      },
      "cell_type": "markdown",
      "source": "## Accessing SQLite Databases Using Python and Pandas\n\n### Objectives:\n    - \"Use the sqlite3 module to interact with a SQL database.\"\n    - \"Access data stored in SQLite using Python.\"\n    - \"Describe the difference in interacting with data stored as a CSV file versus in SQLite.\"\n    - \"Describe the benefits of accessing data using a database compared to a CSV file.\"\n\n### Python and SQL\n\nWhen you open a CSV in python, and assign it to a variable name, you are using\nyour computers memory to save that variable. Accessing data from a database like\nSQL is not only more efficient, but also it allows you to subset and import only\nthe parts of the data that you need.\n\nIn the following lesson, we'll see some approaches that can be taken to do so.\n\n### The `sqlite3` module\n\nThe [sqlite3] module provides a straightforward interface for interacting with\nSQLite databases. A connection object is created using `sqlite3.connect()`; the\nconnection must be closed at the end of the session with the `.close()` command.\nWhile the connection is open, any interactions with the database require you to\nmake a cursor object with the `.cursor()` command. The cursor is then ready to\nperform all kinds of operations with `.execute()`.\n\n[sqlite3]: https://docs.python.org/3/library/sqlite3.html"
    },
    {
      "metadata": {
        "trusted": true,
        "scrolled": true
      },
      "cell_type": "code",
      "source": "import sqlite3\n\n# Create a SQL connection to our SQLite database\ncon = sqlite3.connect(\"data/portal_mammals.sqlite\")\n\ncur = con.cursor()\n\n# The result of a \"cursor.execute\" can be iterated over by row\nfor row in cur.execute('SELECT * FROM species;'):\n    print(row)\n\n# Be sure to close the connection\ncon.close()",
      "execution_count": 1,
      "outputs": [
        {
          "output_type": "stream",
          "text": "('AB', 'Amphispiza', 'bilineata', 'Bird')\n('AH', 'Ammospermophilus', 'harrisi', 'Rodent-not censused')\n('AS', 'Ammodramus', 'savannarum', 'Bird')\n('BA', 'Baiomys', 'taylori', 'Rodent')\n('CB', 'Campylorhynchus', 'brunneicapillus', 'Bird')\n('CM', 'Calamospiza', 'melanocorys', 'Bird')\n('CQ', 'Callipepla', 'squamata', 'Bird')\n('CS', 'Crotalus', 'scutalatus', 'Reptile')\n('CT', 'Cnemidophorus', 'tigris', 'Reptile')\n('CU', 'Cnemidophorus', 'uniparens', 'Reptile')\n('CV', 'Crotalus', 'viridis', 'Reptile')\n('DM', 'Dipodomys', 'merriami', 'Rodent')\n('DO', 'Dipodomys', 'ordii', 'Rodent')\n('DS', 'Dipodomys', 'spectabilis', 'Rodent')\n('DX', 'Dipodomys', 'sp.', 'Rodent')\n('EO', 'Eumeces', 'obsoletus', 'Reptile')\n('GS', 'Gambelia', 'silus', 'Reptile')\n('NA', 'Neotoma', 'albigula', 'Rodent')\n('NX', 'Neotoma', 'sp.', 'Rodent')\n('OL', 'Onychomys', 'leucogaster', 'Rodent')\n('OT', 'Onychomys', 'torridus', 'Rodent')\n('OX', 'Onychomys', 'sp.', 'Rodent')\n('PB', 'Chaetodipus', 'baileyi', 'Rodent')\n('PC', 'Pipilo', 'chlorurus', 'Bird')\n('PE', 'Peromyscus', 'eremicus', 'Rodent')\n('PF', 'Perognathus', 'flavus', 'Rodent')\n('PG', 'Pooecetes', 'gramineus', 'Bird')\n('PH', 'Perognathus', 'hispidus', 'Rodent')\n('PI', 'Chaetodipus', 'intermedius', 'Rodent')\n('PL', 'Peromyscus', 'leucopus', 'Rodent')\n('PM', 'Peromyscus', 'maniculatus', 'Rodent')\n('PP', 'Chaetodipus', 'penicillatus', 'Rodent')\n('PU', 'Pipilo', 'fuscus', 'Bird')\n('PX', 'Chaetodipus', 'sp.', 'Rodent')\n('RF', 'Reithrodontomys', 'fulvescens', 'Rodent')\n('RM', 'Reithrodontomys', 'megalotis', 'Rodent')\n('RO', 'Reithrodontomys', 'montanus', 'Rodent')\n('RX', 'Reithrodontomys', 'sp.', 'Rodent')\n('SA', 'Sylvilagus', 'audubonii', 'Rabbit')\n('SB', 'Spizella', 'breweri', 'Bird')\n('SC', 'Sceloporus', 'clarki', 'Reptile')\n('SF', 'Sigmodon', 'fulviventer', 'Rodent')\n('SH', 'Sigmodon', 'hispidus', 'Rodent')\n('SO', 'Sigmodon', 'ochrognathus', 'Rodent')\n('SS', 'Spermophilus', 'spilosoma', 'Rodent-not censused')\n('ST', 'Spermophilus', 'tereticaudus', 'Rodent-not censused')\n('SU', 'Sceloporus', 'undulatus', 'Reptile')\n('SX', 'Sigmodon', 'sp.', 'Rodent')\n('UL', 'Lizard', 'sp.', 'Reptile')\n('UP', 'Pipilo', 'sp.', 'Bird')\n('UR', 'Rodent', 'sp.', 'Rodent')\n('US', 'Sparrow', 'sp.', 'Bird')\n('XX', None, None, 'Zero Trapping Success')\n('ZL', 'Zonotrichia', 'leucophrys', 'Bird')\n('ZM', 'Zenaida', 'macroura', 'Bird')\n",
          "name": "stdout"
        }
      ]
    },
    {
      "metadata": {
        "collapsed": true
      },
      "cell_type": "markdown",
      "source": "### Queries\n\nOne of the most common ways to interact with a database is by querying:\nretrieving data based on some search parameters. Use a SELECT statement string.\nThe query is returned as a single tuple or a tuple of tuples. Add a WHERE\nstatement to filter your results based on some parameter."
    },
    {
      "metadata": {
        "trusted": true
      },
      "cell_type": "code",
      "source": "import sqlite3\n\n# Create a SQL connection to our SQLite database\ncon = sqlite3.connect(\"data/portal_mammals.sqlite\")\n\ncur = con.cursor()\n\n# Return all results of query\ncur.execute('SELECT plot_id FROM plots WHERE plot_type=\"Control\"')\nprint(cur.fetchall())\n\n# Return first result of query\ncur.execute('SELECT species FROM species WHERE taxa=\"Bird\"')\nprint(cur.fetchone())\n\n# Be sure to close the connection\ncon.close()",
      "execution_count": 4,
      "outputs": [
        {
          "output_type": "stream",
          "text": "[(2,), (4,), (8,), (11,), (12,), (14,), (17,), (22,)]\n('bilineata',)\n",
          "name": "stdout"
        }
      ]
    },
    {
      "metadata": {
        "collapsed": true
      },
      "cell_type": "markdown",
      "source": "### Accessing data stored in SQLite using Python and Pandas\n\nUsing pandas, we can import results of a SQLite query into a dataframe. Note\nthat you can use the same SQL commands / syntax that we used in the SQLite\nlesson. An example of using pandas together with sqlite is below:"
    },
    {
      "metadata": {
        "trusted": true
      },
      "cell_type": "code",
      "source": "import pandas as pd\nimport sqlite3\n\n# Read sqlite query results into a pandas DataFrame\ncon = sqlite3.connect(\"data/portal_mammals.sqlite\")\ndf = pd.read_sql_query(\"SELECT * from surveys\", con)\n\n# Verify that result of SQL query is stored in the dataframe\nprint(df.head())\n\ncon.close()",
      "execution_count": 5,
      "outputs": [
        {
          "output_type": "stream",
          "text": "   record_id  month  day  year  plot species sex  wgt\n0          1      7   16  1977     2      NA   M  NaN\n1          2      7   16  1977     3      NA   M  NaN\n2          3      7   16  1977     2      DM   F  NaN\n3          4      7   16  1977     7      DM   M  NaN\n4          5      7   16  1977     3      DM   M  NaN\n",
          "name": "stdout"
        }
      ]
    },
    {
      "metadata": {
        "collapsed": true
      },
      "cell_type": "markdown",
      "source": "### Storing data: CSV vs SQLite\n\nStoring your data in an SQLite database can provide substantial performance\nimprovements when reading/writing compared to CSV. The difference in performance\nbecomes more noticable as the size of the dataset grows (see for example [these\nbenchmarks]).\n\n[these benchmarks]: http://sebastianraschka.com/Articles/2013_sqlite_database.html#results-and-conclusions\n\n\n### Challenge - SQL\n\n1. Create a query that contains survey data collected between 1998 - 2001 for\n  observations of sex \"male\" or \"female\" that includes observation's genus and\n  species and site type for the sample. How many records are returned?"
    },
    {
      "metadata": {
        "trusted": true
      },
      "cell_type": "code",
      "source": "",
      "execution_count": null,
      "outputs": []
    },
    {
      "metadata": {
        "collapsed": true
      },
      "cell_type": "markdown",
      "source": "2. Create a dataframe that contains the total number of observations (count)\n   made for all years, and sum of observation weights for each site, ordered by\n   site ID."
    },
    {
      "metadata": {
        "trusted": true
      },
      "cell_type": "code",
      "source": "",
      "execution_count": null,
      "outputs": []
    },
    {
      "metadata": {
        "collapsed": true
      },
      "cell_type": "markdown",
      "source": "### Storing data: Create new tables using Pandas\n\nWe can also us pandas to create new tables within an SQLite database. Here, we run we re-do an excercise we did before with CSV files using our SQLite database. We first read in our survey data, then select only those survey results for 2002, and then save it out to its own table so we can work with it on its own later."
    },
    {
      "metadata": {
        "trusted": true
      },
      "cell_type": "code",
      "source": "import pandas as pd\nimport sqlite3\n\ncon = sqlite3.connect(\"data/portal_mammals.sqlite\")\n\n# Load the data into a DataFrame\nsurveys_df = pd.read_sql_query(\"SELECT * from surveys\", con)\n\n# Select only data for 2002\nsurveys2002 = surveys_df[surveys_df.year == 2002]\n\n# Write the new DataFrame to a new SQLite table\nsurveys2002.to_sql(\"surveys2002\", con, if_exists=\"replace\")\n\ncon.close()",
      "execution_count": 6,
      "outputs": []
    },
    {
      "metadata": {
        "collapsed": true,
        "trusted": false
      },
      "cell_type": "markdown",
      "source": "### Challenge - Checking your work\n\n1. Write code to check the results from the newly create `surveys2002` table in the SQL database. "
    },
    {
      "metadata": {
        "trusted": true
      },
      "cell_type": "code",
      "source": "",
      "execution_count": null,
      "outputs": []
    }
  ],
  "metadata": {
    "kernelspec": {
      "name": "python36",
      "display_name": "Python 3.6",
      "language": "python"
    },
    "language_info": {
      "mimetype": "text/x-python",
      "nbconvert_exporter": "python",
      "name": "python",
      "pygments_lexer": "ipython3",
      "version": "3.6.6",
      "file_extension": ".py",
      "codemirror_mode": {
        "version": 3,
        "name": "ipython"
      }
    }
  },
  "nbformat": 4,
  "nbformat_minor": 2
}