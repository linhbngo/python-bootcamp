{
 "cells": [
  {
   "cell_type": "markdown",
   "metadata": {
    "collapsed": true
   },
   "source": [
    "## Data Workflows and Automation\n",
    "\n",
    "### Questions:\n",
    "    - \"Can I automate operations in Python?\"\n",
    "    - \"What are functions and why should I use them?\"\n",
    "### Objectives:\n",
    "    - \"Describe why for loops are used in Python.\"\n",
    "    - \"Employ for loops to automate data analysis.\"\n",
    "    - \"Write unique filenames in Python.\"\n",
    "    - \"Build reusable code in Python.\"\n",
    "    - \"Write functions using conditional statements (if, then, else).\"\n",
    "---\n",
    "\n",
    "So far, we've used Python and the pandas library to explore and manipulate\n",
    "individual datasets by hand, much like we would do in a spreadsheet. The beauty\n",
    "of using a programming language like Python, though, comes from the ability to\n",
    "automate data processing through the use of loops and functions.\n",
    "\n",
    "### For loops\n",
    "\n",
    "Loops allow us to repeat a workflow (or series of actions) a given number of\n",
    "times or while some condition is true. We would use a loop to automatically\n",
    "process data that's stored in multiple files (daily values with one file per\n",
    "year, for example). Loops lighten our work load by performing repeated tasks\n",
    "without our direct involvement and make it less likely that we'll introduce\n",
    "errors by making mistakes while processing each file by hand.\n",
    "\n",
    "Let's write a simple for loop that simulates what a kid might see during a\n",
    "visit to the zoo:"
   ]
  },
  {
   "cell_type": "code",
   "execution_count": null,
   "metadata": {},
   "outputs": [],
   "source": [
    "animals = ['lion', 'tiger', 'crocodile', 'vulture', 'hippo']\n",
    "print(animals)"
   ]
  },
  {
   "cell_type": "code",
   "execution_count": null,
   "metadata": {},
   "outputs": [],
   "source": [
    "for creature in animals:\n",
    "    print(creature)"
   ]
  },
  {
   "cell_type": "markdown",
   "metadata": {
    "collapsed": true
   },
   "source": [
    "The line defining the loop must start with `for` and end with a colon, and the\n",
    "body of the loop must be indented.\n",
    "\n",
    "In this example, `creature` is the loop variable that takes the value of the next\n",
    "entry in `animals` every time the loop goes around. We can call the loop variable\n",
    "anything we like. After the loop finishes, the loop variable will still exist\n",
    "and will have the value of the last entry in the collection:"
   ]
  },
  {
   "cell_type": "code",
   "execution_count": null,
   "metadata": {},
   "outputs": [],
   "source": [
    "animals = ['lion', 'tiger', 'crocodile', 'vulture', 'hippo']\n",
    "for creature in animals:\n",
    "    pass"
   ]
  },
  {
   "cell_type": "code",
   "execution_count": null,
   "metadata": {},
   "outputs": [],
   "source": [
    "print('The loop variable is now: ' + creature)"
   ]
  },
  {
   "cell_type": "markdown",
   "metadata": {
    "collapsed": true
   },
   "source": [
    "We are not asking Python to print the value of the loop variable anymore, but\n",
    "the for loop still runs and the value of `creature` changes on each pass through\n",
    "the loop. The statement `pass` in the body of the loop just means \"do nothing\".\n",
    "\n",
    "### Challenge - Loops\n",
    "\n",
    "1. What happens if we don't include the `pass` statement?"
   ]
  },
  {
   "cell_type": "code",
   "execution_count": null,
   "metadata": {},
   "outputs": [],
   "source": []
  },
  {
   "cell_type": "markdown",
   "metadata": {
    "collapsed": true
   },
   "source": [
    "2. Rewrite the loop so that the animals are separated by commas, not new lines\n",
    "(Hint: You can concatenate strings using a plus sign. For example,\n",
    " `print(string1 + string2)` outputs 'string1string2')."
   ]
  },
  {
   "cell_type": "code",
   "execution_count": null,
   "metadata": {},
   "outputs": [],
   "source": []
  },
  {
   "cell_type": "markdown",
   "metadata": {
    "collapsed": true
   },
   "source": [
    "### Automating data processing using For Loops\n",
    "\n",
    "The file we've been using so far, `surveys.csv`, contains 25 years of data and is\n",
    "very large. We would like to separate the data for each year into a separate\n",
    "file.\n",
    "\n",
    "Let's start by making a new directory inside the folder `data` to store all of\n",
    "these files using the module `os`:"
   ]
  },
  {
   "cell_type": "code",
   "execution_count": null,
   "metadata": {},
   "outputs": [],
   "source": [
    "import os\n",
    "\n",
    "os.mkdir('data/yearly_files')"
   ]
  },
  {
   "cell_type": "markdown",
   "metadata": {
    "collapsed": true
   },
   "source": [
    "The command `os.mkdir` is equivalent to `mkdir` in the shell. Just so we are\n",
    "sure, we can check that the new directory was created within the `data` folder:"
   ]
  },
  {
   "cell_type": "code",
   "execution_count": null,
   "metadata": {},
   "outputs": [],
   "source": [
    "os.listdir('data')"
   ]
  },
  {
   "cell_type": "markdown",
   "metadata": {
    "collapsed": true
   },
   "source": [
    "The command `os.listdir` is equivalent to `ls` in the shell.\n",
    "\n",
    "In previous lessons, we saw how to use the library pandas to load the species\n",
    "data into memory as a DataFrame, how to select a subset of the data using some\n",
    "criteria, and how to write the DataFrame into a CSV file. Let's write a script\n",
    "that performs those three steps in sequence for the year 2002:"
   ]
  },
  {
   "cell_type": "code",
   "execution_count": null,
   "metadata": {},
   "outputs": [],
   "source": [
    "import pandas as pd\n",
    "\n",
    "# Load the data into a DataFrame\n",
    "surveys_df = pd.read_csv('data/surveys.csv')\n",
    "\n",
    "# Select only data for the year 2002\n",
    "surveys2002 = surveys_df[surveys_df.year == 2002]\n",
    "\n",
    "# Write the new DataFrame to a CSV file\n",
    "surveys2002.to_csv('data/yearly_files/surveys2002.csv')"
   ]
  },
  {
   "cell_type": "markdown",
   "metadata": {
    "collapsed": true
   },
   "source": [
    "To create yearly data files, we could repeat the last two commands over and\n",
    "over, once for each year of data. Repeating code is neither elegant nor\n",
    "practical, and is very likely to introduce errors into your code. We want to\n",
    "turn what we've just written into a loop that repeats the last two commands for\n",
    "every year in the dataset.\n",
    "\n",
    "Let's start by writing a loop that simply prints the names of the files we want\n",
    "to create - the dataset we are using covers 1977 through 2002, and we'll create\n",
    "a separate file for each of those years. Listing the filenames is a good way to\n",
    "confirm that the loop is behaving as we expect.\n",
    "\n",
    "We have seen that we can loop over a list of items, so we need a list of years\n",
    "to loop over. We can get the years in our DataFrame with:"
   ]
  },
  {
   "cell_type": "code",
   "execution_count": null,
   "metadata": {},
   "outputs": [],
   "source": [
    "surveys_df['year']"
   ]
  },
  {
   "cell_type": "markdown",
   "metadata": {
    "collapsed": true
   },
   "source": [
    "but we want only unique years, which we can get using the `unique` method\n",
    "which we have already seen."
   ]
  },
  {
   "cell_type": "code",
   "execution_count": null,
   "metadata": {},
   "outputs": [],
   "source": [
    "surveys_df['year'].unique()"
   ]
  },
  {
   "cell_type": "markdown",
   "metadata": {
    "collapsed": true
   },
   "source": [
    "Putting this into our for loop we get"
   ]
  },
  {
   "cell_type": "code",
   "execution_count": null,
   "metadata": {
    "scrolled": true
   },
   "outputs": [],
   "source": [
    "for year in surveys_df['year'].unique():\n",
    "    filename='data/yearly_files/surveys' + str(year) + '.csv'\n",
    "    print(filename)"
   ]
  },
  {
   "cell_type": "markdown",
   "metadata": {
    "collapsed": true
   },
   "source": [
    "We can now add the rest of the steps we need to create separate text files:"
   ]
  },
  {
   "cell_type": "code",
   "execution_count": null,
   "metadata": {},
   "outputs": [],
   "source": [
    "# Load the data into a DataFrame\n",
    "surveys_df = pd.read_csv('data/surveys.csv')\n",
    "\n",
    "for year in surveys_df['year'].unique():\n",
    "\n",
    "    # Select data for the year\n",
    "    surveys_year = surveys_df[surveys_df.year == year]\n",
    "\n",
    "    # Write the new DataFrame to a CSV file\n",
    "    filename = 'data/yearly_files/surveys' + str(year) + '.csv'\n",
    "    surveys_year.to_csv(filename)"
   ]
  },
  {
   "cell_type": "markdown",
   "metadata": {
    "collapsed": true
   },
   "source": [
    "Look inside the `yearly_files` directory and check a couple of the files you\n",
    "just created to confirm that everything worked as expected.\n",
    "\n",
    "### Writing Unique FileNames\n",
    "\n",
    "Notice that the code above created a unique filename for each year."
   ]
  },
  {
   "cell_type": "code",
   "execution_count": null,
   "metadata": {},
   "outputs": [],
   "source": [
    "filename = 'data/yearly_files/surveys' + str(year) + '.csv'"
   ]
  },
  {
   "cell_type": "markdown",
   "metadata": {
    "collapsed": true
   },
   "source": [
    "Let's break down the parts of this name:\n",
    "\n",
    "* The first part is simply some text that specifies the directory to store our\n",
    "  data file in (data/yearly_files/) and the first part of the file name\n",
    "  (surveys): `'data/yearly_files/surveys'`\n",
    "* We can concatenate this with the value of a variable, in this case `year` by\n",
    "  using the plus `+` sign and the variable we want to add to the file name: `+\n",
    "  str(year)`\n",
    "* Then we add the file extension as another text string: `+ '.csv'`\n",
    "\n",
    "Notice that we use single quotes to add text strings. The variable is not\n",
    "surrounded by quotes. This code produces the string\n",
    "`data/yearly_files/surveys2002.csv` which contains the path to the new filename\n",
    "AND the file name itself.\n",
    "\n",
    "### Challenge - Modifying loops\n",
    "\n",
    "1. Some of the surveys you saved are missing data (they have null values that\n",
    " show up as NaN - Not A Number - in the DataFrames and do not show up in the text\n",
    " files). Modify the for loop so that the entries with null values are not\n",
    " included in the yearly files."
   ]
  },
  {
   "cell_type": "code",
   "execution_count": null,
   "metadata": {},
   "outputs": [],
   "source": [
    "os.mkdir('data/yearly_files_no_NaN')"
   ]
  },
  {
   "cell_type": "markdown",
   "metadata": {
    "collapsed": true
   },
   "source": [
    "2. Let's say you only want to look at data from a given multiple of years. How would you modify your loop in order to generate a data file for only every 5th year, starting from 1977?"
   ]
  },
  {
   "cell_type": "code",
   "execution_count": null,
   "metadata": {},
   "outputs": [],
   "source": [
    "os.mkdir('data/every_five_years_files')"
   ]
  },
  {
   "cell_type": "markdown",
   "metadata": {
    "collapsed": true
   },
   "source": [
    "3. Instead of splitting out the data by years, a colleague wants to do analyses each species separately. How would you write a unique CSV file for each species?"
   ]
  },
  {
   "cell_type": "code",
   "execution_count": null,
   "metadata": {},
   "outputs": [],
   "source": [
    "os.mkdir('data/species_files')"
   ]
  },
  {
   "cell_type": "markdown",
   "metadata": {
    "collapsed": true
   },
   "source": [
    "### Building reusable and modular code with functions\n",
    "\n",
    "Suppose that separating large data files into individual yearly files is a task\n",
    "that we frequently have to perform. We could write a **for loop** like the one above\n",
    "every time we needed to do it but that would be time consuming and error prone.\n",
    "A more elegant solution would be to create a reusable tool that performs this\n",
    "task with minimum input from the user. To do this, we are going to turn the code\n",
    "we've already written into a function.\n",
    "\n",
    "Functions are reusable, self-contained pieces of code that are called with a\n",
    "single command. They can be designed to accept arguments as input and return\n",
    "values, but they don't need to do either. Variables declared inside functions\n",
    "only exist while the function is running and if a variable within the function\n",
    "(a local variable) has the same name as a variable somewhere else in the code,\n",
    "the local variable hides but doesn't overwrite the other.\n",
    "\n",
    "Every method used in Python (for example, `print`) is a function, and the\n",
    "libraries we import (say, `pandas`) are a collection of functions. We will only\n",
    "use functions that are housed within the same code that uses them, but it's also\n",
    "easy to write functions that can be used by different programs.\n",
    "\n",
    "Functions are declared following this general structure:"
   ]
  },
  {
   "cell_type": "code",
   "execution_count": null,
   "metadata": {},
   "outputs": [],
   "source": [
    "def this_is_the_function_name(input_argument1, input_argument2):\n",
    "\n",
    "    # The body of the function is indented\n",
    "    # This function prints the two arguments to screen\n",
    "    print('The function arguments are:', input_argument1, input_argument2, '(this is done inside the function!)')\n",
    "\n",
    "    # And returns their product\n",
    "    return input_argument1 * input_argument2"
   ]
  },
  {
   "cell_type": "markdown",
   "metadata": {
    "collapsed": true
   },
   "source": [
    "The function declaration starts with the word `def`, followed by the function\n",
    "name and any arguments in parenthesis, and ends in a colon. The body of the\n",
    "function is indented just like loops are. If the function returns something when\n",
    "it is called, it includes a return statement at the end.\n",
    "\n",
    "This is how we call the function:"
   ]
  },
  {
   "cell_type": "code",
   "execution_count": null,
   "metadata": {},
   "outputs": [],
   "source": [
    "product_of_inputs = this_is_the_function_name(2,5)"
   ]
  },
  {
   "cell_type": "code",
   "execution_count": null,
   "metadata": {},
   "outputs": [],
   "source": [
    "print('Their product is:', product_of_inputs, '(this is done outside the function!)')"
   ]
  },
  {
   "cell_type": "markdown",
   "metadata": {
    "collapsed": true
   },
   "source": [
    "## Challenge - Functions\n",
    "\n",
    "1. Change the values of the arguments in the function and check its output"
   ]
  },
  {
   "cell_type": "code",
   "execution_count": null,
   "metadata": {},
   "outputs": [],
   "source": []
  },
  {
   "cell_type": "markdown",
   "metadata": {
    "collapsed": true
   },
   "source": [
    "2. Try calling the function by giving it the wrong number of arguments (not 2)\n",
    "   or not assigning the function call to a variable (no `product_of_inputs =`)    "
   ]
  },
  {
   "cell_type": "code",
   "execution_count": null,
   "metadata": {},
   "outputs": [],
   "source": []
  },
  {
   "cell_type": "markdown",
   "metadata": {
    "collapsed": true
   },
   "source": [
    "3. Declare a variable inside the function and test to see where it exists (Hint:\n",
    "  can you print it from outside the function?)"
   ]
  },
  {
   "cell_type": "code",
   "execution_count": null,
   "metadata": {},
   "outputs": [],
   "source": []
  },
  {
   "cell_type": "markdown",
   "metadata": {
    "collapsed": true
   },
   "source": [
    "4. Explore what happens when a variable both inside and outside the function\n",
    "   have the same name. What happens to the global variable when you change the\n",
    "  value of the local variable?"
   ]
  },
  {
   "cell_type": "code",
   "execution_count": null,
   "metadata": {},
   "outputs": [],
   "source": []
  },
  {
   "cell_type": "markdown",
   "metadata": {
    "collapsed": true
   },
   "source": [
    "We can now turn our code for saving yearly data files into a function. There are\n",
    "many different \"chunks\" of this code that we can turn into functions, and we can\n",
    "even create functions that call other functions inside them. Let's first write a\n",
    "function that separates data for just one year and saves that data to a file:"
   ]
  },
  {
   "cell_type": "code",
   "execution_count": null,
   "metadata": {},
   "outputs": [],
   "source": [
    "def one_year_csv_writer(this_year, all_data):\n",
    "    \"\"\"\n",
    "    Writes a csv file for data from a given year.\n",
    "\n",
    "    this_year --- year for which data is extracted\n",
    "    all_data --- DataFrame with multi-year data\n",
    "    \"\"\"\n",
    "\n",
    "    # Select data for the year\n",
    "    surveys_year = all_data[all_data.year == this_year]\n",
    "\n",
    "    # Write the new DataFrame to a csv file\n",
    "    filename = 'data/yearly_files/function_surveys' + str(this_year) + '.csv'\n",
    "    surveys_year.to_csv(filename)"
   ]
  },
  {
   "cell_type": "markdown",
   "metadata": {
    "collapsed": true
   },
   "source": [
    "The text between the two sets of triple double quotes is called a docstring and\n",
    "contains the documentation for the function. It does nothing when the function\n",
    "is running and is therefore not necessary, but it is good practice to include\n",
    "docstrings as a reminder of what the code does. Docstrings in functions also\n",
    "become part of their 'official' documentation:\n",
    "\n",
    "\n",
    "one_year_csv_writer?\n",
    "\n",
    "\n",
    "\n",
    "\n",
    "one_year_csv_writer(2002, surveys_df)\n",
    "\n",
    "\n",
    "\n",
    "We changed the root of the name of the CSV file so we can distinguish it from\n",
    "the one we wrote before. Check the `yearly_files` directory for the file. Did it\n",
    "do what you expect?\n",
    "\n",
    "What we really want to do, though, is create files for multiple years without\n",
    "having to request them one by one. Let's write another function that replaces\n",
    "the entire For loop by simply looping through a sequence of years and repeatedly\n",
    "calling the function we just wrote, `one_year_csv_writer`:"
   ]
  },
  {
   "cell_type": "code",
   "execution_count": null,
   "metadata": {},
   "outputs": [],
   "source": [
    "def yearly_data_csv_writer(start_year, end_year, all_data):\n",
    "    \"\"\"\n",
    "    Writes separate CSV files for each year of data.\n",
    "\n",
    "    start_year --- the first year of data we want\n",
    "    end_year --- the last year of data we want\n",
    "    all_data --- DataFrame with multi-year data\n",
    "    \"\"\"\n",
    "\n",
    "    # \"end_year\" is the last year of data we want to pull, so we loop to end_year+1\n",
    "    for year in range(start_year, end_year+1):\n",
    "        one_year_csv_writer(year, all_data)"
   ]
  },
  {
   "cell_type": "markdown",
   "metadata": {
    "collapsed": true
   },
   "source": [
    "Because people will naturally expect that the end year for the files is the last\n",
    "year with data, the for loop inside the function ends at `end_year + 1`. By\n",
    "writing the entire loop into a function, we've made a reusable tool for whenever\n",
    "we need to break a large data file into yearly files. Because we can specify the\n",
    "first and last year for which we want files, we can even use this function to\n",
    "create files for a subset of the years available. This is how we call this\n",
    "function:"
   ]
  },
  {
   "cell_type": "code",
   "execution_count": null,
   "metadata": {},
   "outputs": [],
   "source": [
    "# Load the data into a DataFrame\n",
    "surveys_df = pd.read_csv('data/surveys.csv')\n",
    "\n",
    "# Create CSV files\n",
    "yearly_data_csv_writer(1977, 2002, surveys_df)"
   ]
  },
  {
   "cell_type": "markdown",
   "metadata": {
    "collapsed": true
   },
   "source": [
    "### Challenge- More functions\n",
    "\n",
    "1. Add two arguments to the functions we wrote that take the path of the\n",
    "    directory where the files will be written and the root of the file name.\n",
    "    Create a new set of files with a different name in a different directory."
   ]
  },
  {
   "cell_type": "code",
   "execution_count": null,
   "metadata": {},
   "outputs": [],
   "source": []
  },
  {
   "cell_type": "markdown",
   "metadata": {
    "collapsed": true
   },
   "source": [
    "2. How could you use the function `yearly_data_csv_writer` to create a CSV file\n",
    "    for only one year? (Hint: think about the syntax for `range`)"
   ]
  },
  {
   "cell_type": "code",
   "execution_count": null,
   "metadata": {},
   "outputs": [],
   "source": []
  },
  {
   "cell_type": "markdown",
   "metadata": {
    "collapsed": true
   },
   "source": [
    "3. Make the functions return a list of the files they have written. There are\n",
    "    many ways you can do this (and you should try them all!): either of the\n",
    "    functions can print to screen, either can use a return statement to give back\n",
    "    numbers or strings to their function call, or you can use some combination of\n",
    "    the two. You could also try using the `os` library to list the contents of\n",
    "    directories."
   ]
  },
  {
   "cell_type": "code",
   "execution_count": null,
   "metadata": {},
   "outputs": [],
   "source": []
  },
  {
   "cell_type": "markdown",
   "metadata": {
    "collapsed": true
   },
   "source": [
    "4. Explore what happens when variables are declared inside each of the functions\n",
    "    versus in the main (non-indented) body of your code. What is the scope of the\n",
    "    variables (where are they visible)? What happens when they have the same name\n",
    "   but are given different values?"
   ]
  },
  {
   "cell_type": "code",
   "execution_count": null,
   "metadata": {},
   "outputs": [],
   "source": []
  },
  {
   "cell_type": "markdown",
   "metadata": {
    "collapsed": true
   },
   "source": [
    "The functions we wrote demand that we give them a value for every argument.\n",
    "Ideally, we would like these functions to be as flexible and independent as\n",
    "possible. Let's modify the function `yearly_data_csv_writer` so that the\n",
    "`start_year` and `end_year` default to the full range of the data if they are\n",
    "not supplied by the user. Arguments can be given default values with an equal\n",
    "sign in the function declaration. Any arguments in the function without default\n",
    "values (here, `all_data`) is a required argument and MUST come before the\n",
    "argument with default values (which are optional in the function call)."
   ]
  },
  {
   "cell_type": "code",
   "execution_count": null,
   "metadata": {},
   "outputs": [],
   "source": [
    "def yearly_data_arg_test(all_data, start_year = 1977, end_year = 2002):\n",
    "    \"\"\"\n",
    "    Modified from yearly_data_csv_writer to test default argument values!\n",
    "\n",
    "    start_year --- the first year of data we want --- default: 1977\n",
    "    end_year --- the last year of data we want --- default: 2002\n",
    "    all_data --- DataFrame with multi-year data\n",
    "    \"\"\"\n",
    "\n",
    "    return start_year, end_year\n",
    "\n",
    "\n",
    "start,end = yearly_data_arg_test (surveys_df, 1988, 1993)\n",
    "print('Both optional arguments:\\t', start, end)\n",
    "\n",
    "start,end = yearly_data_arg_test (surveys_df)\n",
    "print('Default values:\\t\\t\\t', start, end)"
   ]
  },
  {
   "cell_type": "markdown",
   "metadata": {
    "collapsed": true
   },
   "source": [
    "The \"\\t\" in the `print` statements are tabs, used to make the text align and be\n",
    "easier to read.\n",
    "\n",
    "But what if our dataset doesn't start in 1977 and end in 2002? We can modify the\n",
    "function so that it looks for the start and end years in the dataset if those\n",
    "dates are not provided:"
   ]
  },
  {
   "cell_type": "code",
   "execution_count": null,
   "metadata": {},
   "outputs": [],
   "source": [
    "def yearly_data_arg_test(all_data, start_year = None, end_year = None):\n",
    "    \"\"\"\n",
    "    Modified from yearly_data_csv_writer to test default argument values!\n",
    "\n",
    "    start_year --- the first year of data we want --- default: None - check all_data\n",
    "    end_year --- the last year of data we want --- default: None - check all_data\n",
    "    all_data --- DataFrame with multi-year data\n",
    "    \"\"\"\n",
    "\n",
    "    if start_year is None:\n",
    "        start_year = min(all_data.year)\n",
    "    if end_year is None:\n",
    "        end_year = max(all_data.year)\n",
    "\n",
    "    return start_year, end_year\n",
    "\n",
    "start,end = yearly_data_arg_test (surveys_df, 1988, 1993)\n",
    "print('Both optional arguments:\\t', start, end)\n",
    "\n",
    "start,end = yearly_data_arg_test (surveys_df)\n",
    "print('Default values:\\t\\t\\t', start, end)"
   ]
  },
  {
   "cell_type": "markdown",
   "metadata": {
    "collapsed": true
   },
   "source": [
    "The default values of the `start_year` and `end_year` arguments in the function\n",
    "`yearly_data_arg_test` are now `None`. This is a build-it constant in Python\n",
    "that indicates the absence of a value - essentially, that the variable exists in\n",
    "the namespace of the function (the directory of variable names) but that it\n",
    "doesn't correspond to any existing object."
   ]
  },
  {
   "cell_type": "markdown",
   "metadata": {
    "collapsed": true
   },
   "source": [
    "### If Statements\n",
    "\n",
    "The body of the test function now has two conditionals (if statements) that\n",
    "check the values of `start_year` and `end_year`. If statements execute a segment\n",
    "of code when some condition is met. They commonly look something like this:"
   ]
  },
  {
   "cell_type": "code",
   "execution_count": null,
   "metadata": {},
   "outputs": [],
   "source": [
    "a = 5\n",
    "\n",
    "if a<0:  # Meets first condition?\n",
    "\n",
    "    # if a IS less than zero\n",
    "    print('a is a negative number')\n",
    "\n",
    "elif a>0:  # Did not meet first condition. meets second condition?\n",
    "\n",
    "    # if a ISN'T less than zero and IS more than zero\n",
    "    print('a is a positive number')\n",
    "\n",
    "else:  # Met neither condition\n",
    "\n",
    "    # if a ISN'T less than zero and ISN'T more than zero\n",
    "    print('a must be zero!')"
   ]
  },
  {
   "cell_type": "code",
   "execution_count": null,
   "metadata": {},
   "outputs": [],
   "source": [
    "Change the value of `a` to see how this function works. The statement `elif`\n",
    "means \"else if\", and all of the conditional statements must end in a colon."
   ]
  },
  {
   "cell_type": "markdown",
   "metadata": {
    "collapsed": true
   },
   "source": [
    "The if statements in the function `yearly_data_arg_test` check whether there is an\n",
    "object associated with the variable names `start_year` and `end_year`. If those\n",
    "variables are `None`, the if statements return the boolean `True` and execute whatever\n",
    "is in their body. On the other hand, if the variable names are associated with\n",
    "some value (they got a number in the function call), the if statements return `False`\n",
    "and do not execute. The opposite conditional statements, which would return\n",
    "`True` if the variables were associated with objects (if they had received value\n",
    "in the function call), would be `if start_year` and `if end_year`.\n",
    "\n",
    "As we've written it so far, the function `yearly_data_arg_test` associates\n",
    "values in the function call with arguments in the function definition just based\n",
    "in their order. If the function gets only two values in the function call, the\n",
    "first one will be associated with `all_data` and the second with `start_year`,\n",
    "regardless of what we intended them to be. We can get around this problem by\n",
    "calling the function using keyword arguments, where each of the arguments in the\n",
    "function definition is associated with a keyword and the function call passes\n",
    "values to the function using these keywords:"
   ]
  },
  {
   "cell_type": "code",
   "execution_count": null,
   "metadata": {},
   "outputs": [],
   "source": [
    "start,end = yearly_data_arg_test (surveys_df)\n",
    "print('Default values:\\t\\t\\t', start, end)\n",
    "\n",
    "start,end = yearly_data_arg_test (surveys_df, 1988, 1993)\n",
    "print('No keywords:\\t\\t\\t', start, end)\n",
    "\n",
    "start,end = yearly_data_arg_test (surveys_df, start_year = 1988, end_year = 1993)\n",
    "print('Both keywords, in order:\\t', start, end)\n",
    "\n",
    "start,end = yearly_data_arg_test (surveys_df, end_year = 1993, start_year = 1988)\n",
    "print('Both keywords, flipped:\\t\\t', start, end)\n",
    "\n",
    "start,end = yearly_data_arg_test (surveys_df, start_year = 1988)\n",
    "print('One keyword, default end:\\t', start, end)\n",
    "\n",
    "start,end = yearly_data_arg_test (surveys_df, end_year = 1993)\n",
    "print('One keyword, default start:\\t', start, end)"
   ]
  }
 ],
 "metadata": {
  "kernelspec": {
   "display_name": "Python 3",
   "language": "python",
   "name": "python3"
  },
  "language_info": {
   "codemirror_mode": {
    "name": "ipython",
    "version": 3
   },
   "file_extension": ".py",
   "mimetype": "text/x-python",
   "name": "python",
   "nbconvert_exporter": "python",
   "pygments_lexer": "ipython3",
   "version": "3.7.0"
  }
 },
 "nbformat": 4,
 "nbformat_minor": 2
}
