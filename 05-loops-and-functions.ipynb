{
  "cells": [
    {
      "metadata": {
        "collapsed": true
      },
      "cell_type": "markdown",
      "source": "## Data Workflows and Automation\n\n### Questions:\n    - \"Can I automate operations in Python?\"\n    - \"What are functions and why should I use them?\"\n### Objectives:\n    - \"Describe why for loops are used in Python.\"\n    - \"Employ for loops to automate data analysis.\"\n    - \"Write unique filenames in Python.\"\n    - \"Build reusable code in Python.\"\n    - \"Write functions using conditional statements (if, then, else).\"\n---\n\nSo far, we've used Python and the pandas library to explore and manipulate\nindividual datasets by hand, much like we would do in a spreadsheet. The beauty\nof using a programming language like Python, though, comes from the ability to\nautomate data processing through the use of loops and functions.\n\n### For loops\n\nLoops allow us to repeat a workflow (or series of actions) a given number of\ntimes or while some condition is true. We would use a loop to automatically\nprocess data that's stored in multiple files (daily values with one file per\nyear, for example). Loops lighten our work load by performing repeated tasks\nwithout our direct involvement and make it less likely that we'll introduce\nerrors by making mistakes while processing each file by hand.\n\nLet's write a simple for loop that simulates what a kid might see during a\nvisit to the zoo:"
    },
    {
      "metadata": {
        "trusted": true
      },
      "cell_type": "code",
      "source": "animals = ['lion', 'tiger', 'crocodile', 'vulture', 'hippo']\nprint(animals)",
      "execution_count": null,
      "outputs": []
    },
    {
      "metadata": {
        "trusted": true
      },
      "cell_type": "code",
      "source": "for creature in animals:\n    print(creature)",
      "execution_count": null,
      "outputs": []
    },
    {
      "metadata": {
        "collapsed": true
      },
      "cell_type": "markdown",
      "source": "The line defining the loop must start with `for` and end with a colon, and the\nbody of the loop must be indented.\n\nIn this example, `creature` is the loop variable that takes the value of the next\nentry in `animals` every time the loop goes around. We can call the loop variable\nanything we like. After the loop finishes, the loop variable will still exist\nand will have the value of the last entry in the collection:"
    },
    {
      "metadata": {
        "trusted": true
      },
      "cell_type": "code",
      "source": "animals = ['lion', 'tiger', 'crocodile', 'vulture', 'hippo']\nfor creature in animals:\n    pass",
      "execution_count": null,
      "outputs": []
    },
    {
      "metadata": {
        "trusted": true
      },
      "cell_type": "code",
      "source": "print('The loop variable is now: ' + creature)",
      "execution_count": null,
      "outputs": []
    },
    {
      "metadata": {
        "collapsed": true
      },
      "cell_type": "markdown",
      "source": "We are not asking Python to print the value of the loop variable anymore, but\nthe for loop still runs and the value of `creature` changes on each pass through\nthe loop. The statement `pass` in the body of the loop just means \"do nothing\".\n\n### Challenge - Loops\n\n1. What happens if we don't include the `pass` statement?"
    },
    {
      "metadata": {
        "trusted": true
      },
      "cell_type": "code",
      "source": "",
      "execution_count": null,
      "outputs": []
    },
    {
      "metadata": {
        "collapsed": true
      },
      "cell_type": "markdown",
      "source": "2. Rewrite the loop so that the animals are separated by commas, not new lines\n(Hint: You can concatenate strings using a plus sign. For example,\n `print(string1 + string2)` outputs 'string1string2')."
    },
    {
      "metadata": {
        "trusted": true
      },
      "cell_type": "code",
      "source": "",
      "execution_count": null,
      "outputs": []
    },
    {
      "metadata": {
        "collapsed": true
      },
      "cell_type": "markdown",
      "source": "### Automating data processing using For Loops\n\nThe file we've been using so far, `surveys.csv`, contains 25 years of data and is\nvery large. We would like to separate the data for each year into a separate\nfile.\n\nLet's start by making a new directory inside the folder `data` to store all of\nthese files using the module `os`:"
    },
    {
      "metadata": {
        "trusted": true
      },
      "cell_type": "code",
      "source": "import os\n\nos.mkdir('data/yearly_files')",
      "execution_count": null,
      "outputs": []
    },
    {
      "metadata": {
        "collapsed": true
      },
      "cell_type": "markdown",
      "source": "The command `os.mkdir` is equivalent to `mkdir` in the shell. Just so we are\nsure, we can check that the new directory was created within the `data` folder:"
    },
    {
      "metadata": {
        "trusted": true
      },
      "cell_type": "code",
      "source": "os.listdir('data')",
      "execution_count": null,
      "outputs": []
    },
    {
      "metadata": {
        "collapsed": true
      },
      "cell_type": "markdown",
      "source": "The command `os.listdir` is equivalent to `ls` in the shell.\n\nIn previous lessons, we saw how to use the library pandas to load the species\ndata into memory as a DataFrame, how to select a subset of the data using some\ncriteria, and how to write the DataFrame into a CSV file. Let's write a script\nthat performs those three steps in sequence for the year 2002:"
    },
    {
      "metadata": {
        "trusted": true
      },
      "cell_type": "code",
      "source": "import pandas as pd\n\n# Load the data into a DataFrame\nsurveys_df = pd.read_csv('data/surveys.csv')\n\n# Select only data for the year 2002\nsurveys2002 = surveys_df[surveys_df.year == 2002]\n\n# Write the new DataFrame to a CSV file\nsurveys2002.to_csv('data/yearly_files/surveys2002.csv')",
      "execution_count": null,
      "outputs": []
    },
    {
      "metadata": {
        "collapsed": true
      },
      "cell_type": "markdown",
      "source": "To create yearly data files, we could repeat the last two commands over and\nover, once for each year of data. Repeating code is neither elegant nor\npractical, and is very likely to introduce errors into your code. We want to\nturn what we've just written into a loop that repeats the last two commands for\nevery year in the dataset.\n\nLet's start by writing a loop that simply prints the names of the files we want\nto create - the dataset we are using covers 1977 through 2002, and we'll create\na separate file for each of those years. Listing the filenames is a good way to\nconfirm that the loop is behaving as we expect.\n\nWe have seen that we can loop over a list of items, so we need a list of years\nto loop over. We can get the years in our DataFrame with:"
    },
    {
      "metadata": {
        "trusted": true
      },
      "cell_type": "code",
      "source": "surveys_df['year']",
      "execution_count": null,
      "outputs": []
    },
    {
      "metadata": {
        "collapsed": true
      },
      "cell_type": "markdown",
      "source": "but we want only unique years, which we can get using the `unique` method\nwhich we have already seen."
    },
    {
      "metadata": {
        "trusted": true
      },
      "cell_type": "code",
      "source": "surveys_df['year'].unique()",
      "execution_count": null,
      "outputs": []
    },
    {
      "metadata": {
        "collapsed": true
      },
      "cell_type": "markdown",
      "source": "Putting this into our for loop we get"
    },
    {
      "metadata": {
        "trusted": true,
        "scrolled": true
      },
      "cell_type": "code",
      "source": "for year in surveys_df['year'].unique():\n    filename='data/yearly_files/surveys' + str(year) + '.csv'\n    print(filename)",
      "execution_count": null,
      "outputs": []
    },
    {
      "metadata": {
        "collapsed": true
      },
      "cell_type": "markdown",
      "source": "We can now add the rest of the steps we need to create separate text files:"
    },
    {
      "metadata": {
        "trusted": true
      },
      "cell_type": "code",
      "source": "# Load the data into a DataFrame\nsurveys_df = pd.read_csv('data/surveys.csv')\n\nfor year in surveys_df['year'].unique():\n\n    # Select data for the year\n    surveys_year = surveys_df[surveys_df.year == year]\n\n    # Write the new DataFrame to a CSV file\n    filename = 'data/yearly_files/surveys' + str(year) + '.csv'\n    surveys_year.to_csv(filename)",
      "execution_count": null,
      "outputs": []
    },
    {
      "metadata": {
        "collapsed": true
      },
      "cell_type": "markdown",
      "source": "Look inside the `yearly_files` directory and check a couple of the files you\njust created to confirm that everything worked as expected.\n\n### Writing Unique FileNames\n\nNotice that the code above created a unique filename for each year."
    },
    {
      "metadata": {
        "trusted": true
      },
      "cell_type": "code",
      "source": "filename = 'data/yearly_files/surveys' + str(year) + '.csv'",
      "execution_count": null,
      "outputs": []
    },
    {
      "metadata": {
        "collapsed": true
      },
      "cell_type": "markdown",
      "source": "Let's break down the parts of this name:\n\n* The first part is simply some text that specifies the directory to store our\n  data file in (data/yearly_files/) and the first part of the file name\n  (surveys): `'data/yearly_files/surveys'`\n* We can concatenate this with the value of a variable, in this case `year` by\n  using the plus `+` sign and the variable we want to add to the file name: `+\n  str(year)`\n* Then we add the file extension as another text string: `+ '.csv'`\n\nNotice that we use single quotes to add text strings. The variable is not\nsurrounded by quotes. This code produces the string\n`data/yearly_files/surveys2002.csv` which contains the path to the new filename\nAND the file name itself.\n\n### Challenge - Modifying loops\n\n1. Some of the surveys you saved are missing data (they have null values that\n show up as NaN - Not A Number - in the DataFrames and do not show up in the text\n files). Modify the for loop so that the entries with null values are not\n included in the yearly files."
    },
    {
      "metadata": {
        "trusted": true
      },
      "cell_type": "code",
      "source": "os.mkdir('data/yearly_files_no_NaN')",
      "execution_count": null,
      "outputs": []
    },
    {
      "metadata": {
        "collapsed": true
      },
      "cell_type": "markdown",
      "source": "2. Let's say you only want to look at data from a given multiple of years. How would you modify your loop in order to generate a data file for only every 5th year, starting from 1977?"
    },
    {
      "metadata": {
        "trusted": true
      },
      "cell_type": "code",
      "source": "os.mkdir('data/every_five_years_files')",
      "execution_count": null,
      "outputs": []
    },
    {
      "metadata": {
        "collapsed": true
      },
      "cell_type": "markdown",
      "source": "3. Instead of splitting out the data by years, a colleague wants to do analyses each species separately. How would you write a unique CSV file for each species?"
    },
    {
      "metadata": {
        "trusted": true
      },
      "cell_type": "code",
      "source": "os.mkdir('data/species_files')",
      "execution_count": null,
      "outputs": []
    },
    {
      "metadata": {
        "collapsed": true
      },
      "cell_type": "markdown",
      "source": "### Building reusable and modular code with functions\n\nSuppose that separating large data files into individual yearly files is a task\nthat we frequently have to perform. We could write a **for loop** like the one above\nevery time we needed to do it but that would be time consuming and error prone.\nA more elegant solution would be to create a reusable tool that performs this\ntask with minimum input from the user. To do this, we are going to turn the code\nwe've already written into a function.\n\nFunctions are reusable, self-contained pieces of code that are called with a\nsingle command. They can be designed to accept arguments as input and return\nvalues, but they don't need to do either. Variables declared inside functions\nonly exist while the function is running and if a variable within the function\n(a local variable) has the same name as a variable somewhere else in the code,\nthe local variable hides but doesn't overwrite the other.\n\nEvery method used in Python (for example, `print`) is a function, and the\nlibraries we import (say, `pandas`) are a collection of functions. We will only\nuse functions that are housed within the same code that uses them, but it's also\neasy to write functions that can be used by different programs.\n\nFunctions are declared following this general structure:"
    },
    {
      "metadata": {
        "trusted": true
      },
      "cell_type": "code",
      "source": "def this_is_the_function_name(input_argument1, input_argument2):\n\n    # The body of the function is indented\n    # This function prints the two arguments to screen\n    print('The function arguments are:', input_argument1, input_argument2, '(this is done inside the function!)')\n\n    # And returns their product\n    return input_argument1 * input_argument2",
      "execution_count": null,
      "outputs": []
    },
    {
      "metadata": {
        "collapsed": true
      },
      "cell_type": "markdown",
      "source": "The function declaration starts with the word `def`, followed by the function\nname and any arguments in parenthesis, and ends in a colon. The body of the\nfunction is indented just like loops are. If the function returns something when\nit is called, it includes a return statement at the end.\n\nThis is how we call the function:"
    },
    {
      "metadata": {
        "trusted": true
      },
      "cell_type": "code",
      "source": "product_of_inputs = this_is_the_function_name(2,5)",
      "execution_count": null,
      "outputs": []
    },
    {
      "metadata": {
        "trusted": true
      },
      "cell_type": "code",
      "source": "print('Their product is:', product_of_inputs, '(this is done outside the function!)')",
      "execution_count": null,
      "outputs": []
    },
    {
      "metadata": {
        "collapsed": true
      },
      "cell_type": "markdown",
      "source": "## Challenge - Functions\n\n1. Change the values of the arguments in the function and check its output"
    },
    {
      "metadata": {
        "trusted": true
      },
      "cell_type": "code",
      "source": "",
      "execution_count": null,
      "outputs": []
    },
    {
      "metadata": {
        "collapsed": true
      },
      "cell_type": "markdown",
      "source": "2. Try calling the function by giving it the wrong number of arguments (not 2)\n   or not assigning the function call to a variable (no `product_of_inputs =`)    "
    },
    {
      "metadata": {
        "trusted": true
      },
      "cell_type": "code",
      "source": "",
      "execution_count": null,
      "outputs": []
    },
    {
      "metadata": {
        "collapsed": true
      },
      "cell_type": "markdown",
      "source": "3. Declare a variable inside the function and test to see where it exists (Hint:\n  can you print it from outside the function?)"
    },
    {
      "metadata": {
        "trusted": true
      },
      "cell_type": "code",
      "source": "",
      "execution_count": null,
      "outputs": []
    },
    {
      "metadata": {
        "collapsed": true
      },
      "cell_type": "markdown",
      "source": "4. Explore what happens when a variable both inside and outside the function\n   have the same name. What happens to the global variable when you change the\n  value of the local variable?"
    },
    {
      "metadata": {
        "trusted": true
      },
      "cell_type": "code",
      "source": "",
      "execution_count": null,
      "outputs": []
    },
    {
      "metadata": {
        "collapsed": true
      },
      "cell_type": "markdown",
      "source": "We can now turn our code for saving yearly data files into a function. There are\nmany different \"chunks\" of this code that we can turn into functions, and we can\neven create functions that call other functions inside them. Let's first write a\nfunction that separates data for just one year and saves that data to a file:"
    },
    {
      "metadata": {
        "trusted": true
      },
      "cell_type": "code",
      "source": "def one_year_csv_writer(this_year, all_data):\n    \"\"\"\n    Writes a csv file for data from a given year.\n\n    this_year --- year for which data is extracted\n    all_data --- DataFrame with multi-year data\n    \"\"\"\n\n    # Select data for the year\n    surveys_year = all_data[all_data.year == this_year]\n\n    # Write the new DataFrame to a csv file\n    filename = 'data/yearly_files/function_surveys' + str(this_year) + '.csv'\n    surveys_year.to_csv(filename)",
      "execution_count": null,
      "outputs": []
    },
    {
      "metadata": {
        "collapsed": true
      },
      "cell_type": "markdown",
      "source": "The text between the two sets of triple double quotes is called a docstring and\ncontains the documentation for the function. It does nothing when the function\nis running and is therefore not necessary, but it is good practice to include\ndocstrings as a reminder of what the code does. Docstrings in functions also\nbecome part of their 'official' documentation:\n\n\none_year_csv_writer?\n\n\n\n\none_year_csv_writer(2002, surveys_df)\n\n\n\nWe changed the root of the name of the CSV file so we can distinguish it from\nthe one we wrote before. Check the `yearly_files` directory for the file. Did it\ndo what you expect?\n\nWhat we really want to do, though, is create files for multiple years without\nhaving to request them one by one. Let's write another function that replaces\nthe entire For loop by simply looping through a sequence of years and repeatedly\ncalling the function we just wrote, `one_year_csv_writer`:"
    },
    {
      "metadata": {
        "trusted": true
      },
      "cell_type": "code",
      "source": "def yearly_data_csv_writer(start_year, end_year, all_data):\n    \"\"\"\n    Writes separate CSV files for each year of data.\n\n    start_year --- the first year of data we want\n    end_year --- the last year of data we want\n    all_data --- DataFrame with multi-year data\n    \"\"\"\n\n    # \"end_year\" is the last year of data we want to pull, so we loop to end_year+1\n    for year in range(start_year, end_year+1):\n        one_year_csv_writer(year, all_data)",
      "execution_count": null,
      "outputs": []
    },
    {
      "metadata": {
        "collapsed": true
      },
      "cell_type": "markdown",
      "source": "Because people will naturally expect that the end year for the files is the last\nyear with data, the for loop inside the function ends at `end_year + 1`. By\nwriting the entire loop into a function, we've made a reusable tool for whenever\nwe need to break a large data file into yearly files. Because we can specify the\nfirst and last year for which we want files, we can even use this function to\ncreate files for a subset of the years available. This is how we call this\nfunction:"
    },
    {
      "metadata": {
        "trusted": true
      },
      "cell_type": "code",
      "source": "# Load the data into a DataFrame\nsurveys_df = pd.read_csv('data/surveys.csv')\n\n# Create CSV files\nyearly_data_csv_writer(1977, 2002, surveys_df)",
      "execution_count": null,
      "outputs": []
    },
    {
      "metadata": {
        "collapsed": true
      },
      "cell_type": "markdown",
      "source": "### Challenge- More functions\n\n1. Add two arguments to the functions we wrote that take the path of the\n    directory where the files will be written and the root of the file name.\n    Create a new set of files with a different name in a different directory."
    },
    {
      "metadata": {
        "trusted": true
      },
      "cell_type": "code",
      "source": "",
      "execution_count": null,
      "outputs": []
    },
    {
      "metadata": {
        "collapsed": true
      },
      "cell_type": "markdown",
      "source": "2. How could you use the function `yearly_data_csv_writer` to create a CSV file\n    for only one year? (Hint: think about the syntax for `range`)"
    },
    {
      "metadata": {
        "trusted": true
      },
      "cell_type": "code",
      "source": "",
      "execution_count": null,
      "outputs": []
    },
    {
      "metadata": {
        "collapsed": true
      },
      "cell_type": "markdown",
      "source": "3. Make the functions return a list of the files they have written. There are\n    many ways you can do this (and you should try them all!): either of the\n    functions can print to screen, either can use a return statement to give back\n    numbers or strings to their function call, or you can use some combination of\n    the two. You could also try using the `os` library to list the contents of\n    directories."
    },
    {
      "metadata": {
        "trusted": true
      },
      "cell_type": "code",
      "source": "",
      "execution_count": null,
      "outputs": []
    },
    {
      "metadata": {
        "collapsed": true
      },
      "cell_type": "markdown",
      "source": "4. Explore what happens when variables are declared inside each of the functions\n    versus in the main (non-indented) body of your code. What is the scope of the\n    variables (where are they visible)? What happens when they have the same name\n   but are given different values?"
    },
    {
      "metadata": {
        "trusted": true
      },
      "cell_type": "code",
      "source": "",
      "execution_count": null,
      "outputs": []
    },
    {
      "metadata": {
        "collapsed": true
      },
      "cell_type": "markdown",
      "source": "The functions we wrote demand that we give them a value for every argument.\nIdeally, we would like these functions to be as flexible and independent as\npossible. Let's modify the function `yearly_data_csv_writer` so that the\n`start_year` and `end_year` default to the full range of the data if they are\nnot supplied by the user. Arguments can be given default values with an equal\nsign in the function declaration. Any arguments in the function without default\nvalues (here, `all_data`) is a required argument and MUST come before the\nargument with default values (which are optional in the function call)."
    },
    {
      "metadata": {
        "trusted": true
      },
      "cell_type": "code",
      "source": "def yearly_data_arg_test(all_data, start_year = 1977, end_year = 2002):\n    \"\"\"\n    Modified from yearly_data_csv_writer to test default argument values!\n\n    start_year --- the first year of data we want --- default: 1977\n    end_year --- the last year of data we want --- default: 2002\n    all_data --- DataFrame with multi-year data\n    \"\"\"\n\n    return start_year, end_year\n\n\nstart,end = yearly_data_arg_test (surveys_df, 1988, 1993)\nprint('Both optional arguments:\\t', start, end)\n\nstart,end = yearly_data_arg_test (surveys_df)\nprint('Default values:\\t\\t\\t', start, end)",
      "execution_count": null,
      "outputs": []
    },
    {
      "metadata": {
        "collapsed": true
      },
      "cell_type": "markdown",
      "source": "The \"\\t\" in the `print` statements are tabs, used to make the text align and be\neasier to read.\n\nBut what if our dataset doesn't start in 1977 and end in 2002? We can modify the\nfunction so that it looks for the start and end years in the dataset if those\ndates are not provided:"
    },
    {
      "metadata": {
        "trusted": true
      },
      "cell_type": "code",
      "source": "def yearly_data_arg_test(all_data, start_year = None, end_year = None):\n    \"\"\"\n    Modified from yearly_data_csv_writer to test default argument values!\n\n    start_year --- the first year of data we want --- default: None - check all_data\n    end_year --- the last year of data we want --- default: None - check all_data\n    all_data --- DataFrame with multi-year data\n    \"\"\"\n\n    if start_year is None:\n        start_year = min(all_data.year)\n    if end_year is None:\n        end_year = max(all_data.year)\n\n    return start_year, end_year\n\nstart,end = yearly_data_arg_test (surveys_df, 1988, 1993)\nprint('Both optional arguments:\\t', start, end)\n\nstart,end = yearly_data_arg_test (surveys_df)\nprint('Default values:\\t\\t\\t', start, end)",
      "execution_count": null,
      "outputs": []
    },
    {
      "metadata": {
        "collapsed": true
      },
      "cell_type": "markdown",
      "source": "The default values of the `start_year` and `end_year` arguments in the function\n`yearly_data_arg_test` are now `None`. This is a build-it constant in Python\nthat indicates the absence of a value - essentially, that the variable exists in\nthe namespace of the function (the directory of variable names) but that it\ndoesn't correspond to any existing object."
    },
    {
      "metadata": {
        "collapsed": true
      },
      "cell_type": "markdown",
      "source": "### If Statements\n\nThe body of the test function now has two conditionals (if statements) that\ncheck the values of `start_year` and `end_year`. If statements execute a segment\nof code when some condition is met. They commonly look something like this:"
    },
    {
      "metadata": {
        "trusted": true
      },
      "cell_type": "code",
      "source": "a = 5\n\nif a<0:  # Meets first condition?\n\n    # if a IS less than zero\n    print('a is a negative number')\n\nelif a>0:  # Did not meet first condition. meets second condition?\n\n    # if a ISN'T less than zero and IS more than zero\n    print('a is a positive number')\n\nelse:  # Met neither condition\n\n    # if a ISN'T less than zero and ISN'T more than zero\n    print('a must be zero!')",
      "execution_count": null,
      "outputs": []
    },
    {
      "metadata": {
        "trusted": true
      },
      "cell_type": "code",
      "source": "Change the value of `a` to see how this function works. The statement `elif`\nmeans \"else if\", and all of the conditional statements must end in a colon.",
      "execution_count": null,
      "outputs": []
    },
    {
      "metadata": {
        "collapsed": true
      },
      "cell_type": "markdown",
      "source": "The if statements in the function `yearly_data_arg_test` check whether there is an\nobject associated with the variable names `start_year` and `end_year`. If those\nvariables are `None`, the if statements return the boolean `True` and execute whatever\nis in their body. On the other hand, if the variable names are associated with\nsome value (they got a number in the function call), the if statements return `False`\nand do not execute. The opposite conditional statements, which would return\n`True` if the variables were associated with objects (if they had received value\nin the function call), would be `if start_year` and `if end_year`.\n\nAs we've written it so far, the function `yearly_data_arg_test` associates\nvalues in the function call with arguments in the function definition just based\nin their order. If the function gets only two values in the function call, the\nfirst one will be associated with `all_data` and the second with `start_year`,\nregardless of what we intended them to be. We can get around this problem by\ncalling the function using keyword arguments, where each of the arguments in the\nfunction definition is associated with a keyword and the function call passes\nvalues to the function using these keywords:"
    },
    {
      "metadata": {
        "trusted": true
      },
      "cell_type": "code",
      "source": "start,end = yearly_data_arg_test (surveys_df)\nprint('Default values:\\t\\t\\t', start, end)\n\nstart,end = yearly_data_arg_test (surveys_df, 1988, 1993)\nprint('No keywords:\\t\\t\\t', start, end)\n\nstart,end = yearly_data_arg_test (surveys_df, start_year = 1988, end_year = 1993)\nprint('Both keywords, in order:\\t', start, end)\n\nstart,end = yearly_data_arg_test (surveys_df, end_year = 1993, start_year = 1988)\nprint('Both keywords, flipped:\\t\\t', start, end)\n\nstart,end = yearly_data_arg_test (surveys_df, start_year = 1988)\nprint('One keyword, default end:\\t', start, end)\n\nstart,end = yearly_data_arg_test (surveys_df, end_year = 1993)\nprint('One keyword, default start:\\t', start, end)",
      "execution_count": null,
      "outputs": []
    }
  ],
  "metadata": {
    "kernelspec": {
      "name": "python36",
      "display_name": "Python 3.6",
      "language": "python"
    },
    "language_info": {
      "mimetype": "text/x-python",
      "nbconvert_exporter": "python",
      "name": "python",
      "pygments_lexer": "ipython3",
      "version": "3.6.6",
      "file_extension": ".py",
      "codemirror_mode": {
        "version": 3,
        "name": "ipython"
      }
    }
  },
  "nbformat": 4,
  "nbformat_minor": 2
}