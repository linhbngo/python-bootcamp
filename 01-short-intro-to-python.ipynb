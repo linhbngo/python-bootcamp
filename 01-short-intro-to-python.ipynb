{
  "cells": [
    {
      "metadata": {
        "collapsed": true
      },
      "cell_type": "markdown",
      "source": "## Short Introduction to Programming in Python\n\n#### Questions:\n    - \"What is Python?\"\n    - \"Why should I learn Python?\"\n    \n#### Objectives:\n    - \"Describe the advantages of using programming vs. completing repetitive tasks by hand.\"\n    - \"Define the following data types in Python: strings, integers, and floats.\"\n    - \"Perform mathematical operations in Python using basic operators.\"\n    - \"Define the following as it relates to Python: lists, tuples, and dictionaries.\"\n\n#### Keypoints:\n    - \"Python is an interpreted language which can be used interactively (executing one command at a time) or in scripting mode (executing a series of commands saved in file).\"\n    - \"One can assign a value to a variable in Python. Those variables can be of several types, such as string, integer, floating point and complex numbers.\"\n    - \"Lists and tuples are similar in that they are ordered lists of elements; they differ in that a tuple is immutable (cannot be changed).\"\n    - \"Dictionaries are unordered data structures that provide mappings between keys and values.\""
    },
    {
      "metadata": {
        "collapsed": true
      },
      "cell_type": "markdown",
      "source": "## Interpreter\n\nPython is an interpreted language which can be used in two ways:\n\n* \"Interactively\": when you use it as an \"advanced calculator\" executing\n  one command at a time. \n\n* \"Scripting\" Mode: executing a series of \"commands\" saved in text file,\n  usually with a `.py` extension after the name of your file.\n  \nWe focus on the interactive mode of Python, performed through the context of Jupyter notebook, in today's bootcamp"
    },
    {
      "metadata": {
        "trusted": true
      },
      "cell_type": "code",
      "source": "# This is an interactive cell in Jyputer notebook.\n# The lines starting with # are comments and do not affect the Python statements\n# Click the Run buntton on the tool bar to execute a shell.\nx = 2\nx",
      "execution_count": null,
      "outputs": []
    },
    {
      "metadata": {
        "trusted": true
      },
      "cell_type": "code",
      "source": "# You can also execute a shell by pressing Shift-Enter\n2 + 2",
      "execution_count": null,
      "outputs": []
    },
    {
      "metadata": {
        "trusted": true
      },
      "cell_type": "code",
      "source": "# You can also execute a shell by pressing Ctrl-Enter\n3 * 3",
      "execution_count": null,
      "outputs": []
    },
    {
      "metadata": {},
      "cell_type": "markdown",
      "source": "*What is the different between Shift-Enter and Ctrl-Enter?*"
    },
    {
      "metadata": {
        "collapsed": true
      },
      "cell_type": "markdown",
      "source": "## Introduction to Python built-in data types\n\n### Strings, integers, and floats\n\nOne of the most basic things we can do in Python is assign values to variables:"
    },
    {
      "metadata": {
        "trusted": true
      },
      "cell_type": "code",
      "source": "text = \"Data Carpentry\"  # An example of a string\nnumber = 42  # An example of an integer\npi_value = 3.1415  # An example of a float",
      "execution_count": null,
      "outputs": []
    },
    {
      "metadata": {
        "collapsed": true
      },
      "cell_type": "markdown",
      "source": "Here we've assigned data to the variables `text`, `number` and `pi_value`,\nusing the assignment operator `=`. To review the value of a variable, we\ncan type the name of the variable into the interpreter and press Enter:"
    },
    {
      "metadata": {
        "trusted": true
      },
      "cell_type": "code",
      "source": "text",
      "execution_count": null,
      "outputs": []
    },
    {
      "metadata": {
        "collapsed": true
      },
      "cell_type": "markdown",
      "source": "Everything in Python has a type. To get the type of something, we can pass it\nto the built-in function `type`:"
    },
    {
      "metadata": {
        "trusted": true
      },
      "cell_type": "code",
      "source": "type(text)",
      "execution_count": null,
      "outputs": []
    },
    {
      "metadata": {
        "trusted": true
      },
      "cell_type": "code",
      "source": "type(number)",
      "execution_count": null,
      "outputs": []
    },
    {
      "metadata": {
        "trusted": true
      },
      "cell_type": "code",
      "source": "type(6.02)",
      "execution_count": null,
      "outputs": []
    },
    {
      "metadata": {
        "collapsed": true
      },
      "cell_type": "markdown",
      "source": "The variable `text` is of type `str`, short for \"string\". Strings hold\nsequences of characters, which can be letters, numbers, punctuation\nor more exotic forms of text (even emoji!).\n\nWe can also see the value of something using another built-in function, `print`:"
    },
    {
      "metadata": {
        "trusted": true
      },
      "cell_type": "code",
      "source": "print(text)",
      "execution_count": null,
      "outputs": []
    },
    {
      "metadata": {
        "trusted": true
      },
      "cell_type": "code",
      "source": "print(11)",
      "execution_count": null,
      "outputs": []
    },
    {
      "metadata": {
        "collapsed": true
      },
      "cell_type": "markdown",
      "source": "**Tip**: `print` and `type` are built-in functions in Python. Later in this\nlesson, we will introduce methods and user-defined functions. The Python\ndocumentation is excellent for reference on the differences between them."
    },
    {
      "metadata": {
        "collapsed": true
      },
      "cell_type": "markdown",
      "source": "### Operators\n\nWe can perform mathematical calculations in Python using the basic operators\n `+, -, /, *, %`:"
    },
    {
      "metadata": {
        "trusted": true
      },
      "cell_type": "code",
      "source": "2 + 2  # Addition",
      "execution_count": null,
      "outputs": []
    },
    {
      "metadata": {
        "trusted": true
      },
      "cell_type": "code",
      "source": "6 * 7  # Multiplication",
      "execution_count": null,
      "outputs": []
    },
    {
      "metadata": {
        "trusted": true
      },
      "cell_type": "code",
      "source": "2 ** 16  # Power",
      "execution_count": null,
      "outputs": []
    },
    {
      "metadata": {
        "trusted": true
      },
      "cell_type": "code",
      "source": "13 % 5  # Modulo",
      "execution_count": null,
      "outputs": []
    },
    {
      "metadata": {
        "collapsed": true
      },
      "cell_type": "markdown",
      "source": "We can also use comparison and logic operators:\n`<, >, ==, !=, <=, >=` and statements of identity such as\n`and, or, not`. The data type returned by this is\ncalled a _boolean_."
    },
    {
      "metadata": {
        "trusted": true
      },
      "cell_type": "code",
      "source": "3 > 4",
      "execution_count": null,
      "outputs": []
    },
    {
      "metadata": {
        "trusted": true
      },
      "cell_type": "code",
      "source": "True and True",
      "execution_count": null,
      "outputs": []
    },
    {
      "metadata": {
        "trusted": true
      },
      "cell_type": "code",
      "source": "True or False",
      "execution_count": null,
      "outputs": []
    },
    {
      "metadata": {
        "trusted": true
      },
      "cell_type": "code",
      "source": "True and False",
      "execution_count": null,
      "outputs": []
    },
    {
      "metadata": {
        "trusted": true
      },
      "cell_type": "code",
      "source": "False",
      "execution_count": null,
      "outputs": []
    },
    {
      "metadata": {
        "collapsed": true
      },
      "cell_type": "markdown",
      "source": "## Sequences: Lists and Tuples\n\n### Lists\n\n**Lists** are a common data structure to hold an ordered sequence of\nelements. Each element can be accessed by an index.  Note that Python\nindexes start with 0 instead of 1:"
    },
    {
      "metadata": {
        "trusted": true
      },
      "cell_type": "code",
      "source": "numbers = [1, 2, 3]\nnumbers[0]",
      "execution_count": null,
      "outputs": []
    },
    {
      "metadata": {
        "collapsed": true
      },
      "cell_type": "markdown",
      "source": "A `for` loop can be used to access the elements in a list or other Python data\nstructure one at a time:"
    },
    {
      "metadata": {
        "trusted": true
      },
      "cell_type": "code",
      "source": "for num in numbers:\n    print(num)",
      "execution_count": null,
      "outputs": []
    },
    {
      "metadata": {
        "collapsed": true
      },
      "cell_type": "markdown",
      "source": "**Indentation** is very important in Python. Note that the second line in the\nexample above is indented. \n\nTo add elements to the end of a list, we can use the `append` method. Methods\nare a way to interact with an object (a list, for example). We can invoke a\nmethod using the dot `.` followed by the method name and a list of arguments\nin parentheses. Let's look at an example using `append`:"
    },
    {
      "metadata": {
        "trusted": true
      },
      "cell_type": "code",
      "source": "numbers.append(4)\nprint(numbers)",
      "execution_count": null,
      "outputs": []
    },
    {
      "metadata": {
        "collapsed": true
      },
      "cell_type": "markdown",
      "source": "To find out what methods are available for an\nobject, we can use the built-in `help` command:"
    },
    {
      "metadata": {
        "trusted": true
      },
      "cell_type": "code",
      "source": "help(numbers)",
      "execution_count": null,
      "outputs": []
    },
    {
      "metadata": {
        "collapsed": true
      },
      "cell_type": "markdown",
      "source": "### Tuples\n\nA tuple is similar to a list in that it's an ordered sequence of elements.\nHowever, tuples can not be changed once created (they are \"immutable\"). Tuples\nare created by placing comma-separated values inside parentheses `()`."
    },
    {
      "metadata": {
        "trusted": true
      },
      "cell_type": "code",
      "source": "# Tuples use parentheses\na_tuple = (1, 2, 3)\nanother_tuple = ('blue', 'green', 'red')\n\n# Note: lists use square brackets\na_list = [1, 2, 3]",
      "execution_count": null,
      "outputs": []
    },
    {
      "metadata": {
        "collapsed": true
      },
      "cell_type": "markdown",
      "source": "## Challenge: Tuples _vs._ Lists\n1. What happens when you execute `a_list[1] = 5`?"
    },
    {
      "metadata": {
        "trusted": true
      },
      "cell_type": "code",
      "source": "",
      "execution_count": null,
      "outputs": []
    },
    {
      "metadata": {
        "collapsed": true
      },
      "cell_type": "markdown",
      "source": "2. What happens when you execute `a_tuple[2] = 5`?"
    },
    {
      "metadata": {
        "trusted": true
      },
      "cell_type": "code",
      "source": "",
      "execution_count": null,
      "outputs": []
    },
    {
      "metadata": {
        "collapsed": true
      },
      "cell_type": "markdown",
      "source": "3. What does `type(a_tuple)` tell you about `a_tuple`?"
    },
    {
      "metadata": {
        "trusted": true
      },
      "cell_type": "code",
      "source": "",
      "execution_count": null,
      "outputs": []
    },
    {
      "metadata": {
        "collapsed": true
      },
      "cell_type": "markdown",
      "source": "## Dictionaries\n\nA **dictionary** is a container that holds pairs of objects - keys and values."
    },
    {
      "metadata": {
        "trusted": true
      },
      "cell_type": "code",
      "source": "translation = {'one': 1, 'two': 2}\ntranslation['one']",
      "execution_count": null,
      "outputs": []
    },
    {
      "metadata": {
        "collapsed": true
      },
      "cell_type": "markdown",
      "source": "Dictionaries work a lot like lists - except that you index them with *keys*.\nYou can think about a key as a name for or a unique identifier for a set of values\nin the dictionary. Keys can only have particular types - they have to be\n\"hashable\". Strings and numeric types are acceptable, but lists aren't."
    },
    {
      "metadata": {
        "trusted": true
      },
      "cell_type": "code",
      "source": "rev = {1: 'one', 2: 'two'}\nrev[1]",
      "execution_count": null,
      "outputs": []
    },
    {
      "metadata": {
        "trusted": true
      },
      "cell_type": "code",
      "source": "bad = {[1, 2, 3]: 3}",
      "execution_count": null,
      "outputs": []
    },
    {
      "metadata": {
        "collapsed": true
      },
      "cell_type": "markdown",
      "source": "In Python, a \"Traceback\" is an multi-line error block printed out for the\nuser.\n\nTo add an item to the dictionary we assign a value to a new key:"
    },
    {
      "metadata": {
        "trusted": true
      },
      "cell_type": "code",
      "source": "rev = {1: 'one', 2: 'two'}\nrev[3] = 'three'\nrev",
      "execution_count": null,
      "outputs": []
    },
    {
      "metadata": {
        "collapsed": true
      },
      "cell_type": "markdown",
      "source": "Using `for` loops with dictionaries is a little more complicated. We can do\nthis in two ways:"
    },
    {
      "metadata": {
        "trusted": true
      },
      "cell_type": "code",
      "source": "for key, value in rev.items():\n    print(key, '->', value)",
      "execution_count": null,
      "outputs": []
    },
    {
      "metadata": {
        "trusted": true
      },
      "cell_type": "code",
      "source": "for key in rev.keys():\n    print(key, '->', rev[key])",
      "execution_count": null,
      "outputs": []
    },
    {
      "metadata": {
        "collapsed": true
      },
      "cell_type": "markdown",
      "source": "## Challenge: Changing dictionaries\n\n1. First, print the value of the `rev` dictionary to the screen."
    },
    {
      "metadata": {
        "trusted": true
      },
      "cell_type": "code",
      "source": "",
      "execution_count": null,
      "outputs": []
    },
    {
      "metadata": {
        "trusted": true
      },
      "cell_type": "code",
      "source": "2. Reassign the value that corresponds to the key `2` so that it no longer reads \"two\" but instead \"apple-sauce\".",
      "execution_count": null,
      "outputs": []
    },
    {
      "metadata": {
        "trusted": true
      },
      "cell_type": "code",
      "source": "",
      "execution_count": null,
      "outputs": []
    },
    {
      "metadata": {
        "trusted": true
      },
      "cell_type": "code",
      "source": "3. Print the value of `rev` to the screen again to see if the value has changed.",
      "execution_count": null,
      "outputs": []
    },
    {
      "metadata": {
        "trusted": true
      },
      "cell_type": "code",
      "source": "",
      "execution_count": null,
      "outputs": []
    },
    {
      "metadata": {
        "collapsed": true
      },
      "cell_type": "markdown",
      "source": "It is important to note that dictionaries are \"unordered\" and do not remember\nthe sequence of their items (i.e. the order in which key:value pairs were\nadded to the dictionary). Because of this, the order in which items are\nreturned from loops over dictionaries might appear random and can even change\nwith time."
    },
    {
      "metadata": {
        "collapsed": true
      },
      "cell_type": "markdown",
      "source": "## Functions\n\nDefining a section of code as a function in Python is done using the `def`\nkeyword. For example a function that takes two arguments and returns their sum\ncan be defined as:"
    },
    {
      "metadata": {
        "trusted": true
      },
      "cell_type": "code",
      "source": "def add_function(a, b):\n    result = a + b\n    return result\n\nz = add_function(20, 22)\nprint(z)",
      "execution_count": null,
      "outputs": []
    }
  ],
  "metadata": {
    "kernelspec": {
      "name": "python36",
      "display_name": "Python 3.6",
      "language": "python"
    },
    "language_info": {
      "mimetype": "text/x-python",
      "nbconvert_exporter": "python",
      "name": "python",
      "pygments_lexer": "ipython3",
      "version": "3.6.6",
      "file_extension": ".py",
      "codemirror_mode": {
        "version": 3,
        "name": "ipython"
      }
    }
  },
  "nbformat": 4,
  "nbformat_minor": 2
}