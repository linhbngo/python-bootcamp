{
 "cells": [
  {
   "cell_type": "markdown",
   "metadata": {},
   "source": [
    "Firts, we need to import the relevant libraries:\n",
    "- **pandas** for data analytics\n",
    "- **time** for time manipulation functions\n",
    "- **lxml** for working with HTML/XML text\n",
    "- **requests** for scaping web pages"
   ]
  },
  {
   "cell_type": "code",
   "execution_count": 1,
   "metadata": {},
   "outputs": [],
   "source": [
    "import pandas as pd \n",
    "import time as t\n",
    "from lxml import html \n",
    "import requests"
   ]
  },
  {
   "cell_type": "markdown",
   "metadata": {},
   "source": [
    "Assign an empty data frame to a variable called *reviews_df*"
   ]
  },
  {
   "cell_type": "code",
   "execution_count": 2,
   "metadata": {},
   "outputs": [],
   "source": [
    "reviews_df = pd.DataFrame()"
   ]
  },
  {
   "cell_type": "markdown",
   "metadata": {},
   "source": [
    "- Go to www.yelp.com. \n",
    "- Type in *Clemson, SC* in the **Near** box and click Search.\n",
    "- Copy the content inside the URL and paste it into an empty cell. The pasted text will look like this:\n",
    "\n",
    "https://www.yelp.com/search?find_desc=&find_loc=Clemson%2C+SC&ns=1\n",
    "\n",
    "- Each browser has a unique signature, presented by an attribute called *user agent*. Many websites do not like being scraped, and they distinguish between a browser visit and automated programs by *user agent*. \n",
    "\n",
    "- Open a browser and go to http://www.whatsmyua.info/?source=post_page---------------------------, then copy and paste content from the detected user-agent string box.\n",
    "\n",
    "Mozilla/5.0 (Macintosh; Intel Mac OS X 10_14_6) AppleWebKit/605.1.15 (KHTML, like Gecko) Version/12.1.2 Safari/605.1.15\n",
    "\n",
    "\n",
    "With this information, we can setup the variables for a web scape of restautants in Philly"
   ]
  },
  {
   "cell_type": "code",
   "execution_count": 3,
   "metadata": {},
   "outputs": [],
   "source": [
    "user_agent = 'Mozilla/5.0 (Macintosh; Intel Mac OS X 10_14_6) AppleWebKit/605.1.15 (KHTML, like Gecko) Version/12.1.2 Safari/605.1.15'"
   ]
  },
  {
   "cell_type": "code",
   "execution_count": 4,
   "metadata": {},
   "outputs": [],
   "source": [
    "headers = {'User-Agent': user_agent}"
   ]
  },
  {
   "cell_type": "code",
   "execution_count": 5,
   "metadata": {},
   "outputs": [],
   "source": [
    "searchlink = 'https://www.yelp.com/search?find_desc=&find_loc=Clemson%2C+SC&ns=1'"
   ]
  },
  {
   "cell_type": "code",
   "execution_count": 6,
   "metadata": {},
   "outputs": [],
   "source": [
    "page = requests.get(searchlink, headers = headers)\n",
    "parser = html.fromstring(page.content)"
   ]
  },
  {
   "cell_type": "markdown",
   "metadata": {},
   "source": [
    "Find the links for the restaurants listed from the page"
   ]
  },
  {
   "cell_type": "code",
   "execution_count": 7,
   "metadata": {},
   "outputs": [],
   "source": [
    "businesslink=parser.xpath('//a[@class=\"lemon--a__373c0__IEZFH link__373c0__29943 link-color--blue-dark__373c0__1mhJo link-size--inherit__373c0__2JXk5\"]')\n",
    "links = [l.get('href') for l in businesslink]"
   ]
  },
  {
   "cell_type": "code",
   "execution_count": 8,
   "metadata": {
    "scrolled": true
   },
   "outputs": [
    {
     "name": "stdout",
     "output_type": "stream",
     "text": [
      "/adredir?ad_business_id=TqjpftzjY8S5cSufT9oOIg&campaign_id=g8PX_TFRdvoRpyTUiwSHNg&click_origin=search_results&placement=above_search&redirect_url=https%3A%2F%2Fwww.yelp.com%2Fbiz%2Fclemson-wine-bar-clemson&request_id=8251eeb50a820bed&signature=1f5f654b19fcf71a43de679e7e6b8a8dc35ff54a448bd6fa5d40bdce5156bd4b&slot=0\n",
      "/adredir?ad_business_id=TqjpftzjY8S5cSufT9oOIg&campaign_id=g8PX_TFRdvoRpyTUiwSHNg&click_origin=read_more&placement=above_search&redirect_url=https%3A%2F%2Fwww.yelp.com%2Fbiz%2Fclemson-wine-bar-clemson%3Fhrid%3DGNxhRWE0O3b8gLaClu64JA&request_id=8251eeb50a820bed&signature=241a663f2704556a325b0d00fcba1179ff1b78d5f3f519be755b39791eeb4a87&slot=0\n",
      "/adredir?ad_business_id=P73t5YvJq252VY1-uDYuJw&campaign_id=AK5vDm-BGO7MYMkj0p6kpw&click_origin=search_results&placement=above_search&redirect_url=https%3A%2F%2Fwww.yelp.com%2Fbiz%2Flos-poblanos-six-mile-2&request_id=8251eeb50a820bed&signature=8ed839959e3630a257464047cb3ceeef2ecd41b67949052063ef48f26459ab32&slot=1\n",
      "/adredir?ad_business_id=P73t5YvJq252VY1-uDYuJw&campaign_id=AK5vDm-BGO7MYMkj0p6kpw&click_origin=read_more&placement=above_search&redirect_url=https%3A%2F%2Fwww.yelp.com%2Fbiz%2Flos-poblanos-six-mile-2&request_id=8251eeb50a820bed&signature=8ed839959e3630a257464047cb3ceeef2ecd41b67949052063ef48f26459ab32&slot=1\n",
      "/biz/yolk-asian-kitchen-clemson-3\n",
      "/biz/yolk-asian-kitchen-clemson-3?hrid=OVRxcyM0LEeRFaD9oXvBNQ\n",
      "/biz/all-in-coffee-shop-clemson\n",
      "/biz/all-in-coffee-shop-clemson?hrid=UO_gD5EKhs2pD4861aIyMA\n",
      "/biz/pot-belly-deli-clemson\n",
      "/biz/pot-belly-deli-clemson?hrid=HRlbXZXP0-86jaqKFg169A\n",
      "/biz/blue-heron-restaurant-and-sushi-bar-clemson\n",
      "/biz/blue-heron-restaurant-and-sushi-bar-clemson?hrid=V4UdQ5X11O85cZ87gbYVaQ\n",
      "/biz/your-pie-clemson\n",
      "/biz/your-pie-clemson?hrid=NUikO7Ce7oCAjqRd1aSuYg\n",
      "/biz/spill-the-beans-clemson-clemson\n",
      "/biz/spill-the-beans-clemson-clemson?hrid=7jrzne63VwCaTxRmheOcfg\n",
      "/biz/bake-and-cook-thai-restaurant-clemson\n",
      "/biz/bake-and-cook-thai-restaurant-clemson?hrid=BBi_aiian3j8ZpZDU1fSMQ\n",
      "/biz/calhoun-corners-restaurant-clemson\n",
      "/biz/calhoun-corners-restaurant-clemson?hrid=89q4PgBVsph6vo1UZc1qxQ\n",
      "/biz/todaro-pizza-clemson\n",
      "/biz/todaro-pizza-clemson?hrid=HEprVZuJJjSmbRaqiUlP0A\n",
      "/biz/loose-change-clemson\n",
      "/biz/loose-change-clemson?hrid=fu-itu7wlmiXJ1ttAm5MQg\n",
      "/adredir?ad_business_id=FOK4JEgCTT97bd5-HouEbQ&campaign_id=Vh63SoeziC0WytDvgTJ58Q&click_origin=search_results&placement=below_search&redirect_url=https%3A%2F%2Fwww.yelp.com%2Fbiz%2Fla-pizzeria-anderson&request_id=8251eeb50a820bed&signature=533c8233ef63e40b7e608aea226699b1f38b806f2561a643abef3b2dc54d0412&slot=0\n",
      "/adredir?ad_business_id=FOK4JEgCTT97bd5-HouEbQ&campaign_id=Vh63SoeziC0WytDvgTJ58Q&click_origin=read_more&placement=below_search&redirect_url=https%3A%2F%2Fwww.yelp.com%2Fbiz%2Fla-pizzeria-anderson&request_id=8251eeb50a820bed&signature=533c8233ef63e40b7e608aea226699b1f38b806f2561a643abef3b2dc54d0412&slot=0\n",
      "http://databyacxiom.com\n"
     ]
    }
   ],
   "source": [
    "for link in links:\n",
    "    print (link)"
   ]
  },
  {
   "cell_type": "markdown",
   "metadata": {},
   "source": [
    "List comprehension (Pythonic way of thinking!)"
   ]
  },
  {
   "cell_type": "code",
   "execution_count": 9,
   "metadata": {},
   "outputs": [
    {
     "name": "stdout",
     "output_type": "stream",
     "text": [
      "/biz/yolk-asian-kitchen-clemson-3\n",
      "/biz/all-in-coffee-shop-clemson\n",
      "/biz/pot-belly-deli-clemson\n",
      "/biz/blue-heron-restaurant-and-sushi-bar-clemson\n",
      "/biz/your-pie-clemson\n",
      "/biz/spill-the-beans-clemson-clemson\n",
      "/biz/bake-and-cook-thai-restaurant-clemson\n",
      "/biz/calhoun-corners-restaurant-clemson\n",
      "/biz/todaro-pizza-clemson\n",
      "/biz/loose-change-clemson\n"
     ]
    }
   ],
   "source": [
    "true_links = [link for link in links if link.startswith('/biz') and \\\n",
    "              not \"hrid\" in link]\n",
    "for link in true_links:\n",
    "    print (link)"
   ]
  },
  {
   "cell_type": "markdown",
   "metadata": {},
   "source": [
    "We need to create the URLs for these restaurants"
   ]
  },
  {
   "cell_type": "code",
   "execution_count": 10,
   "metadata": {},
   "outputs": [
    {
     "name": "stdout",
     "output_type": "stream",
     "text": [
      "https://www.yelp.com/biz/yolk-asian-kitchen-clemson-3\n",
      "https://www.yelp.com/biz/all-in-coffee-shop-clemson\n",
      "https://www.yelp.com/biz/pot-belly-deli-clemson\n",
      "https://www.yelp.com/biz/blue-heron-restaurant-and-sushi-bar-clemson\n",
      "https://www.yelp.com/biz/your-pie-clemson\n",
      "https://www.yelp.com/biz/spill-the-beans-clemson-clemson\n",
      "https://www.yelp.com/biz/bake-and-cook-thai-restaurant-clemson\n",
      "https://www.yelp.com/biz/calhoun-corners-restaurant-clemson\n",
      "https://www.yelp.com/biz/todaro-pizza-clemson\n",
      "https://www.yelp.com/biz/loose-change-clemson\n"
     ]
    }
   ],
   "source": [
    "urls = []\n",
    "\n",
    "for link in true_links:\n",
    "    url = 'https://www.yelp.com' + str(link)\n",
    "    print (url)\n",
    "    urls.append(url)"
   ]
  },
  {
   "cell_type": "markdown",
   "metadata": {},
   "source": [
    "Copy/paste one of the links to a browser tab to see where it takes you. \n",
    "\n",
    "This is only 10. What about the rest of them? "
   ]
  },
  {
   "cell_type": "code",
   "execution_count": 11,
   "metadata": {},
   "outputs": [
    {
     "name": "stdout",
     "output_type": "stream",
     "text": [
      "Page 1 of 9\n",
      "None\n"
     ]
    }
   ],
   "source": [
    "page_nums = '//span[@class=\"lemon--span__373c0__3997G text__373c0__2pB8f text-color--normal__373c0__K_MKN text-align--left__373c0__2pnx_\"]'\n",
    "pg = parser.xpath(page_nums)\n",
    "for p in pg:\n",
    "    print(p.text)"
   ]
  },
  {
   "cell_type": "code",
   "execution_count": 12,
   "metadata": {},
   "outputs": [
    {
     "name": "stdout",
     "output_type": "stream",
     "text": [
      "Page 1 of 9\n"
     ]
    }
   ],
   "source": [
    "print(pg[0].text)"
   ]
  },
  {
   "cell_type": "code",
   "execution_count": 13,
   "metadata": {},
   "outputs": [
    {
     "data": {
      "text/plain": [
       "['www', 'wcupa', 'edu']"
      ]
     },
     "execution_count": 13,
     "metadata": {},
     "output_type": "execute_result"
    }
   ],
   "source": [
    "s = \"www.wcupa.edu\"\n",
    "s.split('.')"
   ]
  },
  {
   "cell_type": "code",
   "execution_count": 14,
   "metadata": {},
   "outputs": [
    {
     "data": {
      "text/plain": [
       "['golden', 'ram']"
      ]
     },
     "execution_count": 14,
     "metadata": {},
     "output_type": "execute_result"
    }
   ],
   "source": [
    "t = 'golden ram'\n",
    "t.split()"
   ]
  },
  {
   "cell_type": "code",
   "execution_count": 15,
   "metadata": {},
   "outputs": [
    {
     "data": {
      "text/plain": [
       "['Page', '1', 'of', '9']"
      ]
     },
     "execution_count": 15,
     "metadata": {},
     "output_type": "execute_result"
    }
   ],
   "source": [
    "pg[0].text.split()"
   ]
  },
  {
   "cell_type": "code",
   "execution_count": 16,
   "metadata": {},
   "outputs": [
    {
     "data": {
      "text/plain": [
       "9"
      ]
     },
     "execution_count": 16,
     "metadata": {},
     "output_type": "execute_result"
    }
   ],
   "source": [
    "int(pg[0].text.split()[3])"
   ]
  },
  {
   "cell_type": "markdown",
   "metadata": {},
   "source": [
    "What is the pattern?\n",
    "\n",
    "https://www.yelp.com/search?find_desc=&find_loc=Clemson%2C+SC&ns=1\n",
    "https://www.yelp.com/search?find_desc=&find_loc=Clemson%2C%20SC&ns=1&start=10\n",
    "https://www.yelp.com/search?find_desc=&find_loc=Clemson%2C%20SC&ns=1&start=20\n",
    "\n",
    "Can we use + instead of %20?\n",
    "\n",
    "Let's make up an URL and test our patterns:\n",
    "https://www.yelp.com/search?find_desc=&find_loc=Clemson%2C+SC&ns=1&start=60\n"
   ]
  },
  {
   "cell_type": "markdown",
   "metadata": {},
   "source": [
    "Putting everything together!"
   ]
  },
  {
   "cell_type": "code",
   "execution_count": 17,
   "metadata": {
    "scrolled": false
   },
   "outputs": [
    {
     "name": "stdout",
     "output_type": "stream",
     "text": [
      "https://www.yelp.com/search?find_desc=&find_loc=Clemson%2C+SC&ns=1\n",
      "https://www.yelp.com/search?find_desc=&find_loc=Clemson%2C+SC&ns=1&start=10\n",
      "https://www.yelp.com/search?find_desc=&find_loc=Clemson%2C+SC&ns=1&start=20\n",
      "https://www.yelp.com/search?find_desc=&find_loc=Clemson%2C+SC&ns=1&start=30\n",
      "https://www.yelp.com/search?find_desc=&find_loc=Clemson%2C+SC&ns=1&start=40\n",
      "https://www.yelp.com/search?find_desc=&find_loc=Clemson%2C+SC&ns=1&start=50\n",
      "https://www.yelp.com/search?find_desc=&find_loc=Clemson%2C+SC&ns=1&start=60\n",
      "https://www.yelp.com/search?find_desc=&find_loc=Clemson%2C+SC&ns=1&start=70\n",
      "https://www.yelp.com/search?find_desc=&find_loc=Clemson%2C+SC&ns=1&start=80\n"
     ]
    }
   ],
   "source": [
    "import pandas as pd \n",
    "import time as t\n",
    "from lxml import html \n",
    "import requests\n",
    "\n",
    "user_agent = 'Mozilla/5.0 (Macintosh; Intel Mac OS X 10_14_6) AppleWebKit/605.1.15 (KHTML, like Gecko) Version/12.1.2 Safari/605.1.15'\n",
    "headers = {'User-Agent': user_agent}\n",
    "urls = []\n",
    "\n",
    "\n",
    "page_count = int(pg[0].text.split()[3])\n",
    "suffix = \"\"\n",
    "for i in range(1,(page_count + 1)):\n",
    "    searchlink = 'https://www.yelp.com/search?find_desc=&find_loc=Clemson%2C+SC&ns=1' + suffix\n",
    "    print(searchlink)\n",
    "    page = requests.get(searchlink, headers = headers)\n",
    "    parser = html.fromstring(page.content)\n",
    "    businesslink=parser.xpath('//a[@class=\"lemon--a__373c0__IEZFH link__373c0__29943 link-color--blue-dark__373c0__1mhJo link-size--inherit__373c0__2JXk5\"]')\n",
    "    links = [l.get('href') for l in businesslink]\n",
    "    true_links = [link for link in links if link.startswith('/biz') and not \"hrid\" in link]\n",
    "    for link in true_links:\n",
    "        url = 'https://www.yelp.com' + str(link)\n",
    "        urls.append(url)\n",
    "    t.sleep(4)\n",
    "    suffix = '&start=' + str(10 * i)"
   ]
  },
  {
   "cell_type": "code",
   "execution_count": 18,
   "metadata": {},
   "outputs": [
    {
     "name": "stdout",
     "output_type": "stream",
     "text": [
      "82\n"
     ]
    }
   ],
   "source": [
    "print(len(urls))"
   ]
  },
  {
   "cell_type": "code",
   "execution_count": 19,
   "metadata": {
    "scrolled": true
   },
   "outputs": [
    {
     "name": "stdout",
     "output_type": "stream",
     "text": [
      "https://www.yelp.com/biz/yolk-asian-kitchen-clemson-3\n",
      "https://www.yelp.com/biz/all-in-coffee-shop-clemson\n",
      "https://www.yelp.com/biz/pot-belly-deli-clemson\n",
      "https://www.yelp.com/biz/blue-heron-restaurant-and-sushi-bar-clemson\n",
      "https://www.yelp.com/biz/your-pie-clemson\n",
      "https://www.yelp.com/biz/spill-the-beans-clemson-clemson\n",
      "https://www.yelp.com/biz/bake-and-cook-thai-restaurant-clemson\n",
      "https://www.yelp.com/biz/calhoun-corners-restaurant-clemson\n",
      "https://www.yelp.com/biz/todaro-pizza-clemson\n",
      "https://www.yelp.com/biz/loose-change-clemson\n",
      "https://www.yelp.com/biz/zen-ramen-and-sushi-burrito-clemson\n",
      "https://www.yelp.com/biz/sardis-den-clemson-3\n",
      "https://www.yelp.com/biz/nicks-tavern-and-deli-clemson\n",
      "https://www.yelp.com/biz/pixie-and-bills-clemson-2\n",
      "https://www.yelp.com/biz/55-exchange-clemson\n",
      "https://www.yelp.com/biz/bgr-the-burger-joint-clemson\n",
      "https://www.yelp.com/biz/palmettos-smokehouse-and-oyster-bar-clemson\n",
      "https://www.yelp.com/biz/tiger-town-tavern-clemson\n",
      "https://www.yelp.com/biz/osaka-express-clemson\n",
      "https://www.yelp.com/biz/the-esso-club-clemson\n",
      "https://www.yelp.com/biz/tokyo-japanese-steak-house-and-sushi-bar-clemson\n",
      "https://www.yelp.com/biz/moe-joe-coffee-and-music-house-of-clemson-clemson\n",
      "https://www.yelp.com/biz/t-d-s-of-clemson-clemson\n",
      "https://www.yelp.com/biz/itsurwiener-restaurant-and-bar-clemson\n",
      "https://www.yelp.com/biz/china-express-clemson\n",
      "https://www.yelp.com/biz/el-jimador-mexican-restaurant-clemson\n",
      "https://www.yelp.com/biz/south-carolina-botanical-garden-clemson\n",
      "https://www.yelp.com/biz/mellow-mushroom-clemson-4\n",
      "https://www.yelp.com/biz/356-clemson\n",
      "https://www.yelp.com/biz/wings-over-clemson-clemson\n",
      "https://www.yelp.com/biz/waffle-house-clemson\n",
      "https://www.yelp.com/biz/clemson-confectioneries-clemson\n",
      "https://www.yelp.com/biz/mayberrys-clemson-clemson\n",
      "https://www.yelp.com/biz/backstreets-pub-and-grill-clemson\n",
      "https://www.yelp.com/biz/grouchos-deli-clemson-3\n",
      "https://www.yelp.com/biz/red-bowl-clemson\n",
      "https://www.yelp.com/biz/elkmont-tap-and-cellar-clemson\n",
      "https://www.yelp.com/biz/starbucks-clemson\n",
      "https://www.yelp.com/biz/jersey-mikes-subs-clemson-2\n",
      "https://www.yelp.com/biz/amici-clemson-clemson\n",
      "https://www.yelp.com/biz/ruby-tuesday-clemson\n",
      "https://www.yelp.com/biz/columbos-pizza-clemson\n",
      "https://www.yelp.com/biz/cook-out-clemson\n",
      "https://www.yelp.com/biz/chick-fil-a-clemson\n",
      "https://www.yelp.com/biz/4-paws-american-pub-clemson\n",
      "https://www.yelp.com/biz/sidewall-pizza-clemson\n",
      "https://www.yelp.com/biz/western-sizzlin-clemson\n",
      "https://www.yelp.com/biz/goobers-clemson\n",
      "https://www.yelp.com/biz/raising-canes-chicken-fingers-clemson\n",
      "https://www.yelp.com/biz/study-hall-clemson\n",
      "https://www.yelp.com/biz/ihop-clemson\n",
      "https://www.yelp.com/biz/the-alumni-restaurant-clemson\n",
      "https://www.yelp.com/biz/papa-johns-pizza-clemson\n",
      "https://www.yelp.com/biz/charleston-sports-pub-clemson\n",
      "https://www.yelp.com/biz/skin-thrashers-hotdogs-i-clemson\n",
      "https://www.yelp.com/biz/bojangles-clemson-2\n",
      "https://www.yelp.com/biz/zaxbys-chicken-fingers-and-buffalo-wings-clemson\n",
      "https://www.yelp.com/biz/insomnia-cookies-clemson\n",
      "https://www.yelp.com/biz/sloan-street-tap-room-clemson\n",
      "https://www.yelp.com/biz/jimmy-johns-clemson\n",
      "https://www.yelp.com/biz/moes-southwest-grill-clemson\n",
      "https://www.yelp.com/biz/mcalisters-deli-clemson\n",
      "https://www.yelp.com/biz/dunkin-donuts-clemson\n",
      "https://www.yelp.com/biz/chipotle-mexican-grill-clemson\n",
      "https://www.yelp.com/biz/pizza-hut-clemson\n",
      "https://www.yelp.com/biz/tcby-gateway-village-clemson\n",
      "https://www.yelp.com/biz/taco-bell-clemson\n",
      "https://www.yelp.com/biz/hibachi-grill-china-buffet-clemson\n",
      "https://www.yelp.com/biz/which-wich-clemson-2\n",
      "https://www.yelp.com/biz/skins-hotdogs-clemson\n",
      "https://www.yelp.com/biz/chick-fil-a-clemson-2\n",
      "https://www.yelp.com/biz/subway-clemson-2\n",
      "https://www.yelp.com/biz/new-china-super-buffet-clemson\n",
      "https://www.yelp.com/biz/boscobel-golf-club-pro-shop-pendleton\n",
      "https://www.yelp.com/biz/wendys-clemson-2\n",
      "https://www.yelp.com/biz/mcdonalds-clemson\n",
      "https://www.yelp.com/biz/long-john-silvers-clemson\n",
      "https://www.yelp.com/biz/dominos-pizza-clemson\n",
      "https://www.yelp.com/biz/kfc-clemson-3\n",
      "https://www.yelp.com/biz/habaneros-mexican-grill-clemson\n",
      "https://www.yelp.com/biz/crocs-clemson\n",
      "https://www.yelp.com/biz/panda-express-clemson\n"
     ]
    }
   ],
   "source": [
    "for item in urls:\n",
    "    print(item)"
   ]
  },
  {
   "cell_type": "markdown",
   "metadata": {},
   "source": [
    "## Challenge: \n",
    "\n",
    "Using this notebook, identify and print out the Yelp URL to all the restaurants in your hometown. "
   ]
  },
  {
   "cell_type": "code",
   "execution_count": null,
   "metadata": {},
   "outputs": [],
   "source": []
  }
 ],
 "metadata": {
  "kernelspec": {
   "display_name": "Python 3",
   "language": "python",
   "name": "python3"
  },
  "language_info": {
   "codemirror_mode": {
    "name": "ipython",
    "version": 3
   },
   "file_extension": ".py",
   "mimetype": "text/x-python",
   "name": "python",
   "nbconvert_exporter": "python",
   "pygments_lexer": "ipython3",
   "version": "3.7.3"
  }
 },
 "nbformat": 4,
 "nbformat_minor": 2
}
