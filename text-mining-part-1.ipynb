{
 "cells": [
  {
   "cell_type": "markdown",
   "metadata": {},
   "source": [
    "Firts, we need to import the relevant libraries:\n",
    "- **pandas** for data analytics\n",
    "- **time** for time manipulation functions\n",
    "- **lxml** for working with HTML/XML text\n",
    "- **requests** for scaping web pages"
   ]
  },
  {
   "cell_type": "code",
   "execution_count": null,
   "metadata": {},
   "outputs": [],
   "source": [
    "import pandas as pd \n",
    "import time as t\n",
    "from lxml import html \n",
    "import requests"
   ]
  },
  {
   "cell_type": "markdown",
   "metadata": {},
   "source": [
    "Assign an empty data frame to a variable called *reviews_df*"
   ]
  },
  {
   "cell_type": "code",
   "execution_count": null,
   "metadata": {},
   "outputs": [],
   "source": [
    "reviews_df = pd.DataFrame()"
   ]
  },
  {
   "cell_type": "markdown",
   "metadata": {},
   "source": [
    "- Go to www.yelp.com. \n",
    "- Type in *Clemson, SC* in the **Near** box and click Search.\n",
    "- Copy the content inside the URL and paste it into an empty cell. The pasted text will look like this:\n",
    "\n",
    "https://www.yelp.com/search?find_desc=&find_loc=Clemson%2C+SC&ns=1\n",
    "\n",
    "- Each browser has a unique signature, presented by an attribute called *user agent*. Many websites do not like being scraped, and they distinguish between a browser visit and automated programs by *user agent*. \n",
    "\n",
    "- Open a browser and go to http://www.whatsmyua.info/?source=post_page---------------------------, then copy and paste content from the detected user-agent string box.\n",
    "\n",
    "Mozilla/5.0 (Macintosh; Intel Mac OS X 10_14_6) AppleWebKit/605.1.15 (KHTML, like Gecko) Version/12.1.2 Safari/605.1.15\n",
    "\n",
    "\n",
    "With this information, we can setup the variables for a web scape of restautants in Philly"
   ]
  },
  {
   "cell_type": "code",
   "execution_count": null,
   "metadata": {},
   "outputs": [],
   "source": [
    "user_agent = 'Mozilla/5.0 (Macintosh; Intel Mac OS X 10_14_6) AppleWebKit/605.1.15 (KHTML, like Gecko) Version/12.1.2 Safari/605.1.15'"
   ]
  },
  {
   "cell_type": "code",
   "execution_count": null,
   "metadata": {},
   "outputs": [],
   "source": [
    "headers = {'User-Agent': user_agent}"
   ]
  },
  {
   "cell_type": "code",
   "execution_count": null,
   "metadata": {},
   "outputs": [],
   "source": [
    "searchlink = 'https://www.yelp.com/search?find_desc=&find_loc=Clemson%2C+SC&ns=1'"
   ]
  },
  {
   "cell_type": "code",
   "execution_count": null,
   "metadata": {},
   "outputs": [],
   "source": [
    "page = requests.get(searchlink, headers = headers)\n",
    "parser = html.fromstring(page.content)"
   ]
  },
  {
   "cell_type": "markdown",
   "metadata": {},
   "source": [
    "Find the links for the restaurants listed from the page"
   ]
  },
  {
   "cell_type": "code",
   "execution_count": null,
   "metadata": {},
   "outputs": [],
   "source": [
    "businesslink=parser.xpath('//a[@class=\"lemon--a__373c0__IEZFH link__373c0__29943 link-color--blue-dark__373c0__1mhJo link-size--inherit__373c0__2JXk5\"]')\n",
    "links = [l.get('href') for l in businesslink]"
   ]
  },
  {
   "cell_type": "code",
   "execution_count": null,
   "metadata": {
    "scrolled": true
   },
   "outputs": [],
   "source": [
    "for link in links:\n",
    "    print (link)"
   ]
  },
  {
   "cell_type": "markdown",
   "metadata": {},
   "source": [
    "List comprehension (Pythonic way of thinking!)"
   ]
  },
  {
   "cell_type": "code",
   "execution_count": null,
   "metadata": {},
   "outputs": [],
   "source": [
    "true_links = [link for link in links if link.startswith('/biz') and \\\n",
    "              not \"hrid\" in link]\n",
    "for link in true_links:\n",
    "    print (link)"
   ]
  },
  {
   "cell_type": "markdown",
   "metadata": {},
   "source": [
    "We need to create the URLs for these restaurants"
   ]
  },
  {
   "cell_type": "code",
   "execution_count": null,
   "metadata": {},
   "outputs": [],
   "source": [
    "urls = []\n",
    "\n",
    "for link in true_links:\n",
    "    url = 'https://www.yelp.com' + str(link)\n",
    "    print (url)\n",
    "    urls.append(url)"
   ]
  },
  {
   "cell_type": "markdown",
   "metadata": {},
   "source": [
    "Copy/paste one of the links to a browser tab to see where it takes you. \n",
    "\n",
    "This is only 10. What about the rest of them? "
   ]
  },
  {
   "cell_type": "code",
   "execution_count": null,
   "metadata": {},
   "outputs": [],
   "source": [
    "page_nums = '//span[@class=\"lemon--span__373c0__3997G text__373c0__2pB8f text-color--normal__373c0__K_MKN text-align--left__373c0__2pnx_\"]'\n",
    "pg = parser.xpath(page_nums)\n",
    "for p in pg:\n",
    "    print(p.text)"
   ]
  },
  {
   "cell_type": "code",
   "execution_count": null,
   "metadata": {},
   "outputs": [],
   "source": [
    "print(pg[0].text)"
   ]
  },
  {
   "cell_type": "code",
   "execution_count": null,
   "metadata": {},
   "outputs": [],
   "source": [
    "int(pg[0].text.split()[3])"
   ]
  },
  {
   "cell_type": "markdown",
   "metadata": {},
   "source": [
    "What is the pattern?\n",
    "\n",
    "https://www.yelp.com/search?find_desc=&find_loc=Clemson%2C+SC&ns=1\n",
    "https://www.yelp.com/search?find_desc=&find_loc=Clemson%2C%20SC&ns=1&start=10\n",
    "https://www.yelp.com/search?find_desc=&find_loc=Clemson%2C%20SC&ns=1&start=20\n",
    "\n",
    "Can we use + instead of %20?\n",
    "\n",
    "Let's make up an URL and test our patterns:\n",
    "https://www.yelp.com/search?find_desc=&find_loc=Clemson%2C+SC&ns=1&start=60\n"
   ]
  },
  {
   "cell_type": "markdown",
   "metadata": {},
   "source": [
    "Putting everything together!"
   ]
  },
  {
   "cell_type": "code",
   "execution_count": null,
   "metadata": {
    "scrolled": false
   },
   "outputs": [],
   "source": [
    "import pandas as pd \n",
    "import time as t\n",
    "from lxml import html \n",
    "import requests\n",
    "\n",
    "user_agent = 'Mozilla/5.0 (Macintosh; Intel Mac OS X 10_14_6) AppleWebKit/605.1.15 (KHTML, like Gecko) Version/12.1.2 Safari/605.1.15'\n",
    "headers = {'User-Agent': user_agent}\n",
    "urls = []\n",
    "\n",
    "\n",
    "page_count = int(pg[0].text.split()[3])\n",
    "suffix = \"\"\n",
    "for i in range(1,(page_count + 1)):\n",
    "    searchlink = 'https://www.yelp.com/search?find_desc=&find_loc=Clemson%2C+SC&ns=1' + suffix\n",
    "    print(searchlink)\n",
    "    page = requests.get(searchlink, headers = headers)\n",
    "    parser = html.fromstring(page.content)\n",
    "    businesslink=parser.xpath('//a[@class=\"lemon--a__373c0__IEZFH link__373c0__29943 link-color--blue-dark__373c0__1mhJo link-size--inherit__373c0__2JXk5\"]')\n",
    "    links = [l.get('href') for l in businesslink]\n",
    "    true_links = [link for link in links if link.startswith('/biz') and not \"hrid\" in link]\n",
    "    for link in true_links:\n",
    "        url = 'https://www.yelp.com' + str(link)\n",
    "        urls.append(url)\n",
    "    t.sleep(2)\n",
    "    suffix = '&start=' + str(10 * i)"
   ]
  },
  {
   "cell_type": "code",
   "execution_count": null,
   "metadata": {},
   "outputs": [],
   "source": [
    "print(len(urls))"
   ]
  },
  {
   "cell_type": "code",
   "execution_count": null,
   "metadata": {
    "scrolled": true
   },
   "outputs": [],
   "source": [
    "for item in urls:\n",
    "    print(item)"
   ]
  },
  {
   "cell_type": "markdown",
   "metadata": {},
   "source": [
    "## Challenge: \n",
    "\n",
    "Using this notebook, identify and print out the Yelp URL to all the restaurants in your hometown. "
   ]
  }
 ],
 "metadata": {
  "kernelspec": {
   "display_name": "Python 3",
   "language": "python",
   "name": "python3"
  },
  "language_info": {
   "codemirror_mode": {
    "name": "ipython",
    "version": 3
   },
   "file_extension": ".py",
   "mimetype": "text/x-python",
   "name": "python",
   "nbconvert_exporter": "python",
   "pygments_lexer": "ipython3",
   "version": "3.7.3"
  }
 },
 "nbformat": 4,
 "nbformat_minor": 2
}
