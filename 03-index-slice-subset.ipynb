{
  "cells": [
    {
      "metadata": {
        "collapsed": true
      },
      "cell_type": "markdown",
      "source": "## Indexing, Slicing and Subsetting DataFrames in Python\n\n### Questions:\n    - \"How can I access specific data within my data set?\"\n    - \"How can Python and Pandas help me to analyse my data?\"\n### Objectives:\n    - \"Describe what 0-based indexing is.\"\n    - \"Manipulate and extract data using column headings and index locations.\"\n    - \"Employ slicing to select sets of data from a DataFrame.\"\n    - \"Employ label and integer-based indexing to select ranges of data in a dataframe.\"\n    - \"Reassign values within subsets of a DataFrame.\"\n    - \"Create a copy of a DataFrame.\"\n    - \"Query / select a subset of data using a set of criteria using the following operators:\n       `=`, `!=`, `>`, `<`, `>=`, `<=`.\"\n    - \"Locate subsets of data using masks.\"\n    - \"Describe BOOLEAN objects in Python and manipulate data using BOOLEANs.\"\n\n### Keypoints:\n    - \"In Python, portions of data can be accessed using indices, slices, column headings, and\n       condition-based subsetting.\"\n    - \"Python uses 0-based indexing, in which the first element in a list, tuple or any other data\n       structure has an index of 0.\"\n    - \"Pandas enables common data exploration steps such as data indexing, slicing and conditional\n       subsetting.\"\n---\n\nIn the first episode of this lesson, we read a CSV file into a pandas' DataFrame. We learned how to:\n\n- save a DataFrame to a named object,\n- perform basic math on data,\n- calculate summary statistics, and\n- create plots based on the data we loaded into pandas.\n\nIn this lesson, we will explore ways to access different parts of the data using:\n\n- indexing,\n- slicing, and\n- subsetting.\n\n## Loading our data\n\nWe will continue to use the surveys dataset that we worked with in the last\nepisode. Let's reopen and read in the data again:"
    },
    {
      "metadata": {
        "trusted": true
      },
      "cell_type": "code",
      "source": "# Make sure pandas is loaded\nimport pandas as pd",
      "execution_count": null,
      "outputs": []
    },
    {
      "metadata": {
        "trusted": true
      },
      "cell_type": "code",
      "source": "# Read in the survey CSV\nsurveys_df = pd.read_csv(\"data/surveys.csv\")",
      "execution_count": null,
      "outputs": []
    },
    {
      "metadata": {
        "collapsed": true
      },
      "cell_type": "markdown",
      "source": "## Indexing and Slicing in Python\n\nWe often want to work with subsets of a **DataFrame** object. There are\ndifferent ways to accomplish this including: using labels (column headings),\nnumeric ranges, or specific x,y index locations.\n\n\n## Selecting data using Labels (Column Headings)\n\nWe use square brackets `[]` to select a subset of a Python object. For example,\nwe can select all data from a column named `species_id` from the `surveys_df`\nDataFrame by name. There are two ways to do this:"
    },
    {
      "metadata": {
        "trusted": true,
        "scrolled": true
      },
      "cell_type": "code",
      "source": "# TIP: use the .head() method we saw earlier to make output shorter\n# Method 1: select a 'subset' of the data using the column name\nsurveys_df['species_id']",
      "execution_count": null,
      "outputs": []
    },
    {
      "metadata": {
        "trusted": true,
        "scrolled": true
      },
      "cell_type": "code",
      "source": "# Method 2: use the column name as an 'attribute'; gives the same output\nsurveys_df.species_id",
      "execution_count": null,
      "outputs": []
    },
    {
      "metadata": {
        "collapsed": true
      },
      "cell_type": "markdown",
      "source": "We can also create a new object that contains only the data within the\n`species_id` column as follows:"
    },
    {
      "metadata": {
        "trusted": true
      },
      "cell_type": "code",
      "source": "# Creates an object, surveys_species, that only contains the `species_id` column\nsurveys_species = surveys_df['species_id']",
      "execution_count": null,
      "outputs": []
    },
    {
      "metadata": {
        "collapsed": true
      },
      "cell_type": "markdown",
      "source": "We can pass a list of column names too, as an index to select columns in that\norder. This is useful when we need to reorganize our data.\n\n**NOTE:** If a column name is not contained in the DataFrame, an exception\n(error) will be raised."
    },
    {
      "metadata": {
        "trusted": true
      },
      "cell_type": "code",
      "source": "# Select the species and plot columns from the DataFrame\nsurveys_df[['species_id', 'plot_id']]",
      "execution_count": null,
      "outputs": []
    },
    {
      "metadata": {
        "trusted": true
      },
      "cell_type": "code",
      "source": "# What happens when you flip the order?\nsurveys_df[['plot_id', 'species_id']]",
      "execution_count": null,
      "outputs": []
    },
    {
      "metadata": {
        "trusted": true
      },
      "cell_type": "code",
      "source": "# What happens if you ask for a column that doesn't exist?\nsurveys_df['speciess']",
      "execution_count": null,
      "outputs": []
    },
    {
      "metadata": {
        "collapsed": true
      },
      "cell_type": "markdown",
      "source": "Python tells us what type of error it is in the traceback, at the bottom it says\n`KeyError: 'speciess'` which means that `speciess` is not a valid column name (nor a valid key in\nthe related Python data type dictionary).\n\n## Extracting Range based Subsets: Slicing\n\n\nLet's remind ourselves that Python uses 0-based\nindexing. This means that the first element in an object is located at position\n0. This is different from other tools like R and Matlab that index elements\nwithin objects starting at 1."
    },
    {
      "metadata": {
        "trusted": true
      },
      "cell_type": "code",
      "source": "# Create a list of numbers:\na = [1, 2, 3, 4, 5]",
      "execution_count": null,
      "outputs": []
    },
    {
      "metadata": {
        "collapsed": true
      },
      "cell_type": "markdown",
      "source": "## Challenge - Extracting data\n1. What value does the code below return?\n\n`a[0]`\n\n2. How about this:\n\n`a[5]`\n\n3. In the example above, calling `a[5]` returns an error. Why is that?\n\n4. What about?\n\n`a[len(a)]`\n\n\n## Slicing Subsets of Rows in Python\n\nSlicing using the `[]` operator selects a set of rows and/or columns from a\nDataFrame. To slice out a set of rows, you use the following syntax:\n`data[start:stop]`. When slicing in pandas the start bound is included in the\noutput. The stop bound is one step BEYOND the row you want to select. So if you\nwant to select rows 0, 1 and 2 your code would look like this:"
    },
    {
      "metadata": {
        "trusted": true
      },
      "cell_type": "code",
      "source": "# Select rows 0, 1, 2 (row 3 is not selected)\nsurveys_df[0:3]",
      "execution_count": null,
      "outputs": []
    },
    {
      "metadata": {
        "collapsed": true
      },
      "cell_type": "markdown",
      "source": "The stop bound in Python is different from what you might be used to in\nlanguages like Matlab and R."
    },
    {
      "metadata": {
        "trusted": true
      },
      "cell_type": "code",
      "source": "# Select the first 5 rows (rows 0, 1, 2, 3, 4)\nsurveys_df[:5]",
      "execution_count": null,
      "outputs": []
    },
    {
      "metadata": {
        "trusted": true
      },
      "cell_type": "code",
      "source": "# Select the last element in the list\n# (the slice starts at the last element, and ends at the end of the list)\nsurveys_df[-1:]",
      "execution_count": null,
      "outputs": []
    },
    {
      "metadata": {
        "collapsed": true
      },
      "cell_type": "markdown",
      "source": "We can also reassign values within subsets of our DataFrame.\n\nBut before we do that, let's look at the difference between the concept of\ncopying objects and the concept of referencing objects in Python.\n\n## Copying Objects vs Referencing Objects in Python\n\nLet's start with an example:"
    },
    {
      "metadata": {
        "trusted": true
      },
      "cell_type": "code",
      "source": "# Using the 'copy() method'\ntrue_copy_surveys_df = surveys_df.copy()\n\n# Using the '=' operator\nref_surveys_df = surveys_df",
      "execution_count": null,
      "outputs": []
    },
    {
      "metadata": {
        "collapsed": true
      },
      "cell_type": "markdown",
      "source": "You might think that the code `ref_surveys_df = surveys_df` creates a fresh\ndistinct copy of the `surveys_df` DataFrame object. However, using the `=`\noperator in the simple statement `y = x` does **not** create a copy of our\nDataFrame. Instead, `y = x` creates a new variable `y` that references the\n**same** object that `x` refers to. To state this another way, there is only\n**one** object (the DataFrame), and both `x` and `y` refer to it.\n\nIn contrast, the `copy()` method for a DataFrame creates a true copy of the\nDataFrame.\n\nLet's look at what happens when we reassign the values within a subset of the\nDataFrame that references another DataFrame object:"
    },
    {
      "metadata": {
        "trusted": true
      },
      "cell_type": "code",
      "source": "# Assign the value `0` to the first three rows of data in the DataFrame\nref_surveys_df[0:3] = 0",
      "execution_count": null,
      "outputs": []
    },
    {
      "metadata": {
        "collapsed": true
      },
      "cell_type": "markdown",
      "source": "Let's try the following code:"
    },
    {
      "metadata": {
        "trusted": true
      },
      "cell_type": "code",
      "source": "# ref_surveys_df was created using the '=' operator\nref_surveys_df.head()",
      "execution_count": null,
      "outputs": []
    },
    {
      "metadata": {
        "trusted": true
      },
      "cell_type": "code",
      "source": "# surveys_df is the original dataframe\nsurveys_df.head()",
      "execution_count": null,
      "outputs": []
    },
    {
      "metadata": {
        "collapsed": true
      },
      "cell_type": "markdown",
      "source": "What is the difference between these two dataframes?\n\nWhen we assigned the first 3 columns the value of `0` using the\n`ref_surveys_df` DataFrame, the `surveys_df` DataFrame is modified too.\nRemember we created the reference `ref_survey_df` object above when we did\n`ref_survey_df = surveys_df`. Remember `surveys_df` and `ref_surveys_df`\nrefer to the same exact DataFrame object. If either one changes the object,\nthe other will see the same changes to the reference object.\n\nLet's create a brand new clean dataframe from\nthe original data CSV file."
    },
    {
      "metadata": {
        "trusted": true
      },
      "cell_type": "code",
      "source": "surveys_df = pd.read_csv(\"data/surveys.csv\")",
      "execution_count": null,
      "outputs": []
    },
    {
      "metadata": {
        "collapsed": true
      },
      "cell_type": "markdown",
      "source": "## Slicing Subsets of Rows and Columns in Python\n\nWe can select specific ranges of our data in both the row and column directions\nusing either label or integer-based indexing.\n\n- `loc` is primarily *label* based indexing. *Integers* may be used but\n  they are interpreted as a *label*.\n- `iloc` is primarily *integer* based indexing\n\nTo select a subset of rows **and** columns from our DataFrame, we can use the\n`iloc` method. For example, we can select month, day and year (columns 2, 3\nand 4 if we start counting at 1), like this:"
    },
    {
      "metadata": {
        "trusted": true
      },
      "cell_type": "code",
      "source": "# iloc[row slicing, column slicing]\nsurveys_df.iloc[0:3, 1:4]",
      "execution_count": null,
      "outputs": []
    },
    {
      "metadata": {
        "collapsed": true
      },
      "cell_type": "markdown",
      "source": "Notice that we asked for a slice from 0:3. This yielded 3 rows of data. When you\nask for 0:3, you are actually telling Python to start at index 0 and select rows\n0, 1, 2 **up to but not including 3**.\n\nLet's explore some other ways to index and select subsets of data:"
    },
    {
      "metadata": {
        "trusted": true
      },
      "cell_type": "code",
      "source": "# Select all columns for rows of index values 0 and 10\nsurveys_df.loc[[0, 10], :]",
      "execution_count": null,
      "outputs": []
    },
    {
      "metadata": {
        "trusted": true
      },
      "cell_type": "code",
      "source": "# What does this do?\nsurveys_df.loc[0, ['species_id', 'plot_id', 'weight']]",
      "execution_count": null,
      "outputs": []
    },
    {
      "metadata": {
        "trusted": true,
        "scrolled": true
      },
      "cell_type": "code",
      "source": "# What happens when you type the code below?\nsurveys_df.loc[[0, 10, 35549], :]",
      "execution_count": null,
      "outputs": []
    },
    {
      "metadata": {
        "collapsed": true
      },
      "cell_type": "markdown",
      "source": "**NOTE**: Labels must be found in the DataFrame or you will get a `KeyError`.\n\nIndexing by labels `loc` differs from indexing by integers `iloc`.\nWith `loc`, the both start bound and the stop bound are **inclusive**. When using\n`loc`, integers *can* be used, but the integers refer to the\nindex label and not the position. For example, using `loc` and select 1:4\nwill get a different result than using `iloc` to select rows 1:4.\n\nWe can also select a specific data value using a row and\ncolumn location within the DataFrame and `iloc` indexing:\n\n`dat.iloc[row, column]`"
    },
    {
      "metadata": {
        "trusted": true
      },
      "cell_type": "code",
      "source": "surveys_df.iloc[2, 6]",
      "execution_count": null,
      "outputs": []
    },
    {
      "metadata": {
        "trusted": true
      },
      "cell_type": "code",
      "source": "Remember that Python indexing begins at 0. So, the index location [2, 6]\nselects the element that is 3 rows down and 7 columns over in the DataFrame.",
      "execution_count": null,
      "outputs": []
    },
    {
      "metadata": {
        "collapsed": true
      },
      "cell_type": "markdown",
      "source": "## Challenge - Range\n\n1. What happens when you execute:\n\n    - `surveys_df[0:1]`\n    - `surveys_df[:4]`\n    - `surveys_df[:-1]`"
    },
    {
      "metadata": {
        "trusted": true
      },
      "cell_type": "code",
      "source": "# Validate your answers here",
      "execution_count": null,
      "outputs": []
    },
    {
      "metadata": {
        "collapsed": true
      },
      "cell_type": "markdown",
      "source": "2. What happens when you call:\n\n    - `surveys_df.iloc[0:4, 1:4]`\n    - `surveys_df.loc[0:4, 1:4]`"
    },
    {
      "metadata": {
        "trusted": true
      },
      "cell_type": "code",
      "source": "# Validate your answers here",
      "execution_count": null,
      "outputs": []
    },
    {
      "metadata": {
        "collapsed": true
      },
      "cell_type": "markdown",
      "source": "## Subsetting Data using Criteria\n\nWe can also select a subset of our data using criteria. For example, we can\nselect all rows that have a year value of 2002:"
    },
    {
      "metadata": {
        "trusted": true
      },
      "cell_type": "code",
      "source": "surveys_df[surveys_df.year == 2002]",
      "execution_count": null,
      "outputs": []
    },
    {
      "metadata": {
        "collapsed": true
      },
      "cell_type": "markdown",
      "source": "Or we can select all rows that do not contain the year 2002:"
    },
    {
      "metadata": {
        "trusted": true
      },
      "cell_type": "code",
      "source": "surveys_df[surveys_df.year != 2002]",
      "execution_count": null,
      "outputs": []
    },
    {
      "metadata": {
        "collapsed": true
      },
      "cell_type": "markdown",
      "source": "We can define sets of criteria too:"
    },
    {
      "metadata": {
        "trusted": true
      },
      "cell_type": "code",
      "source": "surveys_df[(surveys_df.year >= 1980) & (surveys_df.year <= 1985)]",
      "execution_count": null,
      "outputs": []
    },
    {
      "metadata": {
        "collapsed": true
      },
      "cell_type": "markdown",
      "source": "### Python Syntax Cheat Sheet\n\nWe can use the syntax below when querying data by criteria from a DataFrame.\nExperiment with selecting various subsets of the \"surveys\" data.\n\n* Equals: `==`\n* Not equals: `!=`\n* Greater than, less than: `>` or `<`\n* Greater than or equal to `>=`\n* Less than or equal to `<=`"
    },
    {
      "metadata": {
        "collapsed": true
      },
      "cell_type": "markdown",
      "source": "## Challenge - Queries\n\n1. Select a subset of rows in the `surveys_df` DataFrame that contain data from\n   the year 1999 and that contain weight values less than or equal to 8. How\n   many rows did you end up with? What did your neighbor get?"
    },
    {
      "metadata": {
        "trusted": true
      },
      "cell_type": "code",
      "source": "",
      "execution_count": null,
      "outputs": []
    },
    {
      "metadata": {
        "collapsed": true
      },
      "cell_type": "markdown",
      "source": "2. You can use the `isin` command in Python to query a DataFrame based upon a\n   list of values as follows:\n\n`surveys_df[surveys_df['species_id'].isin([listGoesHere])]`\n\nUse the `isin` function to find all plots that contain particular species\nin the \"surveys\" DataFrame. How many records contain these values?"
    },
    {
      "metadata": {
        "trusted": true
      },
      "cell_type": "code",
      "source": "",
      "execution_count": null,
      "outputs": []
    },
    {
      "metadata": {
        "collapsed": true
      },
      "cell_type": "markdown",
      "source": "3. Experiment with other queries. Create a query that finds all rows with a\n   weight value > or equal to 0."
    },
    {
      "metadata": {
        "trusted": true
      },
      "cell_type": "code",
      "source": "",
      "execution_count": null,
      "outputs": []
    },
    {
      "metadata": {
        "collapsed": true
      },
      "cell_type": "markdown",
      "source": "4. The `~` symbol in Python can be used to return the OPPOSITE of the\n   selection that you specify in Python. It is equivalent to **is not in**.\n   Write a query that selects all rows with sex NOT equal to 'M' or 'F' in\n   the \"surveys\" data."
    },
    {
      "metadata": {
        "trusted": true
      },
      "cell_type": "code",
      "source": "",
      "execution_count": null,
      "outputs": []
    },
    {
      "metadata": {
        "collapsed": true
      },
      "cell_type": "markdown",
      "source": "## Using masks to identify a specific condition\n\nA **mask** can be useful to locate where a particular subset of values exist or\ndon't exist - for example,  NaN, or \"Not a Number\" values. To understand masks,\nwe also need to understand `BOOLEAN` objects in Python.\n\nBoolean values include `True` or `False`. For example,\n\n```\n# Set x to 5\nx = 5\n\n# What does the code below return?\nx > 5\n\n# How about this?\nx == 5\n```\n\n\nWhen we ask Python whether `x` is greater than 5, it returns `False`.\nThis is Python's way to say \"No\". Indeed, the value of `x` is 5,\nand 5 is not greater than 5.\n\nTo create a boolean mask:\n\n- Set the True / False criteria (e.g. `values > 5 = True`)\n- Python will then assess each value in the object to determine whether the\n  value meets the criteria (True) or not (False).\n- Python creates an output object that is the same shape as the original\n  object, but with a `True` or `False` value for each index location.\n\nLet's try this out. Let's identify all locations in the survey data that have\nnull (missing or NaN) data values. We can use the `isnull` method to do this.\nThe `isnull` method will compare each cell with a null value. If an element\nhas a null value, it will be assigned a value of  `True` in the output object."
    },
    {
      "metadata": {
        "trusted": true,
        "scrolled": true
      },
      "cell_type": "code",
      "source": "pd.isnull(surveys_df)",
      "execution_count": null,
      "outputs": []
    },
    {
      "metadata": {
        "collapsed": true
      },
      "cell_type": "markdown",
      "source": "To select the rows where there are null values, we can use\nthe mask as an index to subset our data as follows:"
    },
    {
      "metadata": {
        "trusted": true
      },
      "cell_type": "code",
      "source": "# To select just the rows with NaN values, we can use the 'any()' method\nsurveys_df[pd.isnull(surveys_df).any(axis=1)]",
      "execution_count": null,
      "outputs": []
    },
    {
      "metadata": {
        "collapsed": true
      },
      "cell_type": "markdown",
      "source": "Note that the `weight` column of our DataFrame contains many `null` or `NaN`\nvalues. We will explore ways of dealing with this in Lesson 03.\n\nWe can run `isnull` on a particular column too. What does the code below do?"
    },
    {
      "metadata": {
        "trusted": true
      },
      "cell_type": "code",
      "source": "# What does this do?\nempty_weights = surveys_df[pd.isnull(surveys_df['weight'])]['weight']\nprint(empty_weights)",
      "execution_count": null,
      "outputs": []
    },
    {
      "metadata": {
        "collapsed": true
      },
      "cell_type": "markdown",
      "source": "Let's take a minute to look at the statement above. We are using the Boolean\nobject `pd.isnull(surveys_df['weight'])` as an index to `surveys_df`. We are\nasking Python to select rows that have a `NaN` value of weight."
    },
    {
      "metadata": {
        "collapsed": true
      },
      "cell_type": "markdown",
      "source": "## Challenge - Putting it all together\n\n1. Create a new DataFrame that only contains observations with sex values that\n   are **not** female or male. Assign each sex value in the new DataFrame to a\n   new value of 'x'. Determine the number of null values in the subset."
    },
    {
      "metadata": {
        "trusted": true
      },
      "cell_type": "code",
      "source": "",
      "execution_count": null,
      "outputs": []
    },
    {
      "metadata": {
        "collapsed": true
      },
      "cell_type": "markdown",
      "source": " 2. Create a new DataFrame that contains only observations that are of sex male\n   or female and where weight values are greater than 0. Create a stacked bar\n   plot of average weight by plot with male vs female values stacked for each\n   plot."
    },
    {
      "metadata": {
        "trusted": true
      },
      "cell_type": "code",
      "source": "",
      "execution_count": null,
      "outputs": []
    }
  ],
  "metadata": {
    "kernelspec": {
      "name": "python36",
      "display_name": "Python 3.6",
      "language": "python"
    },
    "language_info": {
      "mimetype": "text/x-python",
      "nbconvert_exporter": "python",
      "name": "python",
      "pygments_lexer": "ipython3",
      "version": "3.6.6",
      "file_extension": ".py",
      "codemirror_mode": {
        "version": 3,
        "name": "ipython"
      }
    }
  },
  "nbformat": 4,
  "nbformat_minor": 2
}